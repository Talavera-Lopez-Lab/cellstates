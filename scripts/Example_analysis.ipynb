{
 "cells": [
  {
   "cell_type": "code",
   "execution_count": 1,
   "metadata": {},
   "outputs": [],
   "source": [
    "import pandas as pd\n",
    "import numpy as np\n",
    "import cellstates as cs\n",
    "import matplotlib.pyplot as plt\n",
    "import matplotlib"
   ]
  },
  {
   "cell_type": "markdown",
   "metadata": {},
   "source": [
    "This notebook shows an example analysis of a dataset with cellstates. We are looking at 1937 pancreatic cells from one human donor. \n",
    "\n",
    "### Reference\n",
    "Baron, M. et al. A Single-Cell Transcriptomic Map of the Human and Mouse Pancreas Reveals Inter- and Intra-cell Population Structure. Cell Syst. 3, 346-360.e4 (2016)."
   ]
  },
  {
   "cell_type": "code",
   "execution_count": 2,
   "metadata": {},
   "outputs": [
    {
     "data": {
      "text/html": [
       "<div>\n",
       "<style scoped>\n",
       "    .dataframe tbody tr th:only-of-type {\n",
       "        vertical-align: middle;\n",
       "    }\n",
       "\n",
       "    .dataframe tbody tr th {\n",
       "        vertical-align: top;\n",
       "    }\n",
       "\n",
       "    .dataframe thead th {\n",
       "        text-align: right;\n",
       "    }\n",
       "</style>\n",
       "<table border=\"1\" class=\"dataframe\">\n",
       "  <thead>\n",
       "    <tr style=\"text-align: right;\">\n",
       "      <th></th>\n",
       "      <th>human1_lib1.final_cell_0001</th>\n",
       "      <th>human1_lib1.final_cell_0002</th>\n",
       "      <th>human1_lib1.final_cell_0003</th>\n",
       "      <th>human1_lib1.final_cell_0004</th>\n",
       "      <th>human1_lib1.final_cell_0005</th>\n",
       "      <th>human1_lib1.final_cell_0006</th>\n",
       "      <th>human1_lib1.final_cell_0007</th>\n",
       "      <th>human1_lib1.final_cell_0008</th>\n",
       "      <th>human1_lib1.final_cell_0009</th>\n",
       "      <th>human1_lib1.final_cell_0010</th>\n",
       "      <th>...</th>\n",
       "      <th>human1_lib3.final_cell_0731</th>\n",
       "      <th>human1_lib3.final_cell_0732</th>\n",
       "      <th>human1_lib3.final_cell_0733</th>\n",
       "      <th>human1_lib3.final_cell_0734</th>\n",
       "      <th>human1_lib3.final_cell_0735</th>\n",
       "      <th>human1_lib3.final_cell_0736</th>\n",
       "      <th>human1_lib3.final_cell_0737</th>\n",
       "      <th>human1_lib3.final_cell_0738</th>\n",
       "      <th>human1_lib3.final_cell_0739</th>\n",
       "      <th>human1_lib3.final_cell_0740</th>\n",
       "    </tr>\n",
       "    <tr>\n",
       "      <th>GeneID</th>\n",
       "      <th></th>\n",
       "      <th></th>\n",
       "      <th></th>\n",
       "      <th></th>\n",
       "      <th></th>\n",
       "      <th></th>\n",
       "      <th></th>\n",
       "      <th></th>\n",
       "      <th></th>\n",
       "      <th></th>\n",
       "      <th></th>\n",
       "      <th></th>\n",
       "      <th></th>\n",
       "      <th></th>\n",
       "      <th></th>\n",
       "      <th></th>\n",
       "      <th></th>\n",
       "      <th></th>\n",
       "      <th></th>\n",
       "      <th></th>\n",
       "      <th></th>\n",
       "    </tr>\n",
       "  </thead>\n",
       "  <tbody>\n",
       "    <tr>\n",
       "      <th>A1BG</th>\n",
       "      <td>0</td>\n",
       "      <td>0</td>\n",
       "      <td>0</td>\n",
       "      <td>0</td>\n",
       "      <td>0</td>\n",
       "      <td>0</td>\n",
       "      <td>0</td>\n",
       "      <td>0</td>\n",
       "      <td>0</td>\n",
       "      <td>0</td>\n",
       "      <td>...</td>\n",
       "      <td>0</td>\n",
       "      <td>0</td>\n",
       "      <td>0</td>\n",
       "      <td>0</td>\n",
       "      <td>0</td>\n",
       "      <td>0</td>\n",
       "      <td>0</td>\n",
       "      <td>0</td>\n",
       "      <td>0</td>\n",
       "      <td>0</td>\n",
       "    </tr>\n",
       "    <tr>\n",
       "      <th>A1CF</th>\n",
       "      <td>4</td>\n",
       "      <td>0</td>\n",
       "      <td>0</td>\n",
       "      <td>0</td>\n",
       "      <td>0</td>\n",
       "      <td>1</td>\n",
       "      <td>0</td>\n",
       "      <td>1</td>\n",
       "      <td>0</td>\n",
       "      <td>0</td>\n",
       "      <td>...</td>\n",
       "      <td>0</td>\n",
       "      <td>0</td>\n",
       "      <td>0</td>\n",
       "      <td>1</td>\n",
       "      <td>0</td>\n",
       "      <td>0</td>\n",
       "      <td>1</td>\n",
       "      <td>0</td>\n",
       "      <td>0</td>\n",
       "      <td>0</td>\n",
       "    </tr>\n",
       "    <tr>\n",
       "      <th>A2M</th>\n",
       "      <td>0</td>\n",
       "      <td>0</td>\n",
       "      <td>0</td>\n",
       "      <td>0</td>\n",
       "      <td>0</td>\n",
       "      <td>0</td>\n",
       "      <td>0</td>\n",
       "      <td>0</td>\n",
       "      <td>0</td>\n",
       "      <td>0</td>\n",
       "      <td>...</td>\n",
       "      <td>0</td>\n",
       "      <td>0</td>\n",
       "      <td>0</td>\n",
       "      <td>0</td>\n",
       "      <td>0</td>\n",
       "      <td>0</td>\n",
       "      <td>0</td>\n",
       "      <td>0</td>\n",
       "      <td>0</td>\n",
       "      <td>1</td>\n",
       "    </tr>\n",
       "    <tr>\n",
       "      <th>A4GALT</th>\n",
       "      <td>0</td>\n",
       "      <td>0</td>\n",
       "      <td>0</td>\n",
       "      <td>0</td>\n",
       "      <td>0</td>\n",
       "      <td>0</td>\n",
       "      <td>0</td>\n",
       "      <td>0</td>\n",
       "      <td>0</td>\n",
       "      <td>0</td>\n",
       "      <td>...</td>\n",
       "      <td>0</td>\n",
       "      <td>0</td>\n",
       "      <td>0</td>\n",
       "      <td>0</td>\n",
       "      <td>0</td>\n",
       "      <td>0</td>\n",
       "      <td>0</td>\n",
       "      <td>0</td>\n",
       "      <td>0</td>\n",
       "      <td>0</td>\n",
       "    </tr>\n",
       "    <tr>\n",
       "      <th>AAAS</th>\n",
       "      <td>0</td>\n",
       "      <td>0</td>\n",
       "      <td>0</td>\n",
       "      <td>1</td>\n",
       "      <td>0</td>\n",
       "      <td>0</td>\n",
       "      <td>0</td>\n",
       "      <td>1</td>\n",
       "      <td>0</td>\n",
       "      <td>0</td>\n",
       "      <td>...</td>\n",
       "      <td>0</td>\n",
       "      <td>0</td>\n",
       "      <td>0</td>\n",
       "      <td>1</td>\n",
       "      <td>0</td>\n",
       "      <td>0</td>\n",
       "      <td>0</td>\n",
       "      <td>0</td>\n",
       "      <td>0</td>\n",
       "      <td>0</td>\n",
       "    </tr>\n",
       "  </tbody>\n",
       "</table>\n",
       "<p>5 rows × 1937 columns</p>\n",
       "</div>"
      ],
      "text/plain": [
       "        human1_lib1.final_cell_0001  human1_lib1.final_cell_0002  \\\n",
       "GeneID                                                             \n",
       "A1BG                              0                            0   \n",
       "A1CF                              4                            0   \n",
       "A2M                               0                            0   \n",
       "A4GALT                            0                            0   \n",
       "AAAS                              0                            0   \n",
       "\n",
       "        human1_lib1.final_cell_0003  human1_lib1.final_cell_0004  \\\n",
       "GeneID                                                             \n",
       "A1BG                              0                            0   \n",
       "A1CF                              0                            0   \n",
       "A2M                               0                            0   \n",
       "A4GALT                            0                            0   \n",
       "AAAS                              0                            1   \n",
       "\n",
       "        human1_lib1.final_cell_0005  human1_lib1.final_cell_0006  \\\n",
       "GeneID                                                             \n",
       "A1BG                              0                            0   \n",
       "A1CF                              0                            1   \n",
       "A2M                               0                            0   \n",
       "A4GALT                            0                            0   \n",
       "AAAS                              0                            0   \n",
       "\n",
       "        human1_lib1.final_cell_0007  human1_lib1.final_cell_0008  \\\n",
       "GeneID                                                             \n",
       "A1BG                              0                            0   \n",
       "A1CF                              0                            1   \n",
       "A2M                               0                            0   \n",
       "A4GALT                            0                            0   \n",
       "AAAS                              0                            1   \n",
       "\n",
       "        human1_lib1.final_cell_0009  human1_lib1.final_cell_0010  ...  \\\n",
       "GeneID                                                            ...   \n",
       "A1BG                              0                            0  ...   \n",
       "A1CF                              0                            0  ...   \n",
       "A2M                               0                            0  ...   \n",
       "A4GALT                            0                            0  ...   \n",
       "AAAS                              0                            0  ...   \n",
       "\n",
       "        human1_lib3.final_cell_0731  human1_lib3.final_cell_0732  \\\n",
       "GeneID                                                             \n",
       "A1BG                              0                            0   \n",
       "A1CF                              0                            0   \n",
       "A2M                               0                            0   \n",
       "A4GALT                            0                            0   \n",
       "AAAS                              0                            0   \n",
       "\n",
       "        human1_lib3.final_cell_0733  human1_lib3.final_cell_0734  \\\n",
       "GeneID                                                             \n",
       "A1BG                              0                            0   \n",
       "A1CF                              0                            1   \n",
       "A2M                               0                            0   \n",
       "A4GALT                            0                            0   \n",
       "AAAS                              0                            1   \n",
       "\n",
       "        human1_lib3.final_cell_0735  human1_lib3.final_cell_0736  \\\n",
       "GeneID                                                             \n",
       "A1BG                              0                            0   \n",
       "A1CF                              0                            0   \n",
       "A2M                               0                            0   \n",
       "A4GALT                            0                            0   \n",
       "AAAS                              0                            0   \n",
       "\n",
       "        human1_lib3.final_cell_0737  human1_lib3.final_cell_0738  \\\n",
       "GeneID                                                             \n",
       "A1BG                              0                            0   \n",
       "A1CF                              1                            0   \n",
       "A2M                               0                            0   \n",
       "A4GALT                            0                            0   \n",
       "AAAS                              0                            0   \n",
       "\n",
       "        human1_lib3.final_cell_0739  human1_lib3.final_cell_0740  \n",
       "GeneID                                                            \n",
       "A1BG                              0                            0  \n",
       "A1CF                              0                            0  \n",
       "A2M                               0                            1  \n",
       "A4GALT                            0                            0  \n",
       "AAAS                              0                            0  \n",
       "\n",
       "[5 rows x 1937 columns]"
      ]
     },
     "execution_count": 2,
     "metadata": {},
     "output_type": "execute_result"
    }
   ],
   "source": [
    "filepath = '../test_data/baron/Gene_table.txt.gz'\n",
    "df = pd.read_csv(filepath, sep='\\t', index_col=0)\n",
    "df.head()"
   ]
  },
  {
   "cell_type": "code",
   "execution_count": 3,
   "metadata": {},
   "outputs": [
    {
     "data": {
      "text/html": [
       "<div>\n",
       "<style scoped>\n",
       "    .dataframe tbody tr th:only-of-type {\n",
       "        vertical-align: middle;\n",
       "    }\n",
       "\n",
       "    .dataframe tbody tr th {\n",
       "        vertical-align: top;\n",
       "    }\n",
       "\n",
       "    .dataframe thead th {\n",
       "        text-align: right;\n",
       "    }\n",
       "</style>\n",
       "<table border=\"1\" class=\"dataframe\">\n",
       "  <thead>\n",
       "    <tr style=\"text-align: right;\">\n",
       "      <th></th>\n",
       "      <th>cluster_new</th>\n",
       "      <th>cluster_old</th>\n",
       "      <th>delta_LL</th>\n",
       "      <th>A1BG</th>\n",
       "      <th>A1CF</th>\n",
       "      <th>A2M</th>\n",
       "      <th>A4GALT</th>\n",
       "      <th>AAAS</th>\n",
       "      <th>AACS</th>\n",
       "      <th>AADAC</th>\n",
       "      <th>...</th>\n",
       "      <th>ZWILCH</th>\n",
       "      <th>ZWINT</th>\n",
       "      <th>ZXDA</th>\n",
       "      <th>ZXDB</th>\n",
       "      <th>ZXDC</th>\n",
       "      <th>ZYG11B</th>\n",
       "      <th>ZYX</th>\n",
       "      <th>ZZEF1</th>\n",
       "      <th>ZZZ3</th>\n",
       "      <th>pk</th>\n",
       "    </tr>\n",
       "  </thead>\n",
       "  <tbody>\n",
       "    <tr>\n",
       "      <th>0</th>\n",
       "      <td>26</td>\n",
       "      <td>37</td>\n",
       "      <td>-4.140421</td>\n",
       "      <td>0.002046</td>\n",
       "      <td>0.033631</td>\n",
       "      <td>0.011783</td>\n",
       "      <td>0.007773</td>\n",
       "      <td>0.034776</td>\n",
       "      <td>-0.559480</td>\n",
       "      <td>0.011374</td>\n",
       "      <td>...</td>\n",
       "      <td>0.006628</td>\n",
       "      <td>0.000736</td>\n",
       "      <td>0.001227</td>\n",
       "      <td>0.010065</td>\n",
       "      <td>0.011701</td>\n",
       "      <td>0.033058</td>\n",
       "      <td>0.058753</td>\n",
       "      <td>0.032649</td>\n",
       "      <td>0.034204</td>\n",
       "      <td>-0.194608</td>\n",
       "    </tr>\n",
       "    <tr>\n",
       "      <th>1</th>\n",
       "      <td>7</td>\n",
       "      <td>13</td>\n",
       "      <td>-21.066154</td>\n",
       "      <td>-0.006145</td>\n",
       "      <td>-0.018990</td>\n",
       "      <td>0.067171</td>\n",
       "      <td>0.044314</td>\n",
       "      <td>-0.045106</td>\n",
       "      <td>0.049381</td>\n",
       "      <td>0.064839</td>\n",
       "      <td>...</td>\n",
       "      <td>0.005139</td>\n",
       "      <td>-0.004705</td>\n",
       "      <td>-0.007842</td>\n",
       "      <td>-0.019785</td>\n",
       "      <td>-0.001553</td>\n",
       "      <td>-0.115066</td>\n",
       "      <td>-0.715735</td>\n",
       "      <td>-0.125494</td>\n",
       "      <td>-0.069146</td>\n",
       "      <td>0.147324</td>\n",
       "    </tr>\n",
       "    <tr>\n",
       "      <th>2</th>\n",
       "      <td>19</td>\n",
       "      <td>44</td>\n",
       "      <td>-22.394298</td>\n",
       "      <td>0.000396</td>\n",
       "      <td>0.006509</td>\n",
       "      <td>0.002280</td>\n",
       "      <td>0.001504</td>\n",
       "      <td>0.006731</td>\n",
       "      <td>0.006224</td>\n",
       "      <td>0.002201</td>\n",
       "      <td>...</td>\n",
       "      <td>0.001283</td>\n",
       "      <td>0.000143</td>\n",
       "      <td>0.000238</td>\n",
       "      <td>0.001948</td>\n",
       "      <td>0.002265</td>\n",
       "      <td>0.006398</td>\n",
       "      <td>0.011371</td>\n",
       "      <td>0.006319</td>\n",
       "      <td>0.006620</td>\n",
       "      <td>0.005606</td>\n",
       "    </tr>\n",
       "    <tr>\n",
       "      <th>3</th>\n",
       "      <td>22</td>\n",
       "      <td>50</td>\n",
       "      <td>-23.007094</td>\n",
       "      <td>0.000693</td>\n",
       "      <td>0.011387</td>\n",
       "      <td>0.003989</td>\n",
       "      <td>0.002632</td>\n",
       "      <td>0.011775</td>\n",
       "      <td>0.010888</td>\n",
       "      <td>0.003851</td>\n",
       "      <td>...</td>\n",
       "      <td>0.002244</td>\n",
       "      <td>0.000249</td>\n",
       "      <td>0.000416</td>\n",
       "      <td>0.003408</td>\n",
       "      <td>0.003962</td>\n",
       "      <td>0.011193</td>\n",
       "      <td>-0.241747</td>\n",
       "      <td>0.011054</td>\n",
       "      <td>-0.114862</td>\n",
       "      <td>0.009808</td>\n",
       "    </tr>\n",
       "    <tr>\n",
       "      <th>4</th>\n",
       "      <td>34</td>\n",
       "      <td>40</td>\n",
       "      <td>-26.100780</td>\n",
       "      <td>0.003243</td>\n",
       "      <td>-0.257394</td>\n",
       "      <td>-0.292024</td>\n",
       "      <td>0.012323</td>\n",
       "      <td>-0.154951</td>\n",
       "      <td>0.050979</td>\n",
       "      <td>0.018031</td>\n",
       "      <td>...</td>\n",
       "      <td>0.010507</td>\n",
       "      <td>0.001167</td>\n",
       "      <td>0.001946</td>\n",
       "      <td>-0.194123</td>\n",
       "      <td>0.018549</td>\n",
       "      <td>0.052406</td>\n",
       "      <td>0.093140</td>\n",
       "      <td>0.051758</td>\n",
       "      <td>0.054222</td>\n",
       "      <td>0.045920</td>\n",
       "    </tr>\n",
       "  </tbody>\n",
       "</table>\n",
       "<p>5 rows × 16019 columns</p>\n",
       "</div>"
      ],
      "text/plain": [
       "   cluster_new  cluster_old   delta_LL      A1BG      A1CF       A2M  \\\n",
       "0           26           37  -4.140421  0.002046  0.033631  0.011783   \n",
       "1            7           13 -21.066154 -0.006145 -0.018990  0.067171   \n",
       "2           19           44 -22.394298  0.000396  0.006509  0.002280   \n",
       "3           22           50 -23.007094  0.000693  0.011387  0.003989   \n",
       "4           34           40 -26.100780  0.003243 -0.257394 -0.292024   \n",
       "\n",
       "     A4GALT      AAAS      AACS     AADAC  ...    ZWILCH     ZWINT      ZXDA  \\\n",
       "0  0.007773  0.034776 -0.559480  0.011374  ...  0.006628  0.000736  0.001227   \n",
       "1  0.044314 -0.045106  0.049381  0.064839  ...  0.005139 -0.004705 -0.007842   \n",
       "2  0.001504  0.006731  0.006224  0.002201  ...  0.001283  0.000143  0.000238   \n",
       "3  0.002632  0.011775  0.010888  0.003851  ...  0.002244  0.000249  0.000416   \n",
       "4  0.012323 -0.154951  0.050979  0.018031  ...  0.010507  0.001167  0.001946   \n",
       "\n",
       "       ZXDB      ZXDC    ZYG11B       ZYX     ZZEF1      ZZZ3        pk  \n",
       "0  0.010065  0.011701  0.033058  0.058753  0.032649  0.034204 -0.194608  \n",
       "1 -0.019785 -0.001553 -0.115066 -0.715735 -0.125494 -0.069146  0.147324  \n",
       "2  0.001948  0.002265  0.006398  0.011371  0.006319  0.006620  0.005606  \n",
       "3  0.003408  0.003962  0.011193 -0.241747  0.011054 -0.114862  0.009808  \n",
       "4 -0.194123  0.018549  0.052406  0.093140  0.051758  0.054222  0.045920  \n",
       "\n",
       "[5 rows x 16019 columns]"
      ]
     },
     "metadata": {},
     "output_type": "display_data"
    },
    {
     "data": {
      "text/html": [
       "<div>\n",
       "<style scoped>\n",
       "    .dataframe tbody tr th:only-of-type {\n",
       "        vertical-align: middle;\n",
       "    }\n",
       "\n",
       "    .dataframe tbody tr th {\n",
       "        vertical-align: top;\n",
       "    }\n",
       "\n",
       "    .dataframe thead th {\n",
       "        text-align: right;\n",
       "    }\n",
       "</style>\n",
       "<table border=\"1\" class=\"dataframe\">\n",
       "  <thead>\n",
       "    <tr style=\"text-align: right;\">\n",
       "      <th></th>\n",
       "      <th>cluster_new</th>\n",
       "      <th>cluster_old</th>\n",
       "      <th>delta_LL</th>\n",
       "    </tr>\n",
       "  </thead>\n",
       "  <tbody>\n",
       "    <tr>\n",
       "      <th>0</th>\n",
       "      <td>26</td>\n",
       "      <td>37</td>\n",
       "      <td>-4.140421</td>\n",
       "    </tr>\n",
       "    <tr>\n",
       "      <th>1</th>\n",
       "      <td>7</td>\n",
       "      <td>13</td>\n",
       "      <td>-21.066154</td>\n",
       "    </tr>\n",
       "    <tr>\n",
       "      <th>2</th>\n",
       "      <td>19</td>\n",
       "      <td>44</td>\n",
       "      <td>-22.394298</td>\n",
       "    </tr>\n",
       "    <tr>\n",
       "      <th>3</th>\n",
       "      <td>22</td>\n",
       "      <td>50</td>\n",
       "      <td>-23.007094</td>\n",
       "    </tr>\n",
       "    <tr>\n",
       "      <th>4</th>\n",
       "      <td>34</td>\n",
       "      <td>40</td>\n",
       "      <td>-26.100780</td>\n",
       "    </tr>\n",
       "  </tbody>\n",
       "</table>\n",
       "</div>"
      ],
      "text/plain": [
       "   cluster_new  cluster_old   delta_LL\n",
       "0           26           37  -4.140421\n",
       "1            7           13 -21.066154\n",
       "2           19           44 -22.394298\n",
       "3           22           50 -23.007094\n",
       "4           34           40 -26.100780"
      ]
     },
     "metadata": {},
     "output_type": "display_data"
    }
   ],
   "source": [
    "clusters = np.loadtxt('../test_data/baron/optimized_clusters.txt', dtype=np.int)\n",
    "lmbd = np.loadtxt('../test_data/baron/dirichlet_pseudocounts.txt')\n",
    "hierarchy_df = pd.read_csv('../test_data/baron/cluster_hierarchy.tsv', sep='\\t')\n",
    "score_df = pd.read_csv('../test_data/baron/hierarchy_gene_scores.tsv', sep='\\t')\n",
    "display(score_df.head())\n",
    "display(hierarchy_df.head())"
   ]
  },
  {
   "cell_type": "code",
   "execution_count": 4,
   "metadata": {},
   "outputs": [
    {
     "data": {
      "text/plain": [
       "(16016, 1937)"
      ]
     },
     "execution_count": 4,
     "metadata": {},
     "output_type": "execute_result"
    }
   ],
   "source": [
    "data = df.values.astype(np.int)\n",
    "data.shape"
   ]
  },
  {
   "cell_type": "code",
   "execution_count": 5,
   "metadata": {},
   "outputs": [],
   "source": [
    "clst = cs.Cluster(data, lmbd, clusters, max_clusters=max(clusters)+1)"
   ]
  },
  {
   "cell_type": "markdown",
   "metadata": {},
   "source": [
    "# Visualization with PCA"
   ]
  },
  {
   "cell_type": "markdown",
   "metadata": {},
   "source": [
    "## Plotting cellstates on PCA"
   ]
  },
  {
   "cell_type": "code",
   "execution_count": 6,
   "metadata": {},
   "outputs": [],
   "source": [
    "# calculate PCA\n",
    "from sklearn.decomposition import PCA\n",
    "\n",
    "n_scale = np.median(data.sum(axis=0))\n",
    "\n",
    "tpm_data = n_scale*data/data.sum(axis=0)\n",
    "X = np.log(tpm_data + 1).T\n",
    "pca = PCA(n_components=16)\n",
    "pca.fit(X)\n",
    "X_pca = pca.transform(X)\n",
    "\n",
    "pca_var = pca.explained_variance_ratio_"
   ]
  },
  {
   "cell_type": "markdown",
   "metadata": {},
   "source": [
    "Plotting all cells and clusters on PCA quickly looks very messy"
   ]
  },
  {
   "cell_type": "code",
   "execution_count": 7,
   "metadata": {},
   "outputs": [
    {
     "data": {
      "image/png": "[encoded data removed]",
      "text/plain": [
       "<Figure size 432x432 with 1 Axes>"
      ]
     },
     "metadata": {
      "needs_background": "light"
     },
     "output_type": "display_data"
    }
   ],
   "source": [
    "# define colors\n",
    "cluster_names, cluster_sizes = np.unique(clusters, return_counts=True)\n",
    "colors = plt.cm.hsv(np.linspace(0, 1, clst.n_clusters))\n",
    "\n",
    "fig, ax = plt.subplots(1, 1, figsize=(6,6))\n",
    "\n",
    "# plot first 2 PCA components\n",
    "c1, c2 = 0, 1\n",
    "x = X_pca[:, c1]\n",
    "y = X_pca[:, c2]\n",
    "for c, color in zip(cluster_names, colors):\n",
    "    cond = (clusters==c)\n",
    "    label = f'{c}: n={np.sum(cond)}'\n",
    "    ax.plot(x[cond], y[cond], '.', ms=3, label=label, color=color)\n",
    "ax.set_xlabel(f'PC {c1+1}: {pca_var[c1]:.3f}')\n",
    "ax.set_ylabel(f'PC {c2+1}: {pca_var[c2]:.3f}')\n",
    "l = plt.legend(ncol=3)\n",
    "l.set_bbox_to_anchor([1., 1])\n",
    "\n",
    "fig.suptitle('PCA showing all cellstates')\n",
    "    \n",
    "plt.show()"
   ]
  },
  {
   "cell_type": "markdown",
   "metadata": {},
   "source": [
    "One way we can make this plot tidier is by finding the  **modal gene expression state** of each cluster and only plotting these. \n",
    "\n",
    "*NB*: The inferred modal gene expression state of small clusters might be shifted w.r.t. the positions of the cells themselves."
   ]
  },
  {
   "cell_type": "code",
   "execution_count": 8,
   "metadata": {},
   "outputs": [],
   "source": [
    "# find modal gene expression states of all cellstates\n",
    "all_gene_expression_states = np.vstack([clst.get_expressionstate(c) for c in cluster_names])\n",
    "\n",
    "log_tpm_states = np.log(all_gene_expression_states*n_scale+1)\n",
    "X_pca_states = pca.transform(log_tpm_states)"
   ]
  },
  {
   "cell_type": "code",
   "execution_count": null,
   "metadata": {},
   "outputs": [],
   "source": [
    "fig, axs = plt.subplots(1, 2, figsize=(15, 8,))\n",
    "\n",
    "c1, c2 = 0, 1\n",
    "\n",
    "# plot centres of cellstates with cells in background\n",
    "ax = axs[0]\n",
    "ax.plot(X_pca[:, c1], X_pca[:, c2], '.', ms=1, color='gray')\n",
    "ax.scatter(X_pca_states[:, c1], X_pca_states[:, c2], \n",
    "           s=cluster_sizes, \n",
    "           c=colors)\n",
    "ax.set_xlabel(f'PC {c1+1}: {pca_var[c1]:.3f}')\n",
    "ax.set_ylabel(f'PC {c2+1}: {pca_var[c2]:.3f}')\n",
    "\n",
    "# plot previous PCA for comparison\n",
    "ax = axs[1]\n",
    "x = X_pca[:, c1]\n",
    "y = X_pca[:, c2]\n",
    "for c, color in zip(cluster_names, colors):\n",
    "    cond = (clusters==c)\n",
    "    label = f'{c}: n={np.sum(cond)}'\n",
    "    ax.plot(x[cond], y[cond], '.', ms=3, label=label, color=color)\n",
    "ax.set_xlabel(f'PC {c1+1}: {pca_var[c1]:.3f}')\n",
    "ax.set_ylabel(f'PC {c2+1}: {pca_var[c2]:.3f}')\n",
    "l = plt.legend(ncol=3)\n",
    "l.set_bbox_to_anchor([1., 1])\n",
    "\n",
    "\n",
    "fig.suptitle(f'PCA showing average gene expression states', size=20)\n",
    "plt.show()"
   ]
  },
  {
   "cell_type": "markdown",
   "metadata": {},
   "source": [
    "Another way to better understand the large-scale structure and get a tidier representation is to look at **merged clusters**:"
   ]
  },
  {
   "cell_type": "code",
   "execution_count": null,
   "metadata": {},
   "outputs": [],
   "source": [
    "\n",
    "nc = 12 # number of clusters\n",
    "\n",
    "# array of cluster indices for all cells\n",
    "merged_clusters = cs.clusters_from_hierarchy(hierarchy_df, cluster_init=clusters, steps= - nc + 1)\n",
    "\n",
    "# array of cluster indices for all cellstates\n",
    "merged_clusters_cellstates = cs.clusters_from_hierarchy(hierarchy_df, steps=-nc+1)\n",
    "\n",
    "\n",
    "cluster_names, cluster_sizes = np.unique(merged_clusters, return_counts=True)\n",
    "colors = plt.cm.hsv(np.linspace(0, 1, nc+1))\n",
    "\n",
    "fig, axs = plt.subplots(1, 2, figsize=(10, 5.5))\n",
    "\n",
    "# plot first 2 PCA components\n",
    "c1, c2 = 0, 1\n",
    "\n",
    "# plot centres of cellstates\n",
    "ax = axs[0]\n",
    "ax.plot(X_pca[:, c1], X_pca[:, c2], '.', ms=1, color='gray')\n",
    "for i, c in enumerate(cluster_names):\n",
    "    cond = (merged_clusters_cellstates==c)\n",
    "    ax.scatter(X_pca_states[cond, c1], X_pca_states[cond, c2], \n",
    "               s=clst.cluster_sizes[cond], \n",
    "               color=colors[i])\n",
    "ax.set_xlabel(f'PC {c1+1}: {pca_var[c1]:.3f}', size=14)\n",
    "ax.set_ylabel(f'PC {c2+1}: {pca_var[c2]:.3f}', size=14)\n",
    "\n",
    "ax.set_title(f'{clst.n_clusters} cellstates')\n",
    "\n",
    "\n",
    "# plot previous PCA for comparison\n",
    "ax = axs[1]\n",
    "x = X_pca[:, c1]\n",
    "y = X_pca[:, c2]\n",
    "for c, color in zip(cluster_names, colors):\n",
    "    cond = (merged_clusters==c)\n",
    "    label = f'{c}: n={np.sum(cond)}'\n",
    "    ax.plot(x[cond], y[cond], '.', ms=3, label=label, color=color)\n",
    "ax.set_xlabel(f'PC {c1+1}: {pca_var[c1]:.3f}', size=14)\n",
    "ax.set_ylabel(f'PC {c2+1}: {pca_var[c2]:.3f}', size=14)\n",
    "\n",
    "ax.set_title(f'{clst.N_samples} cells')\n",
    "l = plt.legend(ncol=1)\n",
    "l.set_bbox_to_anchor([1., 1])\n",
    "\n",
    "plt.subplots_adjust(left=0.1, right=0.97)\n",
    "\n",
    "fig.suptitle(f'PCA showing cellstates merged to {nc} clusters', size=20)\n",
    "plt.show()"
   ]
  },
  {
   "cell_type": "markdown",
   "metadata": {},
   "source": [
    "# Analysis of cluster hierarchy"
   ]
  },
  {
   "cell_type": "markdown",
   "metadata": {},
   "source": [
    "## Plotting basic structure with scipy dendrograms"
   ]
  },
  {
   "cell_type": "markdown",
   "metadata": {},
   "source": [
    "The default scipy visualization includes all cellstates as leaves and gives a general overview of the data structure. \n",
    "\n",
    "*NB*: single leaves cannot be colored in scipy and are shown in gray, not the color assigned above"
   ]
  },
  {
   "cell_type": "code",
   "execution_count": null,
   "metadata": {},
   "outputs": [],
   "source": [
    "fig, ax = plt.subplots(1,1, figsize=(15, 6))\n",
    "R = cs.plot_hierarchy_scipy(hierarchy_df, n_groups=nc, colors=colors)\n",
    "\n",
    "# setting the yscale to symlog allows us to better see the fine structure of the tree\n",
    "ax.set_yscale('symlog', linthresh=1e2)"
   ]
  },
  {
   "cell_type": "code",
   "execution_count": null,
   "metadata": {},
   "outputs": [],
   "source": [
    "# if you like working with the scipy hierarchy module, you can use\n",
    "Z, labels = cs.get_scipy_hierarchy(hierarchy_df, return_labels=True)"
   ]
  },
  {
   "cell_type": "code",
   "execution_count": null,
   "metadata": {},
   "outputs": [],
   "source": [
    "from scipy.cluster.hierarchy import dendrogram\n",
    "R = dendrogram(Z, labels=labels)"
   ]
  },
  {
   "cell_type": "markdown",
   "metadata": {},
   "source": [
    "## Plotting basic structure with ete3"
   ]
  },
  {
   "cell_type": "markdown",
   "metadata": {},
   "source": [
    "The default ete3 visualization includes all cells as leaves (i.e. horizontal width of clusters correspond to their sizes) and gives a general overview of the data structure. \n",
    "\n",
    "*NB*: The leaf order may be changed compared to the scipy plot"
   ]
  },
  {
   "cell_type": "code",
   "execution_count": null,
   "metadata": {},
   "outputs": [],
   "source": [
    "# I need to properly set the DISPLAY environment to run ete3 on a remote server\n",
    "# You should probably not run this\n",
    "import os\n",
    "os.environ['DISPLAY'] = 'localhost:10.0'  # match to \n",
    "!echo $DISPLAY"
   ]
  },
  {
   "cell_type": "code",
   "execution_count": null,
   "metadata": {},
   "outputs": [],
   "source": [
    "# this built-in function automatically generates a tree visualization with ete3\n",
    "# example plot with 2 higher-order groups and cellstates as leaves (size proportional to number of cells)\n",
    "t, ts = cs.plot_hierarchy_ete3(hierarchy_df, clst.clusters, n_groups=nc, \n",
    "                               colors=colors, show_cells=False)\n",
    "ts.show_leaf_name = True  # add leaf labels\n",
    "t.render('%%inline', tree_style=ts)  # change '%%inline' to e.g. 'plot.pdf' to render to a file"
   ]
  },
  {
   "cell_type": "code",
   "execution_count": null,
   "metadata": {},
   "outputs": [],
   "source": [
    "# for a graphical interface of the tree structure, you can also run\n",
    "t.show(tree_style=ts)"
   ]
  },
  {
   "cell_type": "code",
   "execution_count": null,
   "metadata": {},
   "outputs": [],
   "source": [
    "# example plot with 5 higher-order groups and cells as leaves (horizontal distance proportional to number of cells)\n",
    "t, ts = cs.plot_hierarchy_ete3(hierarchy_df, clst.clusters, n_groups=nc, \n",
    "                               colors=colors, show_cells=True)\n",
    "ts.scale=3e-4  # change vertical scale of figure\n",
    "t.render('%%inline', tree_style=ts)"
   ]
  },
  {
   "cell_type": "code",
   "execution_count": null,
   "metadata": {},
   "outputs": [],
   "source": [
    "# If you like a different tree plotting program that uses newick format inputs, you can use\n",
    "# check the docstring for further options\n",
    "newick_string = cs.hierarchy_to_newick(hierarchy_df, clst.clusters, cell_leaves=False)\n",
    "\n",
    "from ete3 import Tree\n",
    "# generate ete3 Tree\n",
    "t = Tree(newick_string, format=1)"
   ]
  },
  {
   "cell_type": "markdown",
   "metadata": {},
   "source": [
    "# Plotting qualitative attributes in ete3 Tree"
   ]
  },
  {
   "cell_type": "markdown",
   "metadata": {},
   "source": [
    "Another thing researchers might need to check is the influence of external attributes on clusters (\"batch effects\"). Below is some code for showing their distribution in each cellstate/cluster in the tree. Here, all data come from a single donor, so I'm going to show how to make such plots by seeing how cells in the different cellstates were annotated in the original paper. "
   ]
  },
  {
   "cell_type": "code",
   "execution_count": null,
   "metadata": {},
   "outputs": [],
   "source": [
    "annotation = np.loadtxt('../test_data/baron/Celltype.txt', dtype=str)\n",
    "annotation"
   ]
  },
  {
   "cell_type": "code",
   "execution_count": null,
   "metadata": {},
   "outputs": [],
   "source": [
    "from ete3 import faces, TreeStyle, NodeStyle\n",
    "\n",
    "def get_TreeStyle_attributes(t, clusters, attributes, colors=None, \n",
    "                             show_leaf_name=True,\n",
    "                             linewidth=2, leaf_scale=0.2):\n",
    "    \"\"\"\n",
    "    show fraction of attributes in each cluster as pie charts\n",
    "    \"\"\"\n",
    "    cluster_names, cluster_sizes = np.unique(clusters, return_counts=True)\n",
    "    \n",
    "    attribute_names = np.unique(attributes)\n",
    "    n_attributes = len(attribute_names)\n",
    "    \n",
    "    if colors is None:\n",
    "        colors = plt.cm.gist_ncar(np.linspace(0, 1, n_attributes+1))[:-1]\n",
    "    color_map = {at:matplotlib.colors.to_hex(cl) for at, cl in zip(attribute_names, colors)}\n",
    "    \n",
    "    ts = TreeStyle()\n",
    "    ts.show_leaf_name=False\n",
    "    ts.scale = 3e-5\n",
    "    ts.rotation = 90\n",
    "    \n",
    "    base_color='black'\n",
    "    base_style = NodeStyle()\n",
    "    base_style['vt_line_width'] = linewidth\n",
    "    base_style['hz_line_width'] = linewidth\n",
    "    base_style['size'] = 0\n",
    "    base_style[\"vt_line_color\"] = base_color\n",
    "    base_style[\"hz_line_color\"] = base_color\n",
    "\n",
    "    t.set_style(base_style)\n",
    "    for n in t.traverse():\n",
    "        n.set_style(base_style)\n",
    "    \n",
    "    # set up colouring of leaves/cellstates which are called C0, C1, ...\n",
    "    for cluster_id, cluster_size in zip(cluster_names, cluster_sizes):\n",
    "        nodes = t.search_nodes(name=f'C{cluster_id}')\n",
    "        if nodes:\n",
    "            node = nodes[0]\n",
    "            \n",
    "            # make size proportional to size of cluster\n",
    "            size = cluster_size*leaf_scale\n",
    "            names, counts = np.unique(attributes[clusters==cluster_id], return_counts=True)\n",
    "            percents = 100*counts/counts.sum()\n",
    "            pie_colors = [color_map[a] for a in names]\n",
    "            pieface = faces.PieChartFace(percents, size, size, colors=pie_colors)\n",
    "            node.add_face(pieface, column=0)\n",
    "            \n",
    "            if show_leaf_name:\n",
    "                nameface = faces.AttrFace(\"name\", fgcolor=\"black\")\n",
    "                node.add_face(nameface, column=1)\n",
    "            \n",
    "    # add legend\n",
    "    for at, color in color_map.items():\n",
    "        ts.legend.add_face(faces.CircleFace(7, color), column=0)\n",
    "        ts.legend.add_face(faces.TextFace(at), column=1)\n",
    "    return ts"
   ]
  },
  {
   "cell_type": "code",
   "execution_count": null,
   "metadata": {},
   "outputs": [],
   "source": [
    "newick_string = cs.hierarchy_to_newick(hierarchy_df, clst.clusters, cell_leaves=False)\n",
    "t = Tree(newick_string, format=1)\n",
    "ts = get_TreeStyle_attributes(t, clst.clusters, annotation, colors=None, leaf_scale=0.5)\n",
    "# ts.show_leaf_name = True\n",
    "ts.title.add_face(faces.TextFace('annotation by Baron et al.', fsize=16), column=0, )\n",
    "t.render('%%inline', tree_style=ts)"
   ]
  },
  {
   "cell_type": "markdown",
   "metadata": {},
   "source": [
    "You can clearly see that cellstates mostly contain cells that have been annotated in the same way!"
   ]
  },
  {
   "cell_type": "markdown",
   "metadata": {},
   "source": [
    "### Pruning the ete3 Tree"
   ]
  },
  {
   "cell_type": "markdown",
   "metadata": {},
   "source": [
    "The code below can be used to look at the higher-order structure of the tree (clusters of cellstates are now leaves) and how they were annotated"
   ]
  },
  {
   "cell_type": "code",
   "execution_count": null,
   "metadata": {},
   "outputs": [],
   "source": [
    "# These two lines are used to construct a pruned tree with nc leaves\n",
    "newick_string = cs.hierarchy_to_newick(hierarchy_df[-nc+1:], merged_clusters, cell_leaves=False)\n",
    "t = Tree(newick_string, format=1)\n",
    "\n",
    "# get TreeStyle to plot external annotation on pruned Tree\n",
    "ts = get_TreeStyle_attributes(t, merged_clusters, annotation)\n",
    "display(t.render('%%inline', tree_style=ts))"
   ]
  },
  {
   "cell_type": "markdown",
   "metadata": {},
   "source": [
    "# Analysing marker gene expression"
   ]
  },
  {
   "cell_type": "markdown",
   "metadata": {},
   "source": [
    "## Finding marker genes and plotting their expression in PCA space"
   ]
  },
  {
   "cell_type": "markdown",
   "metadata": {},
   "source": [
    "Each of the merges in the tree is associated with genes that are differentially expressed between the two branches. For example, for the last merge we find the following top genes:"
   ]
  },
  {
   "cell_type": "code",
   "execution_count": null,
   "metadata": {
    "scrolled": true
   },
   "outputs": [],
   "source": [
    "split_id = 0  # first split in tree\n",
    "\n",
    "gene_scores = score_df.iloc[-split_id - 1, 4:]\n",
    "gene_scores.sort_values()"
   ]
  },
  {
   "cell_type": "markdown",
   "metadata": {},
   "source": [
    "The list shows that *INS* is expressed very differently in both branches while any variation in *SST* expression is very consistent with being noise.\n",
    "\n",
    "In the original paper, *INS* is marked as a marker gene for Beta cells.\n",
    "\n",
    "Below, we show *INS* expression of cellstates in the PCA plot"
   ]
  },
  {
   "cell_type": "code",
   "execution_count": null,
   "metadata": {},
   "outputs": [],
   "source": [
    "my_gene = 'INS'\n",
    "gene_id = np.argwhere(df.index.values==my_gene)[0,0]\n",
    "expression = log_tpm_states[:, gene_id]\n",
    "norm = plt.Normalize(vmin=expression.min(), vmax=expression.max())\n",
    "cmap = plt.cm.RdBu_r"
   ]
  },
  {
   "cell_type": "code",
   "execution_count": null,
   "metadata": {},
   "outputs": [],
   "source": [
    "fig, ax = plt.subplots(1, 1, figsize=(7,6))\n",
    "\n",
    "c1, c2 = 0, 1\n",
    "\n",
    "# plot centres of cellstates\n",
    "ax.plot(X_pca[:, c1], X_pca[:, c2], '.', ms=1, color='gray')\n",
    "sc = ax.scatter(X_pca_states[:, c1], X_pca_states[:, c2], \n",
    "                s=clst.cluster_sizes, \n",
    "                c=expression,\n",
    "                cmap='RdBu_r')\n",
    "ax.set_xlabel(f'PC {c1+1}: {pca_var[2*c1+1]:.3f}')\n",
    "ax.set_ylabel(f'PC {c2+1}: {pca_var[2*c2+1]:.3f}')\n",
    "plt.suptitle(my_gene, size=20)\n",
    "plt.colorbar(sc)\n",
    "plt.show()"
   ]
  },
  {
   "cell_type": "markdown",
   "metadata": {},
   "source": [
    "## Plotting gene expression in ete3 Trees"
   ]
  },
  {
   "cell_type": "markdown",
   "metadata": {},
   "source": [
    "It would be interesting to see how this gene is expressed across the tree. For that purpose, we use the ete3 tree plotting library and create a custom function. "
   ]
  },
  {
   "cell_type": "code",
   "execution_count": null,
   "metadata": {},
   "outputs": [],
   "source": [
    "from ete3 import TreeStyle, NodeStyle\n",
    "\n",
    "from ete3 import TreeStyle, NodeStyle\n",
    "\n",
    "def get_TreeStyle_expression(t, gene_name, log_tpm_states, hierarchy_df, clst,\n",
    "                             cmap='RdBu_r', linewidth = 2, leaf_scale=0.2):\n",
    "    cluster_names, cluster_sizes = np.unique(clst.clusters, return_counts=True)\n",
    "\n",
    "    gene_id = np.flatnonzero(df.index.values==gene_name)[0]\n",
    "    \n",
    "    ts = TreeStyle()\n",
    "    ts.show_leaf_name=True\n",
    "    ts.scale = 3e-5\n",
    "    ts.rotation = 90\n",
    "    \n",
    "    expression = log_tpm_states[:, gene_id]\n",
    "    norm = plt.Normalize(vmin=expression.min(), vmax=expression.max())\n",
    "    cmap = getattr(plt.cm, cmap)\n",
    "    \n",
    "    cluster_map = dict(zip(cluster_names, range(clst.n_clusters)))\n",
    "    print(cluster_map)\n",
    "    # set up colouring of leaves/cellstates which are called C0, C1, ...\n",
    "    for cluster_name, cluster_size in zip(cluster_names, cluster_sizes):\n",
    "        nodes = t.search_nodes(name=f'C{cluster_name}')\n",
    "        if nodes:\n",
    "            leaf = nodes[0]\n",
    "            \n",
    "            cluster_id = cluster_map[int(leaf.name[1:])]  # position in log_tpm_states of cluster\n",
    "            # find expression of that gene\n",
    "            E = expression[cluster_id]\n",
    "            color = matplotlib.colors.to_hex( cmap(norm(E)) )\n",
    "\n",
    "            style = NodeStyle()\n",
    "            # make size proportional to size of cluster\n",
    "            style['size'] = cluster_size*leaf_scale\n",
    "\n",
    "            # make color \n",
    "            style['fgcolor'] = color\n",
    "            style[\"vt_line_color\"] = color\n",
    "            style[\"hz_line_color\"] = color\n",
    "            style['vt_line_width'] = linewidth\n",
    "            style['hz_line_width'] = linewidth\n",
    "\n",
    "            leaf.set_style(style)\n",
    "\n",
    "    unmerged_clusters = clst.clusters.copy()\n",
    "    \n",
    "    # Iterate through internal nodes of tree\n",
    "    n_steps = len(hierarchy_df)\n",
    "    for i, row in hierarchy_df.iterrows():\n",
    "        c_new = row.cluster_new\n",
    "        c_old = row.cluster_old\n",
    "        # merge clusters\n",
    "        clst.combine_two_clusters(c_new, c_old)\n",
    "\n",
    "        # find expression of gene in new merged cluster\n",
    "        E = np.log(clst.get_expressionstate(c_new)[gene_id]*n_scale + 1)\n",
    "        color = matplotlib.colors.to_hex( cmap(norm(E)) )\n",
    "\n",
    "        node_name = f'I{n_steps-i-1}'\n",
    "        nodes = t.search_nodes(name=node_name)\n",
    "        if nodes:\n",
    "            node = nodes[0]\n",
    "            style = NodeStyle()\n",
    "            style[\"vt_line_color\"] = color\n",
    "            style[\"hz_line_color\"] = color\n",
    "            style['vt_line_width'] = linewidth\n",
    "            style['hz_line_width'] = linewidth\n",
    "            style['size'] = 0\n",
    "            node.set_style(style)\n",
    "    \n",
    "    clst.set_clusters(unmerged_clusters)\n",
    "    return ts"
   ]
  },
  {
   "cell_type": "code",
   "execution_count": null,
   "metadata": {},
   "outputs": [],
   "source": [
    "newick_string = cs.hierarchy_to_newick(hierarchy_df, clst.clusters, cell_leaves=False)\n",
    "t = Tree(newick_string, format=1)"
   ]
  },
  {
   "cell_type": "code",
   "execution_count": null,
   "metadata": {},
   "outputs": [],
   "source": [
    "# Beta (INS)\n",
    "ts = get_TreeStyle_expression(t, my_gene, log_tpm_states, hierarchy_df, clst)\n",
    "t.render('%%inline', tree_style=ts)"
   ]
  },
  {
   "cell_type": "markdown",
   "metadata": {},
   "source": [
    "Let's try a few different genes - all are marker genes from the original paper. This allows us to see which branches of the tree correspond to certain cell types."
   ]
  },
  {
   "cell_type": "code",
   "execution_count": null,
   "metadata": {},
   "outputs": [],
   "source": [
    "# Alpha (GCG)\n",
    "ts = get_TreeStyle_expression(t, 'GCG', log_tpm_states, hierarchy_df, clst)\n",
    "t.render('%%inline', tree_style=ts)"
   ]
  },
  {
   "cell_type": "code",
   "execution_count": null,
   "metadata": {},
   "outputs": [],
   "source": [
    "# Delta (SST)\n",
    "ts = get_TreeStyle_expression(t, 'SST', log_tpm_states, hierarchy_df, clst)\n",
    "t.render('%%inline', tree_style=ts)"
   ]
  },
  {
   "cell_type": "code",
   "execution_count": null,
   "metadata": {},
   "outputs": [],
   "source": [
    "# Gamma (PPY)\n",
    "ts = get_TreeStyle_expression(t, 'PPY', log_tpm_states, hierarchy_df, clst)\n",
    "t.render('%%inline', tree_style=ts)"
   ]
  },
  {
   "cell_type": "code",
   "execution_count": null,
   "metadata": {},
   "outputs": [],
   "source": [
    "# Epsilon (GHRL)\n",
    "ts = get_TreeStyle_expression(t, 'GHRL', log_tpm_states, hierarchy_df, clst)\n",
    "t.render('%%inline', tree_style=ts)"
   ]
  },
  {
   "cell_type": "markdown",
   "metadata": {},
   "source": [
    "## Looking at subtrees in ete3"
   ]
  },
  {
   "cell_type": "markdown",
   "metadata": {},
   "source": [
    "leaves are labeled C*n* where *n* is the cellstate ID, internal nodes are labeled I0 (root) ... I*(x-1)* where *x* is the number of splits in the tree. The last line in `hierarchy_df` and `gene_scores` correspond to I0, the second last to I1, etc. \n",
    "\n",
    "We can also easily look at parts of the tree - for example to examine the transcriptional diversity in *INS* expressing beta cells. The first split therein divides cluster labels 13 and 5. "
   ]
  },
  {
   "cell_type": "code",
   "execution_count": null,
   "metadata": {},
   "outputs": [],
   "source": [
    "# this finds the subbranch of the tree containing clusters 13 and 5\n",
    "branch = t.get_common_ancestor(['C13', 'C5']) \n",
    "branch.name"
   ]
  },
  {
   "cell_type": "code",
   "execution_count": null,
   "metadata": {},
   "outputs": [],
   "source": [
    "n_steps = len(hierarchy_df)\n",
    "\n",
    "split_id = 7  # id of internal node (branch name)\n",
    "merge_id = n_steps - split_id - 1  # corresponding line in hierarchy_df\n",
    "merge_id"
   ]
  },
  {
   "cell_type": "code",
   "execution_count": null,
   "metadata": {},
   "outputs": [],
   "source": [
    "hierarchy_df.tail(10)"
   ]
  },
  {
   "cell_type": "code",
   "execution_count": null,
   "metadata": {
    "scrolled": true
   },
   "outputs": [],
   "source": [
    "# first check out interesting genes corresponding to this split\n",
    "gene_scores = score_df.iloc[-split_id-1, 4:]\n",
    "gene_scores.sort_values()"
   ]
  },
  {
   "cell_type": "code",
   "execution_count": null,
   "metadata": {},
   "outputs": [],
   "source": [
    "# plotting this subbranch works the same as before\n",
    "ts = get_TreeStyle_expression(branch, 'IAPP', log_tpm_states, hierarchy_df, clst)\n",
    "ts.scale=1e-4  # adjust the scale to see more details at the bottom\n",
    "branch.render('%%inline', tree_style=ts)"
   ]
  },
  {
   "cell_type": "code",
   "execution_count": null,
   "metadata": {},
   "outputs": [],
   "source": [
    "# zoom into the left part of the tree in the same way as previously\n",
    "branch = t.get_common_ancestor(['C38', 'C1'])\n",
    "print(branch.name)\n",
    "ts = get_TreeStyle_expression(branch, 'IAPP', log_tpm_states, hierarchy_df, clst)\n",
    "ts.scale = 1e-3\n",
    "branch.render('%%inline', tree_style=ts)"
   ]
  },
  {
   "cell_type": "markdown",
   "metadata": {},
   "source": [
    "## Combining visualizations"
   ]
  },
  {
   "cell_type": "code",
   "execution_count": null,
   "metadata": {},
   "outputs": [],
   "source": [
    "# These two lines are used to construct a pruned tree with nc leaves\n",
    "newick_string = cs.hierarchy_to_newick(hierarchy_df[-nc+1:], merged_clusters, cell_leaves=False)\n",
    "t = Tree(newick_string, format=1)\n",
    "\n",
    "ts1 = get_TreeStyle_attributes(t, merged_clusters, annotation, show_leaf_name=True)\n",
    "\n",
    "clst.set_clusters(merged_clusters)  # set clusters to merged partition\n",
    "merged_gene_expression_states = np.vstack([clst.get_expressionstate(c) for c in np.unique(merged_clusters)])\n",
    "log_tpm_states_merged = np.log(merged_gene_expression_states*n_scale+1)\n",
    "ts2 = get_TreeStyle_expression(t, 'INS', log_tpm_states_merged, \n",
    "                              hierarchy_df[-nc+1:].reset_index(), \n",
    "                              clst)\n",
    "\n",
    "clst.set_clusters(clusters)  # reset clusters to original partition\n",
    "\n",
    "# get TreeStyle to plot external annotation on pruned Tree\n",
    "t.render('%%inline', tree_style=ts1)"
   ]
  },
  {
   "cell_type": "code",
   "execution_count": null,
   "metadata": {},
   "outputs": [],
   "source": []
  }
 ],
 "metadata": {
  "kernelspec": {
   "display_name": "Python 3",
   "language": "python",
   "name": "python3"
  },
  "language_info": {
   "codemirror_mode": {
    "name": "ipython",
    "version": 3
   },
   "file_extension": ".py",
   "mimetype": "text/x-python",
   "name": "python",
   "nbconvert_exporter": "python",
   "pygments_lexer": "ipython3",
   "version": "3.6.10"
  }
 },
 "nbformat": 4,
 "nbformat_minor": 2
}
