{
 "cells": [
  {
   "cell_type": "code",
   "execution_count": 1,
   "metadata": {},
   "outputs": [],
   "source": [
    "import pandas as pd\n",
    "import numpy as np\n",
    "import cellstates as cs\n",
    "import matplotlib.pyplot as plt\n",
    "import matplotlib"
   ]
  },
  {
   "cell_type": "markdown",
   "metadata": {},
   "source": [
    "This notebook shows an example analysis of a dataset with cellstates. We are looking at 1937 pancreatic cells from one human donor. \n",
    "\n",
    "### Reference\n",
    "Baron, M. et al. A Single-Cell Transcriptomic Map of the Human and Mouse Pancreas Reveals Inter- and Intra-cell Population Structure. Cell Syst. 3, 346-360.e4 (2016)."
   ]
  },
  {
   "cell_type": "code",
   "execution_count": null,
   "metadata": {},
   "outputs": [],
   "source": [
    "filepath = '../test_data/baron/Gene_table.txt.gz'\n",
    "df = pd.read_csv(filepath, sep='\\t', index_col=0)\n",
    "df.head()"
   ]
  },
  {
   "cell_type": "code",
   "execution_count": null,
   "metadata": {},
   "outputs": [],
   "source": [
    "clusters = np.loadtxt('../test_data/baron/optimized_clusters.txt', dtype=np.int)\n",
    "lmbd = np.loadtxt('../test_data/baron/dirichlet_pseudocounts.txt')\n",
    "hierarchy_df = pd.read_csv('../test_data/baron/cluster_hierarchy.tsv', sep='\\t')\n",
    "score_df = pd.read_csv('../test_data/baron/hierarchy_gene_scores.tsv', sep='\\t')\n",
    "display(score_df.head())\n",
    "display(hierarchy_df.head())"
   ]
  },
  {
   "cell_type": "code",
   "execution_count": null,
   "metadata": {},
   "outputs": [],
   "source": [
    "data = df.values.astype(np.int)\n",
    "data.shape"
   ]
  },
  {
   "cell_type": "code",
   "execution_count": null,
   "metadata": {},
   "outputs": [],
   "source": [
    "clst = cs.Cluster(data, lmbd, clusters, max_clusters=max(clusters)+1)"
   ]
  },
  {
   "cell_type": "markdown",
   "metadata": {},
   "source": [
    "# Visualization with PCA"
   ]
  },
  {
   "cell_type": "code",
   "execution_count": null,
   "metadata": {},
   "outputs": [],
   "source": [
    "# calculate PCA\n",
    "from sklearn.decomposition import PCA\n",
    "\n",
    "n_scale = np.median(data.sum(axis=0))\n",
    "\n",
    "tpm_data = n_scale*data/data.sum(axis=0)\n",
    "X = np.log(tpm_data + 1).T\n",
    "pca = PCA(n_components=16)\n",
    "pca.fit(X)\n",
    "X_pca = pca.transform(X)\n",
    "\n",
    "pca_var = pca.explained_variance_ratio_"
   ]
  },
  {
   "cell_type": "markdown",
   "metadata": {},
   "source": [
    "Plotting all cells and clusters on PCA quickly looks very messy"
   ]
  },
  {
   "cell_type": "code",
   "execution_count": null,
   "metadata": {},
   "outputs": [],
   "source": [
    "# define colors\n",
    "cluster_names, cluster_sizes = np.unique(clusters, return_counts=True)\n",
    "colors = plt.cm.hsv(np.linspace(0, 1, clst.n_clusters))\n",
    "\n",
    "fig, ax = plt.subplots(1, 1, figsize=(6,6))\n",
    "\n",
    "# plot first 2 PCA components\n",
    "c1, c2 = 0, 1\n",
    "x = X_pca[:, c1]\n",
    "y = X_pca[:, c2]\n",
    "for c, color in zip(cluster_names, colors):\n",
    "    cond = (clusters==c)\n",
    "    label = f'{c}: n={np.sum(cond)}'\n",
    "    ax.plot(x[cond], y[cond], '.', ms=3, label=label, color=color)\n",
    "ax.set_xlabel(f'PC {c1+1}: {pca_var[c1]:.3f}')\n",
    "ax.set_ylabel(f'PC {c2+1}: {pca_var[c2]:.3f}')\n",
    "l = plt.legend(ncol=3)\n",
    "l.set_bbox_to_anchor([1., 1])\n",
    "\n",
    "fig.suptitle('PCA showing all cellstates')\n",
    "    \n",
    "plt.show()"
   ]
  },
  {
   "cell_type": "markdown",
   "metadata": {},
   "source": [
    "One way we can make this plot tidier is by finding the  **modal gene expression state** of each cluster and only plotting these. \n",
    "\n",
    "*NB*: The inferred modal gene expression state of small clusters might be shifted w.r.t. the positions of the cells themselves."
   ]
  },
  {
   "cell_type": "code",
   "execution_count": null,
   "metadata": {},
   "outputs": [],
   "source": [
    "# find modal gene expression states of all cellstates\n",
    "all_gene_expression_states = np.vstack([clst.get_expressionstate(c) for c in cluster_names])\n",
    "\n",
    "log_tpm_states = np.log(all_gene_expression_states*n_scale+1)\n",
    "X_pca_states = pca.transform(log_tpm_states)"
   ]
  },
  {
   "cell_type": "code",
   "execution_count": null,
   "metadata": {},
   "outputs": [],
   "source": [
    "fig, axs = plt.subplots(1, 2, figsize=(15, 8,))\n",
    "\n",
    "c1, c2 = 0, 1\n",
    "\n",
    "# plot centres of cellstates with cells in background\n",
    "ax = axs[0]\n",
    "ax.plot(X_pca[:, c1], X_pca[:, c2], '.', ms=1, color='gray')\n",
    "ax.scatter(X_pca_states[:, c1], X_pca_states[:, c2], \n",
    "           s=cluster_sizes, \n",
    "           c=colors)\n",
    "ax.set_xlabel(f'PC {c1+1}: {pca_var[c1]:.3f}')\n",
    "ax.set_ylabel(f'PC {c2+1}: {pca_var[c2]:.3f}')\n",
    "\n",
    "# plot previous PCA for comparison\n",
    "ax = axs[1]\n",
    "x = X_pca[:, c1]\n",
    "y = X_pca[:, c2]\n",
    "for c, color in zip(cluster_names, colors):\n",
    "    cond = (clusters==c)\n",
    "    label = f'{c}: n={np.sum(cond)}'\n",
    "    ax.plot(x[cond], y[cond], '.', ms=3, label=label, color=color)\n",
    "ax.set_xlabel(f'PC {c1+1}: {pca_var[c1]:.3f}')\n",
    "ax.set_ylabel(f'PC {c2+1}: {pca_var[c2]:.3f}')\n",
    "l = plt.legend(ncol=3)\n",
    "l.set_bbox_to_anchor([1., 1])\n",
    "\n",
    "\n",
    "fig.suptitle(f'PCA showing average gene expression states', size=20)\n",
    "plt.show()"
   ]
  },
  {
   "cell_type": "markdown",
   "metadata": {},
   "source": [
    "Another way to better understand the large-scale structure and get a tidier representation is to look at **merged clusters**:"
   ]
  },
  {
   "cell_type": "code",
   "execution_count": null,
   "metadata": {},
   "outputs": [],
   "source": [
    "\n",
    "nc = 12 # number of clusters\n",
    "merged_clusters = cs.clusters_from_hierarchy(hierarchy_df, cluster_init=clusters, steps= - nc + 1)\n",
    "\n",
    "cluster_names, cluster_sizes = np.unique(merged_clusters, return_counts=True)\n",
    "colors = plt.cm.hsv(np.linspace(0, 1, nc+1))\n",
    "\n",
    "fig, ax = plt.subplots(1, 1, figsize=(6,6))\n",
    "\n",
    "# plot first 2 PCA components\n",
    "c1, c2 = 0, 1\n",
    "x = X_pca[:, c1]\n",
    "y = X_pca[:, c2]\n",
    "for c, color in zip(cluster_names, colors):\n",
    "    cond = (merged_clusters==c)\n",
    "    label = f'{c}: n={np.sum(cond)}'\n",
    "    ax.plot(x[cond], y[cond], '.', ms=3, label=label, color=color)\n",
    "ax.set_xlabel(f'PC {c1+1}: {pca_var[c1]:.3f}')\n",
    "ax.set_ylabel(f'PC {c2+1}: {pca_var[c2]:.3f}')\n",
    "l = plt.legend(ncol=1)\n",
    "l.set_bbox_to_anchor([1., 1])\n",
    "\n",
    "fig.suptitle(f'PCA showing cellstates merged to {nc} clusters')\n",
    "plt.show()"
   ]
  },
  {
   "cell_type": "markdown",
   "metadata": {},
   "source": [
    "# Analysis of cluster hierarchy"
   ]
  },
  {
   "cell_type": "markdown",
   "metadata": {},
   "source": [
    "The default scipy visualization includes all cellstates as leaves and gives a general overview of the data structure. \n",
    "\n",
    "*NB*: single leaves cannot be colored in scipy and are shown in gray, not the color assigned above"
   ]
  },
  {
   "cell_type": "code",
   "execution_count": null,
   "metadata": {},
   "outputs": [],
   "source": [
    "fig, ax = plt.subplots(1,1, figsize=(15, 6))\n",
    "R = cs.plot_hierarchy_scipy(hierarchy_df, n_groups=nc, colors=colors)\n",
    "\n",
    "# setting the yscale to symlog allows us to better see the fine structure of the tree\n",
    "ax.set_yscale('symlog', linthresh=1e2)"
   ]
  },
  {
   "cell_type": "code",
   "execution_count": null,
   "metadata": {},
   "outputs": [],
   "source": [
    "# if you like working with the scipy hierarchy module, you can use\n",
    "Z, labels = cs.get_scipy_hierarchy(hierarchy_df, return_labels=True)"
   ]
  },
  {
   "cell_type": "markdown",
   "metadata": {},
   "source": [
    "The default ete3 visualization includes all cells as leaves (i.e. horizontal width of clusters correspond to their sizes) and gives a general overview of the data structure. \n",
    "\n",
    "*NB*: The leaf order may be changed compared to the scipy plot"
   ]
  },
  {
   "cell_type": "code",
   "execution_count": null,
   "metadata": {},
   "outputs": [],
   "source": [
    "# I need to properly set the DISPLAY environment to run ete3 on a remote server\n",
    "# You should probably not run this\n",
    "import os\n",
    "os.environ['DISPLAY'] = 'localhost:11.0'  # match to \n",
    "!echo $DISPLAY"
   ]
  },
  {
   "cell_type": "code",
   "execution_count": null,
   "metadata": {},
   "outputs": [],
   "source": [
    "# this built-in function automatically generates a tree visualization with ete3\n",
    "# example plot with 2 higher-order groups and cellstates as leaves (size proportional to number of cells)\n",
    "t, ts = cs.plot_hierarchy_ete3(hierarchy_df, clst.clusters, n_groups=nc, \n",
    "                               colors=colors, show_cells=False)\n",
    "ts.show_leaf_name = True  # add leaf labels\n",
    "t.render('%%inline', tree_style=ts)"
   ]
  },
  {
   "cell_type": "code",
   "execution_count": null,
   "metadata": {},
   "outputs": [],
   "source": [
    "# example plot with 5 higher-order groups and cells as leaves (horizontal distance proportional to number of cells)\n",
    "t, ts = cs.plot_hierarchy_ete3(hierarchy_df, clst.clusters, n_groups=nc, \n",
    "                               colors=colors, show_cells=True)\n",
    "ts.scale=3e-4  # change vertical scale of figure\n",
    "t.render('%%inline', tree_style=ts)"
   ]
  },
  {
   "cell_type": "code",
   "execution_count": null,
   "metadata": {},
   "outputs": [],
   "source": [
    "# If you like a different tree plotting program that uses newick format inputs, you can use\n",
    "# check the docstring for further options\n",
    "newick_string = cs.hierarchy_to_newick(hierarchy_df, clst.clusters, cell_leaves=False)\n",
    "\n",
    "from ete3 import Tree\n",
    "# generate ete3 Tree\n",
    "t = Tree(newick_string, format=1)"
   ]
  },
  {
   "cell_type": "markdown",
   "metadata": {},
   "source": [
    "Each of the merges in the tree is associated with genes that are differentially expressed between the two branches. For example, for the last merge we find the following top genes:"
   ]
  },
  {
   "cell_type": "code",
   "execution_count": null,
   "metadata": {
    "scrolled": true
   },
   "outputs": [],
   "source": [
    "split_id = 0  # first split in tree\n",
    "\n",
    "gene_scores = score_df.iloc[-split_id - 1, 4:]\n",
    "gene_scores.sort_values()"
   ]
  },
  {
   "cell_type": "markdown",
   "metadata": {},
   "source": [
    "The list shows that *INS* is expressed very differently in both branches while any variation in *SST* expression is very consistent with being noise.\n",
    "\n",
    "In the original paper, *INS* is marked as a marker gene for Beta cells.\n",
    "\n",
    "Below, we show *INS* expression of cellstates in the PCA plot"
   ]
  },
  {
   "cell_type": "code",
   "execution_count": null,
   "metadata": {},
   "outputs": [],
   "source": [
    "my_gene = 'INS'\n",
    "gene_id = np.argwhere(df.index.values==my_gene)[0,0]\n",
    "expression = log_tpm_states[:, gene_id]\n",
    "norm = plt.Normalize(vmin=expression.min(), vmax=expression.max())\n",
    "cmap = plt.cm.RdBu_r"
   ]
  },
  {
   "cell_type": "code",
   "execution_count": null,
   "metadata": {},
   "outputs": [],
   "source": [
    "fig, ax = plt.subplots(1, 1, figsize=(7,6))\n",
    "\n",
    "c1, c2 = 0, 1\n",
    "\n",
    "# plot centres of cellstates\n",
    "ax.plot(X_pca[:, c1], X_pca[:, c2], '.', ms=1, color='gray')\n",
    "sc = ax.scatter(X_pca_states[:, c1], X_pca_states[:, c2], \n",
    "                s=clst.cluster_sizes, \n",
    "                c=expression,\n",
    "                cmap='RdBu_r')\n",
    "ax.set_xlabel(f'PC {c1+1}: {pca_var[2*c1+1]:.3f}')\n",
    "ax.set_ylabel(f'PC {c2+1}: {pca_var[2*c2+1]:.3f}')\n",
    "plt.suptitle(my_gene, size=20)\n",
    "plt.colorbar(sc)\n",
    "plt.show()"
   ]
  },
  {
   "cell_type": "markdown",
   "metadata": {},
   "source": [
    "It would be interesting to see how this gene is expressed across the tree. For that purpose, we use the ete3 tree plotting library and create a custom function. "
   ]
  },
  {
   "cell_type": "code",
   "execution_count": null,
   "metadata": {},
   "outputs": [],
   "source": [
    "from ete3 import TreeStyle, NodeStyle\n",
    "\n",
    "\n",
    "def get_TreeStyle_expression(t, gene_name, log_tpm_states, hierarchy_df, clst,\n",
    "                             cmap='RdBu_r', linewidth = 2, leaf_scale=0.2):\n",
    "    \n",
    "    gene_id = np.flatnonzero(df.index.values==gene_name)[0]\n",
    "    \n",
    "    ts = TreeStyle()\n",
    "    ts.show_leaf_name=True\n",
    "    ts.scale = 3e-5\n",
    "    ts.rotation = 90\n",
    "    \n",
    "    expression = log_tpm_states[:, gene_id]\n",
    "    norm = plt.Normalize(vmin=expression.min(), vmax=expression.max())\n",
    "    cmap = getattr(plt.cm, cmap)\n",
    "    \n",
    "    cluster_map = dict(zip(np.flatnonzero(clst.cluster_sizes), range(clst.n_clusters)))\n",
    "    \n",
    "    # set up colouring of leaves/cellstates which are called C0, C1, ...\n",
    "    for leaf in t.iter_leaves():\n",
    "        cluster_id = cluster_map[int(leaf.name[1:])]\n",
    "        # find expression of that gene\n",
    "        E = expression[cluster_id]\n",
    "        color = matplotlib.colors.to_hex( cmap(norm(E)) )\n",
    "\n",
    "        style = NodeStyle()\n",
    "        # make size proportional to size of cluster\n",
    "        style['size'] = clst.cluster_sizes[cluster_id]*leaf_scale\n",
    "\n",
    "        # make color \n",
    "        style['fgcolor'] = color\n",
    "        style[\"vt_line_color\"] = color\n",
    "        style[\"hz_line_color\"] = color\n",
    "        style['vt_line_width'] = linewidth\n",
    "        style['hz_line_width'] = linewidth\n",
    "\n",
    "        leaf.set_style(style)\n",
    "\n",
    "    unmerged_clusters = clst.clusters.copy()\n",
    "    \n",
    "    # Iterate through internal nodes of tree\n",
    "    n_steps = len(hierarchy_df)\n",
    "    for i, row in hierarchy_df.iterrows():\n",
    "        c_new = row.cluster_new\n",
    "        c_old = row.cluster_old\n",
    "        # merge clusters\n",
    "        clst.combine_two_clusters(c_new, c_old)\n",
    "\n",
    "        # find expression of gene in new merged cluster\n",
    "        E = np.log(clst.get_expressionstate(c_new)[gene_id]*n_scale + 1)\n",
    "        color = matplotlib.colors.to_hex( cmap(norm(E)) )\n",
    "\n",
    "        node_name = f'I{n_steps-i-1}'\n",
    "        nodes = t.search_nodes(name=node_name)\n",
    "        if nodes:\n",
    "            node = nodes[0]\n",
    "            style = NodeStyle()\n",
    "            style[\"vt_line_color\"] = color\n",
    "            style[\"hz_line_color\"] = color\n",
    "            style['vt_line_width'] = linewidth\n",
    "            style['hz_line_width'] = linewidth\n",
    "            style['size'] = 0\n",
    "            node.set_style(style)\n",
    "    \n",
    "    clst.set_clusters(unmerged_clusters)\n",
    "    return ts"
   ]
  },
  {
   "cell_type": "code",
   "execution_count": null,
   "metadata": {},
   "outputs": [],
   "source": [
    "# Beta (INS)\n",
    "ts = get_TreeStyle_expression(t, my_gene, log_tpm_states, hierarchy_df, clst)\n",
    "t.render('%%inline', tree_style=ts)"
   ]
  },
  {
   "cell_type": "markdown",
   "metadata": {},
   "source": [
    "Let's try a few different genes - all are marker genes from the original paper. This allows us to see which branches of the tree correspond to certain cell types."
   ]
  },
  {
   "cell_type": "code",
   "execution_count": null,
   "metadata": {},
   "outputs": [],
   "source": [
    "# Alpha (GCG)\n",
    "ts = get_TreeStyle_expression(t, 'GCG', log_tpm_states, hierarchy_df, clst)\n",
    "t.render('%%inline', tree_style=ts)"
   ]
  },
  {
   "cell_type": "code",
   "execution_count": null,
   "metadata": {},
   "outputs": [],
   "source": [
    "# Delta (SST)\n",
    "ts = get_TreeStyle_expression(t, 'SST', log_tpm_states, hierarchy_df, clst)\n",
    "t.render('%%inline', tree_style=ts)"
   ]
  },
  {
   "cell_type": "code",
   "execution_count": null,
   "metadata": {},
   "outputs": [],
   "source": [
    "# Gamma (PPY)\n",
    "ts = get_TreeStyle_expression(t, 'PPY', log_tpm_states, hierarchy_df, clst)\n",
    "t.render('%%inline', tree_style=ts)"
   ]
  },
  {
   "cell_type": "code",
   "execution_count": null,
   "metadata": {},
   "outputs": [],
   "source": [
    "# Epsilon (GHRL)\n",
    "ts = get_TreeStyle_expression(t, 'GHRL', log_tpm_states, hierarchy_df, clst)\n",
    "t.render('%%inline', tree_style=ts)"
   ]
  },
  {
   "cell_type": "markdown",
   "metadata": {},
   "source": [
    "leaves are labeled C*n* where *n* is the cellstate ID, internal nodes are labeled I0 (root) ... I*(x-1)* where *x* is the number of splits in the tree. The last line in `hierarchy_df` and `gene_scores` correspond to I0, the second last to I1, etc. \n",
    "\n",
    "We can also easily look at parts of the tree - for example to examine the transcriptional diversity in *INS* expressing beta cells. The first split therein divides cluster labels 13 and 5. "
   ]
  },
  {
   "cell_type": "code",
   "execution_count": null,
   "metadata": {},
   "outputs": [],
   "source": [
    "# this finds the subbranch of the tree containing clusters 13 and 5\n",
    "branch = t.get_common_ancestor(['C13', 'C5']) \n",
    "branch.name"
   ]
  },
  {
   "cell_type": "code",
   "execution_count": null,
   "metadata": {},
   "outputs": [],
   "source": [
    "n_steps = len(hierarchy_df)\n",
    "\n",
    "split_id = 7  # id of internal node (branch name)\n",
    "merge_id = n_steps - split_id - 1  # corresponding line in hierarchy_df\n",
    "merge_id"
   ]
  },
  {
   "cell_type": "code",
   "execution_count": null,
   "metadata": {},
   "outputs": [],
   "source": [
    "hierarchy_df.tail(10)"
   ]
  },
  {
   "cell_type": "code",
   "execution_count": null,
   "metadata": {
    "scrolled": true
   },
   "outputs": [],
   "source": [
    "# first check out interesting genes corresponding to this split\n",
    "gene_scores = score_df.iloc[-split_id-1, 4:]\n",
    "gene_scores.sort_values()"
   ]
  },
  {
   "cell_type": "code",
   "execution_count": null,
   "metadata": {},
   "outputs": [],
   "source": [
    "# plotting this subbranch works the same as before\n",
    "ts = get_TreeStyle_expression(branch, 'IAPP', log_tpm_states, hierarchy_df, clst)\n",
    "ts.scale=1e-4  # adjust the scale to see more details at the bottom\n",
    "branch.render('%%inline', tree_style=ts)"
   ]
  },
  {
   "cell_type": "code",
   "execution_count": null,
   "metadata": {},
   "outputs": [],
   "source": [
    "# zoom into the left part of the tree in the same way as previously\n",
    "branch = t.get_common_ancestor(['C38', 'C1'])\n",
    "print(branch.name)\n",
    "ts = get_TreeStyle_expression(branch, 'IAPP', log_tpm_states, hierarchy_df, clst)\n",
    "ts.scale = 1e-3\n",
    "branch.render('%%inline', tree_style=ts)"
   ]
  }
 ],
 "metadata": {
  "kernelspec": {
   "display_name": "Python 3",
   "language": "python",
   "name": "python3"
  },
  "language_info": {
   "codemirror_mode": {
    "name": "ipython",
    "version": 3
   },
   "file_extension": ".py",
   "mimetype": "text/x-python",
   "name": "python",
   "nbconvert_exporter": "python",
   "pygments_lexer": "ipython3",
   "version": "3.6.10"
  }
 },
 "nbformat": 4,
 "nbformat_minor": 2
}
