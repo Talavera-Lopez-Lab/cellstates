{
 "cells": [
  {
   "cell_type": "code",
   "execution_count": 15,
   "id": "6c95f53d-54cd-483c-8a84-54e94992997c",
   "metadata": {},
   "outputs": [],
   "source": [
    "import pandas as pd\n",
    "import numpy as np\n",
    "import pickle as pkl\n",
    "import scipy.io as sio"
   ]
  },
  {
   "cell_type": "code",
   "execution_count": 16,
   "id": "add6b96b-81d4-44a5-b4bf-27171dac37d2",
   "metadata": {},
   "outputs": [
    {
     "name": "stdout",
     "output_type": "stream",
     "text": [
      "['Adam' 'Ana' 'Eve' 'Fiona' 'John' 'Melvin' 'Tom' 'Viole']\n"
     ]
    }
   ],
   "source": [
    "path_old='/scicore/home/doetsch/GROUP/scigrp/vargasSingleCell3/'\n",
    "\n",
    "\n",
    "datafile = path_old+'OUTPUT/concat_mat/prom_expr_matrix.mtx'\n",
    "data = sio.mmread(datafile).toarray().astype(np.int64)#.transpose()\n",
    "genes = pd.read_csv(path_old+'OUTPUT/concat_mat/prom_expr_promoters.tsv', header=None, sep=\"\\t\")\n",
    "cells = pd.read_csv(path_old+'OUTPUT/concat_mat/accepted_barcodes.tsv', header=None, sep=\"\\t\" )\n",
    "\n",
    "df_o = pd.DataFrame(data,index=genes[0],columns=cells[0])\n",
    "\n",
    "path='/scicore/home/doetsch/GROUP/scigrp/vargasSingleCell3_2males_added/'\n",
    "\n",
    "datafile = path+'OUTPUT/concat_mat/prom_expr_matrix.mtx'\n",
    "data = sio.mmread(datafile).toarray().astype(np.int64)#.transpose()\n",
    "genes = pd.read_csv(path+'OUTPUT/concat_mat/prom_expr_promoters.tsv', header=None, sep=\"\\t\")\n",
    "cells = pd.read_csv(path+'OUTPUT/concat_mat/accepted_barcodes.tsv', header=None, sep=\"\\t\" )\n",
    "\n",
    "df_n = pd.DataFrame(data,index=genes[0],columns=cells[0])\n",
    "\n",
    "df = pd.concat([df_o,df_n],axis=1).fillna(0)\n",
    "data = df.to_numpy().astype(int)\n",
    "\n",
    "alpha = 2**(np.round(np.log2(data.sum()/data.shape[1])))\n",
    "LAMBDA = alpha*np.sum(data, axis=1)/np.sum(data)\n",
    "mask = LAMBDA > 0\n",
    "data = data[mask, :]\n",
    "LAMBDA = LAMBDA[mask]\n",
    "genes = df.index[mask]\n",
    "df = pd.DataFrame(data,index=genes,columns=df.columns)\n",
    "\n",
    "clusters = np.loadtxt(path+'optimized_clusters.txt', dtype=np.int64)\n",
    "lmbd = np.loadtxt(path+'dirichlet_pseudocounts.txt')\n",
    "hierarchy_df = pd.read_csv(path+'cluster_hierarchy.tsv', sep='\\t')\n",
    "score_df = pd.read_csv(path+'marker_gene_scores.tsv', sep='\\t')\n",
    "score_df = pd.concat([hierarchy_df, score_df],axis=1)\n",
    "annotation = np.array(np.loadtxt(path+'batches.txt', dtype='S12'),dtype=str)\n",
    "print(np.unique(annotation))\n",
    "n_scale = np.median(data.sum(axis=0))"
   ]
  },
  {
   "cell_type": "code",
   "execution_count": 17,
   "id": "4330b286-a586-4135-a739-7ae831623f6c",
   "metadata": {},
   "outputs": [],
   "source": [
    "pklfile=open(\"varagasSingleCell3_2males_added.pkl\",'wb')\n",
    "pkl.dump(df,pklfile)\n",
    "pkl.dump(clusters,pklfile)\n",
    "pkl.dump(hierarchy_df,pklfile)\n",
    "pkl.dump(score_df,pklfile)\n",
    "pkl.dump(annotation,pklfile)\n",
    "pkl.dump(n_scale,pklfile)\n",
    "pkl.dump(lmbd,pklfile)\n",
    "pklfile.close()"
   ]
  }
 ],
 "metadata": {
  "kernelspec": {
   "display_name": "Python [conda env:anaconda3_8-snakemake]",
   "language": "python",
   "name": "conda-env-anaconda3_8-snakemake-py"
  },
  "language_info": {
   "codemirror_mode": {
    "name": "ipython",
    "version": 3
   },
   "file_extension": ".py",
   "mimetype": "text/x-python",
   "name": "python",
   "nbconvert_exporter": "python",
   "pygments_lexer": "ipython3",
   "version": "3.9.5"
  }
 },
 "nbformat": 4,
 "nbformat_minor": 5
}
