{
 "cells": [
  {
   "cell_type": "markdown",
   "id": "313b9336-0198-47d0-a08d-51b632a2a8f8",
   "metadata": {},
   "source": [
    "## Make and plot cluster-specific markers\n",
    "This notebook compares each cluster with all the remaining clusters (as a whole) and pulls out the top X markers for each cluster."
   ]
  },
  {
   "cell_type": "code",
   "execution_count": 1,
   "id": "c87f9ec3-f12f-4596-a5c1-6a9c5ec549a3",
   "metadata": {},
   "outputs": [],
   "source": [
    "import pandas as pd\n",
    "import numpy as np\n",
    "import cellstates as cs\n",
    "from cellstates.chelpers import marker_scores\n",
    "import scipy.io as sio\n",
    "import matplotlib\n",
    "matplotlib.use('agg')\n",
    "import matplotlib.pyplot as plt\n",
    "import pickle as pkl"
   ]
  },
  {
   "cell_type": "code",
   "execution_count": 2,
   "id": "0dc3877f-015e-4517-ba4d-a3068daf541d",
   "metadata": {},
   "outputs": [],
   "source": [
    "path='/scicore/home/doetsch/GROUP/scigrp/vargasSingleCell3_2males_added/'\n",
    "pathold='/scicore/home/doetsch/GROUP/scigrp/vargasSingleCell3/'"
   ]
  },
  {
   "cell_type": "code",
   "execution_count": 3,
   "id": "4b3609ae-6421-41bf-a688-9cbd54121b48",
   "metadata": {},
   "outputs": [],
   "source": [
    "pklfile=open(\"varagasSingleCell3_2males_added.pkl\",'rb')\n",
    "df=pkl.load(pklfile)\n",
    "clusters=pkl.load(pklfile)\n",
    "hierarchy_df=pkl.load(pklfile)\n",
    "score_df=pkl.load(pklfile)\n",
    "annotation=pkl.load(pklfile)\n",
    "n_scale=pkl.load(pklfile)\n",
    "lmbd=pkl.load(pklfile)\n",
    "pklfile.close()\n",
    "data = df.to_numpy().astype(int)"
   ]
  },
  {
   "cell_type": "code",
   "execution_count": 4,
   "id": "dad2c5a4-c8fd-40c2-8d80-723cd5e816fc",
   "metadata": {},
   "outputs": [],
   "source": [
    "clst = cs.Cluster(data, lmbd, clusters, max_clusters=max(clusters)+1, num_threads=12, n_cache=1000)"
   ]
  },
  {
   "cell_type": "markdown",
   "id": "e31cd453-b091-4b00-a83b-5ba8bbc32eeb",
   "metadata": {},
   "source": [
    "This sets the colors for the top row of the ballplot."
   ]
  },
  {
   "cell_type": "code",
   "execution_count": 5,
   "id": "766be019-e501-4582-a499-0dbc9237583c",
   "metadata": {},
   "outputs": [
    {
     "name": "stdout",
     "output_type": "stream",
     "text": [
      "['Adam' 'Ana' 'Eve' 'Fiona' 'John' 'Melvin' 'Tom' 'Viole']\n"
     ]
    }
   ],
   "source": [
    "colordict={\"Tom\":\"#1f77b4\",\"Adam\":\"#17bec7\",\"Viole\":\"#e377c2\",\"Ana\":\"#d62728\",\"Eve\":\"#a62728\",\"Fiona\":\"#d41f7d\",\"John\":\"#4287f5\",\"Melvin\":\"#03255c\"}\n",
    "colors = list(map(colordict.get, np.unique(annotation)))\n",
    "print(np.unique(annotation))\n",
    "cl, clsizes = np.unique(clusters, return_counts=True)"
   ]
  },
  {
   "cell_type": "code",
   "execution_count": 6,
   "id": "556250d2-b88c-4dcc-8333-a69a352a119e",
   "metadata": {},
   "outputs": [],
   "source": [
    "with open(\"/scicore/home/doetsch/GROUP/scigrp/vargasSingleCell3/utils.py\") as f:\n",
    "    exec(f.read())"
   ]
  },
  {
   "cell_type": "code",
   "execution_count": 7,
   "id": "b85a9cfe-b272-4d16-b1af-a49cad4a84d7",
   "metadata": {},
   "outputs": [],
   "source": [
    "(promidtable,genetable)=loadGeneNames(path+\"OUTPUT/concat_mat/prom_expr_promoters_w_genes.tsv\")\n",
    "(promidtable,genetable)=loadGeneNames(pathold+\"OUTPUT/concat_mat/prom_expr_promoters_w_genes.tsv\",promidtable,genetable)\n",
    "\n",
    "promids = score_df.columns.values\n",
    "geneids = []\n",
    "for promid in promids[3:]:\n",
    "    added=False\n",
    "    for gene in genetable:\n",
    "        if promid in genetable[gene]:\n",
    "            geneids.append(gene)\n",
    "            added=True\n",
    "            break\n",
    "    if not added:\n",
    "        geneids.append(promid)\n",
    "\n",
    "geneidswithpromoterids=[]\n",
    "for promid in promids[3:]:\n",
    "    added=False\n",
    "    for gene in genetable:\n",
    "        if promid in genetable[gene]:\n",
    "            geneidswithpromoterids.append(gene+\"_\"+promid)\n",
    "            added=True\n",
    "            break\n",
    "    if not added:\n",
    "        geneidswithpromoterids.append(promid)"
   ]
  },
  {
   "cell_type": "code",
   "execution_count": 8,
   "id": "6ecb047a-0521-4660-bf5f-31349ac5e73a",
   "metadata": {},
   "outputs": [],
   "source": [
    "nc = 96 # number of clusters\n",
    "merged_clusters = cs.clusters_from_hierarchy(hierarchy_df, cluster_init=clusters, steps= - nc + 1)\n",
    "newick_string = cs.hierarchy_to_newick(hierarchy_df[-nc+1:], merged_clusters, cell_leaves=False)\n",
    "t = Tree(newick_string, format=1)\n",
    "ts = get_TreeStyle_attributes(t, merged_clusters, annotation, colors=colors,leaf_scale=0.05,normalize=True,showInternalNodeNames=True)\n",
    "new_leaf_names = [\"merged\"+str(nc)+\"C\"+str(i) for i in np.arange(nc)]\n",
    "name_dict = dict(zip(t.iter_leaf_names(),  new_leaf_names))\n",
    "for key in name_dict:\n",
    "    name_dict[key]=name_dict[key]+\"_\"+key"
   ]
  },
  {
   "cell_type": "code",
   "execution_count": 9,
   "id": "6ebb24d3-0df3-4caa-8a10-e34dae664245",
   "metadata": {},
   "outputs": [],
   "source": [
    "clusters96=[]\n",
    "super96f=open(path+\"averaging/superclusters96.txt\",'r')\n",
    "for c in super96f:\n",
    "    cluster=int(c.strip())\n",
    "    if cluster not in clusters96:\n",
    "        clusters96.append(cluster)\n",
    "super96f.close()"
   ]
  },
  {
   "cell_type": "markdown",
   "id": "fd5bec20-7411-4b2c-84bf-5731424e1fe8",
   "metadata": {},
   "source": [
    "The following cell compares each cluster (at a given level of superclustering) to all the other clusters and notes the top 30 markers each time. At the end a list of this markers, stripped of duplicates, is written. "
   ]
  },
  {
   "cell_type": "code",
   "execution_count": null,
   "id": "00af4da3-82ce-49e5-adc5-ff6dfa7d38b1",
   "metadata": {},
   "outputs": [],
   "source": [
    "c1=resolveHierarchy(hierarchy_df,clusters96[0])\n",
    "c2=[c for c in range(len(clsizes)) if not c in c1]\n",
    "cl_marker_table=[marker_scores(clst,c1,c2)]\n",
    "for cluster in clusters96[1:]:\n",
    "    c1=[cluster]\n",
    "    c1.extend(resolveHierarchy(hierarchy_df,cluster))\n",
    "    c2=[c for c in range(len(clsizes)) if not c in c1]\n",
    "    cl_marker_table.append(marker_scores(clst,c1,c2))\n",
    "\n",
    "cl_marker_table = pd.DataFrame(cl_marker_table, columns=geneids)\n",
    "cl_topmarkers=open(path+\"single_clusters_markers_96_top30.txt\",'w')\n",
    "markers=[]\n",
    "for index,row in cl_marker_table.iterrows():\n",
    "    sortedindex=row.abs().sort_values(ascending=False)[:30].index\n",
    "    markers.extend(list(map(str,sortedindex)))\n",
    "    cl_topmarkers.write(str(clusters96[index])+\" \"+name_dict[\"C\"+str(clusters96[index])]+\" \"+\",\".join(list(map(str,sortedindex)))+\"\\n\")\n",
    "cl_topmarkers.close()"
   ]
  },
  {
   "cell_type": "code",
   "execution_count": null,
   "id": "49bc082c-d7e0-4b81-99ad-5db842994742",
   "metadata": {},
   "outputs": [],
   "source": [
    "markers=np.unique(markers)\n",
    "\n",
    "fp = open(path+\"single_cluster_markers_96_top30_unique_list.txt\", 'w')\n",
    "fp.write(\"\\n\".join(markers))\n",
    "fp.close()"
   ]
  },
  {
   "cell_type": "markdown",
   "id": "a596db42-30a3-408f-a6dd-8a4506b36583",
   "metadata": {},
   "source": [
    "This cell does the same as above, but adds the promoter ids to the list."
   ]
  },
  {
   "cell_type": "code",
   "execution_count": null,
   "id": "1bb5af9e-8c57-47e7-866c-1851c3dedf05",
   "metadata": {},
   "outputs": [],
   "source": [
    "c1=resolveHierarchy(hierarchy_df,clusters96[0])\n",
    "c2=[c for c in range(len(clsizes)) if not c in c1]\n",
    "cl_marker_table=[marker_scores(clst,c1,c2)]\n",
    "for cluster in clusters96[1:]:\n",
    "    c1=[cluster]\n",
    "    c1.extend(resolveHierarchy(hierarchy_df,cluster))\n",
    "    c2=[c for c in range(len(clsizes)) if not c in c1]\n",
    "    cl_marker_table.append(marker_scores(clst,c1,c2))\n",
    "\n",
    "cl_marker_table = pd.DataFrame(cl_marker_table, columns=geneidswithpromoterids)\n",
    "cl_topmarkers=open(path+\"single_clusters_markers_96_top30_with_promoterids.txt\",'w')\n",
    "for index,row in cl_marker_table.iterrows():\n",
    "    sortedindex=row.abs().sort_values(ascending=False)[:30].index\n",
    "    cl_topmarkers.write(str(clusters96[index])+\" \"+name_dict[\"C\"+str(clusters96[index])]+\" \"+\",\".join(list(map(str,sortedindex)))+\"\\n\")\n",
    "cl_topmarkers.close()"
   ]
  },
  {
   "cell_type": "markdown",
   "id": "2895a8e5-a867-49b9-8d24-319512f2f28c",
   "metadata": {},
   "source": [
    "This cell makes a ballplot for the above generated marker lists."
   ]
  },
  {
   "cell_type": "code",
   "execution_count": null,
   "id": "203a5162-7b3a-4d9b-8293-7c8c76e3a6ae",
   "metadata": {},
   "outputs": [],
   "source": [
    "import os\n",
    "os.environ['QT_QPA_PLATFORM']='offscreen'\n",
    "with open(path+\"single_cluster_markers_96_top30_unique_list.txt\", 'r') as genelist:\n",
    "    makeBallPlot(96,genelist,'single_cluster_markers_96_top30_expression.pdf',plotpath=path+\"nb/plots/\",addExpression=True,minweight=0.1)"
   ]
  },
  {
   "cell_type": "markdown",
   "id": "4cb242c1-fce8-458b-bcde-140be69dd2c6",
   "metadata": {},
   "source": [
    "This cell makes a separate ballplot plus expression matrix of the top 30 markers for each cluster."
   ]
  },
  {
   "cell_type": "code",
   "execution_count": 10,
   "id": "67a7d26d-4a92-4330-ad51-a03e06f5aa72",
   "metadata": {},
   "outputs": [],
   "source": [
    "import os\n",
    "os.environ['QT_QPA_PLATFORM']='offscreen'\n",
    "c1=resolveHierarchy(hierarchy_df,clusters96[0])\n",
    "c2=[c for c in range(len(clsizes)) if not c in c1]\n",
    "cl_marker_table=[marker_scores(clst,c1,c2)]\n",
    "for cluster in clusters96[1:]:\n",
    "    c1=[cluster]\n",
    "    c1.extend(resolveHierarchy(hierarchy_df,cluster))\n",
    "    c2=[c for c in range(len(clsizes)) if not c in c1]\n",
    "    cl_marker_table.append(marker_scores(clst,c1,c2))\n",
    "cl_marker_table = pd.DataFrame(cl_marker_table, columns=geneids)"
   ]
  },
  {
   "cell_type": "code",
   "execution_count": null,
   "id": "b5f1fe2b-ff08-483f-a44d-8a6a524c6d6a",
   "metadata": {},
   "outputs": [
    {
     "name": "stdout",
     "output_type": "stream",
     "text": [
      "/scicore/home/doetsch/GROUP/scigrp/vargasSingleCell3_2males_added/nb/plots/0_single_clusters_markers_96_Cluster_221top30.pdf\n"
     ]
    },
    {
     "name": "stderr",
     "output_type": "stream",
     "text": [
      "QStandardPaths: XDG_RUNTIME_DIR not set, defaulting to '/scratch/saktho00/slurm-job.17995583/runtime-saktho00'\n"
     ]
    },
    {
     "name": "stdout",
     "output_type": "stream",
     "text": [
      "/scicore/home/doetsch/GROUP/scigrp/vargasSingleCell3_2males_added/nb/plots/0_single_clusters_markers_96_Cluster_441top30.pdf\n",
      "/scicore/home/doetsch/GROUP/scigrp/vargasSingleCell3_2males_added/nb/plots/0_single_clusters_markers_96_Cluster_148top30.pdf\n"
     ]
    }
   ],
   "source": [
    "for index,row in cl_marker_table.iterrows():\n",
    "    if not clusters96[index] in [5,203,11,13,34,96,183,148,441,221]:\n",
    "        continue\n",
    "    sortedindex=row.abs().sort_values(ascending=False)[:30].index\n",
    "    cl_topmarkers=open(path+\"single_clusters_markers_96_Cluster_\"+str(clusters96[index])+\"top30.txt\",'w')\n",
    "    for s in sortedindex:\n",
    "        cl_topmarkers.write(str(s)+\"\\n\")\n",
    "    cl_topmarkers.close()\n",
    "    with open(path+\"single_clusters_markers_96_Cluster_\"+str(clusters96[index])+\"top30.txt\", 'r') as genelist:\n",
    "        makeBallPlot(96,genelist,\"single_clusters_markers_96_Cluster_\"+str(clusters96[index])+\"top30.pdf\",plotpath=path+\"nb/plots/\",addExpression=True,minweight=0.1)"
   ]
  },
  {
   "cell_type": "markdown",
   "id": "90d0646d-01cd-4804-ba1f-afc90b9a36c0",
   "metadata": {},
   "source": [
    "Here we can pull out the specific markers for a list of clusters.\n",
    "The list of cluster names, which is only valid for a given level of superclustering, here 96, is set in the first line."
   ]
  },
  {
   "cell_type": "code",
   "execution_count": null,
   "id": "e77d7914-ca74-4dff-9d27-143741d33248",
   "metadata": {},
   "outputs": [],
   "source": [
    "subclusters=[\"C40\",\"C185\",\"C98\",\"C90\"]\n",
    "def resolveHierarchy(hierarchy_df,c):\n",
    "    subs=hierarchy_df[\"cluster_old\"][hierarchy_df[\"cluster_new\"]==c]\n",
    "    #print(subs)\n",
    "    returnsubs=list(subs)\n",
    "    for s in subs:\n",
    "        #print(s)\n",
    "        returnsubs.extend(list(resolveHierarchy(hierarchy_df,s)))\n",
    "    return(returnsubs)\n",
    "\n",
    "for cl in subclusters:\n",
    "    c1 = resolveHierarchy(hierarchy_df[:-96],int(cl[1:]))\n",
    "    c1.extend([int(cl[1:])])\n",
    "    c2=[c for c in range(len(clsizes)) if not c in c1]\n",
    "    cl_marker_table=[marker_scores(clst,c1,c2)]\n",
    "    subsfile=open(path+\"nb/plots/\"+cl+\"_subclusters.txt\",'w')\n",
    "    subsfile.write(\"\\n\".join([\"C\"+str(c) for c in c1]))\n",
    "    subsfile.write(\"\\nvs\\n\")\n",
    "    subsfile.write(\"\\n\".join([\"C\"+str(c) for c in c2]))\n",
    "    subsfile.close()\n",
    "    cl_marker_table = pd.DataFrame(cl_marker_table, columns=geneids)\n",
    "    cl_topmarkers=open(path+\"nb/plots/spec_markers\"+cl+\".txt\",'w')\n",
    "    markerscores=open(path+\"nb/plots/spec_markerscores\"+cl+\".txt\",'w')\n",
    "    for index,row in cl_marker_table.iterrows():\n",
    "        sortedindex=row.abs().sort_values(ascending=False)[:1000].index\n",
    "        cl_topmarkers.write(\"\\n\".join(list(map(str,sortedindex)))+\"\\n\")\n",
    "        markerscores.write(\"\\n\".join(list(map(str,row.abs().sort_values(ascending=False)[:1000]))))\n",
    "    cl_topmarkers.close()\n",
    "    markerscores.close()\n",
    "    #with open(path+\"nb/plots/spec_markers\"+cl+\".txt\", 'r') as genelist:\n",
    "    #    makeBallPlot(genelist,subclusters,\"spec_markers_plot_\"+cl+\".pdf\",plotpath=path+\"nb/plots/\",addExpression=False)"
   ]
  }
 ],
 "metadata": {
  "kernelspec": {
   "display_name": "Python [conda env:anaconda3_8-snakemake]",
   "language": "python",
   "name": "conda-env-anaconda3_8-snakemake-py"
  },
  "language_info": {
   "codemirror_mode": {
    "name": "ipython",
    "version": 3
   },
   "file_extension": ".py",
   "mimetype": "text/x-python",
   "name": "python",
   "nbconvert_exporter": "python",
   "pygments_lexer": "ipython3",
   "version": "3.9.5"
  }
 },
 "nbformat": 4,
 "nbformat_minor": 5
}
