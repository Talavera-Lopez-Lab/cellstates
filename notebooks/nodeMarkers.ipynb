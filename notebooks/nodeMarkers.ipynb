{
 "cells": [
  {
   "cell_type": "markdown",
   "id": "f4ceaf3c-795e-4c08-b803-d2b29d892d47",
   "metadata": {},
   "source": [
    "## Make and plot node-specific markers\n",
    "This notebook takes user-specified nodes and creates lists of markers comparing the clusters on the two branches below these nodes."
   ]
  },
  {
   "cell_type": "code",
   "execution_count": null,
   "id": "dc4d2860-0a8b-462b-8379-9989abe75674",
   "metadata": {},
   "outputs": [],
   "source": [
    "import pandas as pd\n",
    "import numpy as np\n",
    "import cellstates as cs\n",
    "from cellstates.chelpers import marker_scores\n",
    "import scipy.io as sio\n",
    "import matplotlib\n",
    "matplotlib.use('agg')\n",
    "import matplotlib.pyplot as plt\n",
    "import pickle as pkl"
   ]
  },
  {
   "cell_type": "code",
   "execution_count": null,
   "id": "f8d76096-f5fd-494b-85b5-fa752a99ef22",
   "metadata": {},
   "outputs": [],
   "source": [
    "path='/scicore/home/doetsch/GROUP/scigrp/vargasSingleCell3_2males_added/'\n",
    "pathold='/scicore/home/doetsch/GROUP/scigrp/vargasSingleCell3/'"
   ]
  },
  {
   "cell_type": "code",
   "execution_count": null,
   "id": "8fe64324-e851-4e65-8d48-0b9122cd1cec",
   "metadata": {},
   "outputs": [],
   "source": [
    "pklfile=open(\"varagasSingleCell3_2males_added.pkl\",'rb')\n",
    "df=pkl.load(pklfile)\n",
    "clusters=pkl.load(pklfile)\n",
    "hierarchy_df=pkl.load(pklfile)\n",
    "score_df=pkl.load(pklfile)\n",
    "annotation=pkl.load(pklfile)\n",
    "n_scale=pkl.load(pklfile)\n",
    "lmbd=pkl.load(pklfile)\n",
    "pklfile.close()\n",
    "data = df.to_numpy().astype(int)"
   ]
  },
  {
   "cell_type": "code",
   "execution_count": null,
   "id": "96955e43-df17-47f6-8f7b-89fad1dd2932",
   "metadata": {},
   "outputs": [],
   "source": [
    "clst = cs.Cluster(data, lmbd, clusters, max_clusters=max(clusters)+1, num_threads=12, n_cache=1000)"
   ]
  },
  {
   "cell_type": "code",
   "execution_count": null,
   "id": "76e5e385-752a-4ba3-a726-e776edf2b272",
   "metadata": {},
   "outputs": [],
   "source": [
    "colordict={\"Tom\":\"#1f77b4\",\"Adam\":\"#17bec7\",\"Viole\":\"#e377c2\",\"Ana\":\"#d62728\",\"Eve\":\"#a62728\",\"Fiona\":\"#d41f7d\",\"John\":\"#4287f5\",\"Melvin\":\"#03255c\"}\n",
    "colors = list(map(colordict.get, np.unique(annotation)))\n",
    "print(np.unique(annotation))\n",
    "cl, clsizes = np.unique(clusters, return_counts=True)"
   ]
  },
  {
   "cell_type": "code",
   "execution_count": null,
   "id": "03d69f30-f91d-4be9-9955-7dfe32086e99",
   "metadata": {},
   "outputs": [],
   "source": [
    "with open(\"/scicore/home/doetsch/GROUP/scigrp/vargasSingleCell3/utils.py\") as f:\n",
    "    exec(f.read())"
   ]
  },
  {
   "cell_type": "markdown",
   "id": "669cf3a5-4c56-4c6f-a805-8858c4b856c5",
   "metadata": {},
   "source": [
    "If the plotHierachy plot hasn't been made yet. You can make it here for a given level of superclustering. Just adjust the \"nc\" variable in the first line."
   ]
  },
  {
   "cell_type": "code",
   "execution_count": null,
   "id": "ca2a2368-39c9-451c-8c6c-0abe0b0f7170",
   "metadata": {},
   "outputs": [],
   "source": [
    "nc = 96 # number of clusters\n",
    "merged_clusters = cs.clusters_from_hierarchy(hierarchy_df, cluster_init=clusters, steps= - nc + 1)\n",
    "newick_string = cs.hierarchy_to_newick(hierarchy_df[-nc+1:], merged_clusters, cell_leaves=False)\n",
    "t = Tree(newick_string, format=1)\n",
    "ts = get_TreeStyle_attributes(t, merged_clusters, annotation, colors=colors,leaf_scale=0.05,normalize=True,showInternalNodeNames=True)\n",
    "new_leaf_names = [\"merged\"+str(nc)+\"C\"+str(i) for i in np.arange(nc)]\n",
    "name_dict = dict(zip(t.iter_leaf_names(),  new_leaf_names))\n",
    "for key in name_dict:\n",
    "    name_dict[key]=name_dict[key]+\"_\"+key\n",
    "for l in t.iter_leaves():\n",
    "    l.add_face(TextFace(name_dict[l.name],fsize=60), column=2)\n",
    "# ts.show_leaf_name = True\n",
    "t.render(path+'nb/plots/plotHierarchy96.pdf', tree_style=ts)"
   ]
  },
  {
   "cell_type": "markdown",
   "id": "198621d7-0dc0-4c7e-b4d7-19c45510440f",
   "metadata": {},
   "source": [
    "Here you indicate which node you are interested in. The node nodes typically are something like \"I3\". These names can be looked up in the plotHierarchy.pdf plot. The a list of top 100 markers if made."
   ]
  },
  {
   "cell_type": "code",
   "execution_count": null,
   "id": "cf1a33f6-eaab-4331-84c7-fe5214230027",
   "metadata": {},
   "outputs": [],
   "source": [
    "nodeOfInterest=\"I3\"\n",
    "node = t.search_nodes(name=nodeOfInterest)[0]\n",
    "i=0\n",
    "subs=[[],[]]\n",
    "for child in node.get_children():\n",
    "    if i==2:\n",
    "        print(\"not a binary split!!!\")\n",
    "        break\n",
    "    for leaf in child:\n",
    "        subs[i].append(int(leaf.name[1:]))\n",
    "    i+=1\n",
    "scores=marker_scores(clst,subs[0],subs[1])\n",
    "scores = pd.Series(scores, index=geneids)\n",
    "split_topmarkers=open(path+\"nb/plots/\"+nodeOfInterest+\"_type3_markers.txt\",'w')\n",
    "sortedindex=scores.abs().sort_values(ascending=False)[:100].index\n",
    "split_topmarkers.write(\"\\n\".join(list(map(str,sortedindex))))\n",
    "split_topmarkers.close()"
   ]
  },
  {
   "cell_type": "markdown",
   "id": "e32eded5-35e1-4905-bdfa-b68a216e0fe1",
   "metadata": {},
   "source": [
    "Here a ballplot of the above-generated list of genes is made. This is done at a given level of superclustering, which can be adjusted in the first line."
   ]
  },
  {
   "cell_type": "code",
   "execution_count": null,
   "id": "19aa128c-5af6-43d8-8455-77f22b8323b3",
   "metadata": {},
   "outputs": [],
   "source": [
    "superclustering=96\n",
    "import os\n",
    "os.environ['QT_QPA_PLATFORM']='offscreen'\n",
    "with open(path+\"nb/plots/\"+nodeOfInterest+\"_type3_markers.txt\", 'r') as genelist:\n",
    "    makeBallPlot(superclustering, genelist,\"\"+nodeOfInterest+\"_type3_markers_\"+str(superclustering)+\".pdf\",n_scale=n_scale,plotpath=path+\"nb/plots/\")\n",
    "with open(path+\"nb/plots/\"+nodeOfInterest+\"_type3_markers.txt\", 'r') as genelist:\n",
    "    makeBallPlot(superclustering, genelist,\"\"+nodeOfInterest+\"_type3_markers_\"+str(superclustering)+\"_expression.pdf\",addExpression=True,n_scale=n_scale,plotpath=path+\"nb/plots/\")"
   ]
  }
 ],
 "metadata": {
  "kernelspec": {
   "display_name": "Python [conda env:anaconda3_8-snakemake]",
   "language": "python",
   "name": "conda-env-anaconda3_8-snakemake-py"
  },
  "language_info": {
   "codemirror_mode": {
    "name": "ipython",
    "version": 3
   },
   "file_extension": ".py",
   "mimetype": "text/x-python",
   "name": "python",
   "nbconvert_exporter": "python",
   "pygments_lexer": "ipython3",
   "version": "3.9.5"
  }
 },
 "nbformat": 4,
 "nbformat_minor": 5
}
