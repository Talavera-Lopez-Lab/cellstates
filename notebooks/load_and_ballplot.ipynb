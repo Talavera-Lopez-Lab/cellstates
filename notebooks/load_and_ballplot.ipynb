{
 "cells": [
  {
   "cell_type": "code",
   "execution_count": 14,
   "id": "f2503101-9620-4de5-a081-3dbfac9c099f",
   "metadata": {},
   "outputs": [],
   "source": [
    "import pandas as pd\n",
    "import numpy as np\n",
    "import cellstates as cs\n",
    "from cellstates.chelpers import marker_scores\n",
    "import scipy.io as sio\n",
    "import matplotlib\n",
    "matplotlib.use('agg')\n",
    "import matplotlib.pyplot as plt\n",
    "import pickle as pkl"
   ]
  },
  {
   "cell_type": "code",
   "execution_count": 15,
   "id": "bdd98cf7-9286-4c74-b180-9f3ed8971600",
   "metadata": {},
   "outputs": [],
   "source": [
    "path='/scicore/home/doetsch/GROUP/scigrp/vargasSingleCell3_2males_added/'\n",
    "pathold='/scicore/home/doetsch/GROUP/scigrp/vargasSingleCell3/'"
   ]
  },
  {
   "cell_type": "code",
   "execution_count": 16,
   "id": "f37bbe5c-dd34-4f3c-8c97-2e91930c0a97",
   "metadata": {},
   "outputs": [],
   "source": [
    "pklfile=open(\"varagasSingleCell3_2males_added.pkl\",'rb')\n",
    "df=pkl.load(pklfile)\n",
    "clusters=pkl.load(pklfile)\n",
    "hierarchy_df=pkl.load(pklfile)\n",
    "score_df=pkl.load(pklfile)\n",
    "annotation=pkl.load(pklfile)\n",
    "n_scale=pkl.load(pklfile)\n",
    "lmbd=pkl.load(pklfile)\n",
    "pklfile.close()\n",
    "data = df.to_numpy().astype(int)"
   ]
  },
  {
   "cell_type": "code",
   "execution_count": 17,
   "id": "93d6382f-5a45-4cb0-a125-4098d69b0ff7",
   "metadata": {},
   "outputs": [
    {
     "name": "stdout",
     "output_type": "stream",
     "text": [
      "['Adam' 'Ana' 'Eve' 'Fiona' 'John' 'Melvin' 'Tom' 'Viole']\n"
     ]
    }
   ],
   "source": [
    "clst = cs.Cluster(data, lmbd, clusters, max_clusters=max(clusters)+1, num_threads=12, n_cache=1000)\n",
    "#colors=[\"#a62728\",\"#1f77b4\",\"#17bec7\",\"#7e2e99\",\"#e377c2\"]\n",
    "colordict={\"Tom\":\"#1f77b4\",\"Adam\":\"#17bec7\",\"Viole\":\"#e377c2\",\"Ana\":\"#d62728\",\"Eve\":\"#a62728\",\"Fiona\":\"#d41f7d\",\"John\":\"#4287f5\",\"Melvin\":\"#03255c\"}\n",
    "colors = list(map(colordict.get, np.unique(annotation)))\n",
    "print(np.unique(annotation))\n",
    "cl, clsizes = np.unique(clusters, return_counts=True)"
   ]
  },
  {
   "cell_type": "code",
   "execution_count": 18,
   "id": "b173fdf8-4c39-49e5-89e0-826d1df471ad",
   "metadata": {},
   "outputs": [],
   "source": [
    "with open(\"/scicore/home/doetsch/GROUP/scigrp/vargasSingleCell3/utils.py\") as f:\n",
    "    exec(f.read())"
   ]
  },
  {
   "cell_type": "code",
   "execution_count": 19,
   "id": "0c1e069f-f656-4098-9048-04488afe3ae4",
   "metadata": {},
   "outputs": [],
   "source": [
    "(promidtable,genetable)=loadGeneNames(path+\"OUTPUT/concat_mat/prom_expr_promoters_w_genes.tsv\")\n",
    "(promidtable,genetable)=loadGeneNames(path+\"OUTPUT/concat_mat/prom_expr_promoters_w_genes.tsv\",promidtable,genetable)\n",
    "\n",
    "promids = score_df.columns.values\n",
    "geneids = []\n",
    "for promid in promids[3:]:\n",
    "    added=False\n",
    "    for gene in genetable:\n",
    "        if promid in genetable[gene]:\n",
    "            geneids.append(gene)\n",
    "            added=True\n",
    "            break\n",
    "    if not added:\n",
    "        geneids.append(promid)"
   ]
  },
  {
   "cell_type": "code",
   "execution_count": null,
   "id": "39b7f34e-5016-4ffb-bea7-6e1cbe7f297f",
   "metadata": {},
   "outputs": [
    {
     "name": "stdout",
     "output_type": "stream",
     "text": [
      ">Epithelial\n",
      ">Lipid\n",
      ">Myoepithelial\n",
      "Cytor not found\n",
      ">Dark\n"
     ]
    }
   ],
   "source": [
    "import os\n",
    "os.environ['QT_QPA_PLATFORM']='offscreen'\n",
    "cleangenelist=[]\n",
    "typ=\"blank\"\n",
    "with open(path+\"nb/genelist.txt\", 'r') as genelist:\n",
    "    first=True\n",
    "    for g in genelist:\n",
    "        if g[0]==\">\":\n",
    "            if not first:\n",
    "                makeBallPlot(96, cleangenelist,typ+\"_96.pdf\",n_scale=n_scale,plotpath=path+\"nb/plots/\",addExpression=True)\n",
    "                cleangenelist=[]\n",
    "            typ=g.strip().split()[0]\n",
    "            print(typ)\n",
    "            first=False\n",
    "        elif len(g.strip().split())==2:\n",
    "            gene=g.strip().split()[0]\n",
    "            cleangenelist.append(gene)\n",
    "        else:\n",
    "            gene=g.strip()\n",
    "            cleangenelist.append(gene)\n",
    "    makeBallPlot(96, cleangenelist,typ+\"_96.pdf\",n_scale=n_scale,plotpath=path+\"nb/plots/\",addExpression=True)"
   ]
  },
  {
   "cell_type": "code",
   "execution_count": null,
   "id": "c7cd9999-1647-43b8-b02f-d5ae71ddbd7d",
   "metadata": {},
   "outputs": [],
   "source": [
    "nc = 96 # number of clusters\n",
    "merged_clusters = cs.clusters_from_hierarchy(hierarchy_df, cluster_init=clusters, steps= - nc + 1)\n",
    "newick_string = cs.hierarchy_to_newick(hierarchy_df[-nc+1:], merged_clusters, cell_leaves=False)\n",
    "t = Tree(newick_string, format=1)\n",
    "ts = get_TreeStyle_attributes(t, merged_clusters, annotation, colors=colors,leaf_scale=0.05,normalize=True,showInternalNodeNames=True)\n",
    "new_leaf_names = [\"merged\"+str(nc)+\"C\"+str(i) for i in np.arange(nc)]\n",
    "name_dict = dict(zip(t.iter_leaf_names(),  new_leaf_names))\n",
    "for key in name_dict:\n",
    "    name_dict[key]=name_dict[key]+\"_\"+key\n",
    "for l in t.iter_leaves():\n",
    "    l.add_face(TextFace(name_dict[l.name],fsize=60), column=2)\n",
    "# ts.show_leaf_name = True\n",
    "t.render(path+'nb/plots/plotHierarchy96.pdf', tree_style=ts)"
   ]
  },
  {
   "cell_type": "code",
   "execution_count": 13,
   "id": "61b8a6f1-6b95-4585-a484-de85ff20a56a",
   "metadata": {},
   "outputs": [],
   "source": [
    "promidtable=loadGeneNames(path+\"OUTPUT/concat_mat/prom_expr_promoters_w_genes.tsv\")\n",
    "promidtable=loadGeneNames(pathold+\"OUTPUT/concat_mat/prom_expr_promoters_w_genes.tsv\",promidtable)\n",
    "dumpEmpressionMatrix(path+\"nb/expressionMatrix_96_allgenes.csv\",96,hierarchy_df,promidtable)\n",
    "dumpEmpressionMatrix(path+\"nb/expressionMatrix_48_allgenes.csv\",48,hierarchy_df,promidtable)\n",
    "dumpEmpressionMatrix(path+\"nb/expressionMatrix_24_allgenes.csv\",24,hierarchy_df,promidtable)\n",
    "dumpEmpressionMatrix(path+\"nb/expressionMatrix_full_allgenes.csv\",len(clsizes),hierarchy_df,promidtable)"
   ]
  }
 ],
 "metadata": {
  "kernelspec": {
   "display_name": "Python [conda env:anaconda3_8-snakemake]",
   "language": "python",
   "name": "conda-env-anaconda3_8-snakemake-py"
  },
  "language_info": {
   "codemirror_mode": {
    "name": "ipython",
    "version": 3
   },
   "file_extension": ".py",
   "mimetype": "text/x-python",
   "name": "python",
   "nbconvert_exporter": "python",
   "pygments_lexer": "ipython3",
   "version": "3.9.5"
  }
 },
 "nbformat": 4,
 "nbformat_minor": 5
}
