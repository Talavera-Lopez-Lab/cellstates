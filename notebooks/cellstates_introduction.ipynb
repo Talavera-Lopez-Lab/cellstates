{
 "cells": [
  {
   "cell_type": "markdown",
   "metadata": {},
   "source": [
    "# Introduction to cellstates\n",
    "\n",
    "`cellstates` is a python package for analysis of UMI-based single-cell RNA-seq data. The underlying mathematical model infers clusters of cells that are in the same gene expression state, meaning that all remaining heterogeneity within each cluster can be explained by expected measurement noise. Thus, we find the most fine-grained clustering that is  supported by the data. Furthermore, we describe the higher-order relationship of these cell-states in a hierarchical tree and provide scores for marker-genes within this tree."
   ]
  },
  {
   "cell_type": "markdown",
   "metadata": {},
   "source": [
    "Instruction on how to install and run `cellstates` on the commandline can be found in the [Readme](../README.md)"
   ]
  },
  {
   "cell_type": "markdown",
   "metadata": {},
   "source": [
    "# Python module"
   ]
  },
  {
   "cell_type": "markdown",
   "metadata": {},
   "source": [
    "Some more advanced functionalities of cellstates can currently only be accessed by running cellstates through python or by loading the output files of the commandline tool into python. "
   ]
  },
  {
   "cell_type": "code",
   "execution_count": 1,
   "metadata": {},
   "outputs": [],
   "source": [
    "import cellstates as cs\n",
    "import numpy as np\n",
    "import pandas as pd\n",
    "import matplotlib.pyplot as plt"
   ]
  },
  {
   "cell_type": "code",
   "execution_count": 2,
   "metadata": {},
   "outputs": [
    {
     "data": {
      "text/plain": [
       "(19052, 2298)"
      ]
     },
     "execution_count": 2,
     "metadata": {},
     "output_type": "execute_result"
    }
   ],
   "source": [
    "# load data\n",
    "\n",
    "datafile = '../test/data/simulated_data.tsv.gz'\n",
    "df = pd.read_csv(datafile, sep='\\t', index_col=0)\n",
    "\n",
    "data = df.values.astype(np.int)\n",
    "all_genes = df.index.values\n",
    "cells = df.columns.values\n",
    "\n",
    "G, N = data.shape\n",
    "G, N"
   ]
  },
  {
   "cell_type": "markdown",
   "metadata": {},
   "source": [
    "The information about a dataset is stored in a `cs.Cluster` object. "
   ]
  },
  {
   "cell_type": "code",
   "execution_count": 3,
   "metadata": {},
   "outputs": [
    {
     "name": "stdout",
     "output_type": "stream",
     "text": [
      "Help on class Cluster in module cellstates.cluster:\n",
      "\n",
      "class Cluster(builtins.object)\n",
      " |  Object that contains SC expression data, lambda and stores a partition\n",
      " |  \n",
      " |  Parameters\n",
      " |  ----------\n",
      " |  d : 2D array of ints\n",
      " |      UMI count array of shape (N_genes, N_cells)\n",
      " |  l : 1D array or float, default=None\n",
      " |      If array, the pseudo-counts lambda for each gene. Has to be of shape (N_genes, ).\n",
      " |      All entries must be > 0. If float, defines the magnitude of the pseudo-counts,\n",
      " |      but their relative sizes is set by data average. If None, magnitude is chosen\n",
      " |      automatically.\n",
      " |  c : 1D array of ints, default=None\n",
      " |      Cluster labels for each cell. Has to be of shape (N_cells, ).\n",
      " |      Labels must be positive and < N_boxes. If None, every cell is in its own cluster.\n",
      " |  genes : 1D array, optional\n",
      " |      Names of genes; does not have to be set.\n",
      " |  max_clusters : int, default 0\n",
      " |      Maximum number of clusters allowed (acces through item N_boxes).\n",
      " |      if max_clusters=0, N_boxes=N_cells\n",
      " |  num_threads : int, default 1\n",
      " |      Number of threads used in parallel computations.\n",
      " |  n_cache : int, default=100\n",
      " |      Number of lgamma values to store per gene.\n",
      " |      Large values speed up calculations, but use more memory\n",
      " |  seed : unsigned int, default=1\n",
      " |      random generator seed\n",
      " |  \n",
      " |  Returns\n",
      " |  -------\n",
      " |  clst : object of type Cluster\n",
      " |  \n",
      " |  Methods defined here:\n",
      " |  \n",
      " |  __init__(self, /, *args, **kwargs)\n",
      " |      Initialize self.  See help(type(self)) for accurate signature.\n",
      " |  \n",
      " |  __new__(*args, **kwargs) from builtins.type\n",
      " |      Create and return a new object.  See help(type) for accurate signature.\n",
      " |  \n",
      " |  __reduce__ = __reduce_cython__(...)\n",
      " |  \n",
      " |  __setstate__ = __setstate_cython__(...)\n",
      " |  \n",
      " |  biased_monte_carlo_sampling(...)\n",
      " |      Do N_steps steps of Monte-Carlo sampling of partition space where the\n",
      " |      move-set is biased as towards higher likelihood partitions.\n",
      " |      \n",
      " |      Parameters\n",
      " |      ----------\n",
      " |      N_steps : int, default=1\n",
      " |          Number of MCMC steps to run.\n",
      " |      tries_per_step : int, default=1000\n",
      " |          Number of moves proposed per step before RuntimeError is raised.\n",
      " |      N_batch : int, default=0\n",
      " |          Deprecated; Included for backward compatibility; use tries_per_step\n",
      " |          A maximum of 100*N_batch*N_steps moves can be proposed in total\n",
      " |          before a RuntimeError is raised.\n",
      " |      new : bool, default=True\n",
      " |          which method to use to sample partitions uniformly.\n",
      " |      \n",
      " |      Returns\n",
      " |      -------\n",
      " |      None\n",
      " |          The Cluster object is updated to contain a new partition\n",
      " |      \n",
      " |      Raises\n",
      " |      ------\n",
      " |      RuntimeError:\n",
      " |          If too many moves are rejected, a RuntimeError is raised.\n",
      " |  \n",
      " |  combine_two_clusters(...)\n",
      " |      combines two clusters labelled c1 and c2 into one cluster labelled c1.\n",
      " |      \n",
      " |      Parameters\n",
      " |      ----------\n",
      " |      c1, c2 : int\n",
      " |          labels of clusters to combine into one.\n",
      " |          The combined cluster has label c1.\n",
      " |      \n",
      " |      Returns\n",
      " |      -------\n",
      " |      None\n",
      " |          Updates Cluster object\n",
      " |  \n",
      " |  get_best_move(...)\n",
      " |      Find best move for cell m. Returns the best cluster to move m to and\n",
      " |      the associated change in log-likelihood, but does not perform move.\n",
      " |      In case m is already in the optimal cluster, the second best option\n",
      " |      is given (with negative best_delta_LL).\n",
      " |      If an iterable move_to is given, only moves to those clusters will\n",
      " |      be considered.\n",
      " |      \n",
      " |      Parameters\n",
      " |      ----------\n",
      " |      m : int\n",
      " |          cell index\n",
      " |      move_to : iterable of ints, optional\n",
      " |          iterable of all clusters to consider moving cell m to.\n",
      " |          Default is to consider all available clusters.\n",
      " |      \n",
      " |      Returns\n",
      " |      -------\n",
      " |      c_best : int\n",
      " |          cluster to which cell was moved\n",
      " |      best_delta_LL : flaot\n",
      " |          change in total log-likelihood associated with move\n",
      " |  \n",
      " |  get_cluster_hierarchy(...)\n",
      " |      Function to get complete hierarchical tree of cluster similarities.\n",
      " |      Unlike merge_clusters, it does not change the state of the Cluster\n",
      " |      object.\n",
      " |      \n",
      " |      Returns\n",
      " |      -------\n",
      " |      hierarchy : list of tuples\n",
      " |          List of order in which clusters were merged\n",
      " |      delta_LL_history : list of floats\n",
      " |          List of change in log-likelihood associated with each merging step.\n",
      " |  \n",
      " |  get_expressionstate(...)\n",
      " |      Get modal expression state vector of cluster c.\n",
      " |      \n",
      " |      Parameters\n",
      " |      ----------\n",
      " |      c : int\n",
      " |          cluster index\n",
      " |      \n",
      " |      Returns\n",
      " |      -------\n",
      " |      f : array of floats\n",
      " |          modal gene expression state vector\n",
      " |      \n",
      " |      Raises\n",
      " |      ------\n",
      " |      ValueError\n",
      " |          When c is an empty cluster\n",
      " |  \n",
      " |  get_expressionstate_mv(...)\n",
      " |      Get mean and variance of expression state vector\n",
      " |      They are calculated independently for each gene and hence does not\n",
      " |      add up to 1.\n",
      " |      \n",
      " |      Parameters\n",
      " |      ----------\n",
      " |      c : int\n",
      " |          cluster index\n",
      " |      \n",
      " |      Returns\n",
      " |      -------\n",
      " |      f : array of floats\n",
      " |          mean gene expression state vector\n",
      " |      var_f : array of floats\n",
      " |          predicted variance of each gene\n",
      " |      \n",
      " |      Raises\n",
      " |      ------\n",
      " |          ValueError\n",
      " |              When c is an empty cluster\n",
      " |  \n",
      " |  merge_clusters(...)\n",
      " |      Method to do hierarchical merging of clusters. Default settings stop\n",
      " |      when optimum log-likelihood is reached.\n",
      " |      \n",
      " |      Parameters\n",
      " |      ----------\n",
      " |      LL_threshold : float, default=0.\n",
      " |          Threshold by how much log-likelihood must change to merge clusters.\n",
      " |          If LL_threshold < 0, we also consider moves that reduce total LL.\n",
      " |          If LL_threshold = -np.if, clusters will be merged until\n",
      " |          n_clusters_threshold is reached.\n",
      " |      n_clusters_threshold : int, default=1\n",
      " |          Minimum number of clusters allowed after merging. Must be > 0\n",
      " |      \n",
      " |      Returns\n",
      " |      -------\n",
      " |      hierarchy : list of tuples\n",
      " |          List of order in which clusters were merged\n",
      " |      delta_LL_history : list of floats\n",
      " |          List of change in log-likelihood associated with each merging step.\n",
      " |      \n",
      " |      Raises\n",
      " |      ------\n",
      " |      ValueError\n",
      " |          When n_cluster_threshold < 1\n",
      " |  \n",
      " |  move_cell(...)\n",
      " |      move cell m into cluster c_new\n",
      " |      \n",
      " |      Parameters\n",
      " |      ----------\n",
      " |      m : int\n",
      " |          index of cell to move\n",
      " |      c_new : int\n",
      " |          index of cluster to move cell into\n",
      " |  \n",
      " |  optimal_move(...)\n",
      " |      Move cell m to its best cluster. Returns the new cluster of m.\n",
      " |      If an iterable move_to is given, only moves to those clusters will\n",
      " |      be considered.\n",
      " |      \n",
      " |      Parameters\n",
      " |      ----------\n",
      " |      m : int\n",
      " |          cell index\n",
      " |      move_to : iterable, optional\n",
      " |          iterable of all clusters to consider moving cell m to.\n",
      " |          Default is to consider all available clusters.\n",
      " |      \n",
      " |      Returns\n",
      " |      -------\n",
      " |      c_best : int\n",
      " |          cluster to which cell was moved\n",
      " |  \n",
      " |  optimize_clusters(...)\n",
      " |      Method to optimize current partition without further MCMC steps.\n",
      " |      Clusters are first optimally merged then individual cells are moved\n",
      " |      to their optimal cluster.\n",
      " |      Cluster labels and N_boxes may change in the process.\n",
      " |      \n",
      " |      Parameters\n",
      " |      ----------\n",
      " |      merge_clusters : bool, default=True\n",
      " |          whether to include the cluster-merging step\n",
      " |      optimize_cells : bool, default=True\n",
      " |          whether to include the cell-moving step\n",
      " |      optimize_simple : bool, default=True\n",
      " |          If True, every cell's position is optimized once.\n",
      " |          If False, several rounds of optimization are performed.\n",
      " |      set_N_boxes : bool, default = True\n",
      " |          whether to allow N_boxes to be changed\n",
      " |  \n",
      " |  set_N_boxes(...)\n",
      " |      change possible number of clusters.\n",
      " |      clusters in Cluster object are automatically relabelled from 0 to\n",
      " |      (n_clusters-1) and mapping is returned\n",
      " |      \n",
      " |      Parameters\n",
      " |      ----------\n",
      " |      Nb_new : int\n",
      " |          New maximum number of clusters allowed.\n",
      " |      \n",
      " |      Returns\n",
      " |      -------\n",
      " |      mapping : dict\n",
      " |          Dictionary mapping old cluster labels to new ones.\n",
      " |          mapping[i_new] = i_old where i_new is the new label for cluster\n",
      " |          i_old\n",
      " |  \n",
      " |  set_clusters(...)\n",
      " |      Set clusters to new values.\n",
      " |      \n",
      " |      Parameters\n",
      " |      ----------\n",
      " |      new_clusters : array-like\n",
      " |          new clusters\n",
      " |      max_clusters : int, default 0\n",
      " |          Maximum number of clusters allowed (acces through item N_boxes).\n",
      " |          if max_clusters=0, N_boxes=max(new_clusters)\n",
      " |      \n",
      " |      Raises\n",
      " |      ------\n",
      " |      ValueError\n",
      " |          when entries in new_clusters are negative\n",
      " |  \n",
      " |  set_dirichlet_pseudocounts(...)\n",
      " |      Set dirichlet pseudocounts (lambda) to new values. Optionally also set n_cache new.\n",
      " |      \n",
      " |      Parameters\n",
      " |      ----------\n",
      " |      l : 1D array or float\n",
      " |          If array, the new pseudo-counts lambda for each gene. Has to be of shape (N_genes, ).\n",
      " |          All entries must be > 0. If float, defines the magnitude of the pseudo-counts,\n",
      " |          but their relative sizes is set by data average.\n",
      " |      n_cache : int, default=-1\n",
      " |          Number of lgamma values to store per gene.\n",
      " |          If < 0, n_cache is not changed.\n",
      " |          Large values speed up calculations, but use more memory\n",
      " |      \n",
      " |      Raises\n",
      " |      ------\n",
      " |      ValueError\n",
      " |          when shape is mismatched to data, or values are <=0.\n",
      " |  \n",
      " |  ----------------------------------------------------------------------\n",
      " |  Data descriptors defined here:\n",
      " |  \n",
      " |  G\n",
      " |  \n",
      " |  N_boxes\n",
      " |  \n",
      " |  N_samples\n",
      " |  \n",
      " |  cluster_sizes\n",
      " |      array of cluster sizes\n",
      " |  \n",
      " |  cluster_umi_counts\n",
      " |      array of total UMI counts per gene in each cluster\n",
      " |  \n",
      " |  cluster_umi_sum\n",
      " |      array of total UMI counts in each cluster\n",
      " |  \n",
      " |  clusters\n",
      " |      array specifying clusters.\n",
      " |      clusters[i] = j means cell i is in cluster j\n",
      " |  \n",
      " |  dirichlet_pseudocounts\n",
      " |      array of dirichlet prior pseudocounts\n",
      " |  \n",
      " |  genes\n",
      " |      numpy array of gene names\n",
      " |  \n",
      " |  likelihood\n",
      " |      array of log-likelihoods for every cluster\n",
      " |  \n",
      " |  n_clusters\n",
      " |      number of clusters\n",
      " |  \n",
      " |  total_likelihood\n",
      " |      total log-likelihood of partition\n",
      " |  \n",
      " |  umi_data\n",
      " |      numpy array of UMI counts\n",
      " |  \n",
      " |  ----------------------------------------------------------------------\n",
      " |  Data and other attributes defined here:\n",
      " |  \n",
      " |  __pyx_vtable__ = <capsule object NULL>\n",
      "\n"
     ]
    }
   ],
   "source": [
    "help(cs.Cluster)"
   ]
  },
  {
   "cell_type": "code",
   "execution_count": 4,
   "metadata": {},
   "outputs": [],
   "source": [
    "# creating a new object with default settings\n",
    "clst = cs.Cluster(data)"
   ]
  },
  {
   "cell_type": "markdown",
   "metadata": {},
   "source": [
    "The object stores a partition of the cells into cellstates (accessed through `clst.clusters`). By default, each cell is in its own cellstate."
   ]
  },
  {
   "cell_type": "code",
   "execution_count": 5,
   "metadata": {},
   "outputs": [
    {
     "data": {
      "text/plain": [
       "array([   0,    1,    2, ..., 2295, 2296, 2297])"
      ]
     },
     "execution_count": 5,
     "metadata": {},
     "output_type": "execute_result"
    }
   ],
   "source": [
    "clst.clusters"
   ]
  },
  {
   "cell_type": "markdown",
   "metadata": {},
   "source": [
    "## Optimization of partition\n",
    "**NOTE:** The full optimization of both the partition and the prior is currently only implemented in the commandline tool. Only optimize the partition through python if you understand the mathematical model. "
   ]
  },
  {
   "cell_type": "markdown",
   "metadata": {},
   "source": [
    "The aim is to find the partition that maximises the log-likelihood of our model. \n",
    "The mathematical model has three inputs: The data, the partition and a set of prior parameters (automatically chosen by default and accessed through `clst.dirichlet_pseudocounts`) and returns a likelihood.\n",
    "Thus, changing the partition changes the likelihood."
   ]
  },
  {
   "cell_type": "code",
   "execution_count": 6,
   "metadata": {},
   "outputs": [
    {
     "name": "stdout",
     "output_type": "stream",
     "text": [
      "-83483186.21598652\n"
     ]
    }
   ],
   "source": [
    "print(clst.total_likelihood)"
   ]
  },
  {
   "cell_type": "code",
   "execution_count": 7,
   "metadata": {},
   "outputs": [
    {
     "name": "stdout",
     "output_type": "stream",
     "text": [
      "[   1    1    2 ... 2295 2296 2297]\n",
      "-83483068.42137566\n"
     ]
    }
   ],
   "source": [
    "clst.move_cell(0, 1) # move cell 0 into cluster 1\n",
    "print(clst.clusters)\n",
    "print(clst.total_likelihood) # likelihood changed"
   ]
  },
  {
   "cell_type": "markdown",
   "metadata": {},
   "source": [
    "To efficiently optimize the likelihood, we need to initialize the `cs.Cluster` object with multiple threads and a large cache.  "
   ]
  },
  {
   "cell_type": "code",
   "execution_count": 8,
   "metadata": {},
   "outputs": [],
   "source": [
    "clst = cs.Cluster(data, num_threads=8, n_cache=1000)"
   ]
  },
  {
   "cell_type": "markdown",
   "metadata": {},
   "source": [
    "An Markov-chain Monte Carlo algorithm is used to optimize likelihood as a function of the partition with a given prior. This will change the partition and the likelihood."
   ]
  },
  {
   "cell_type": "code",
   "execution_count": 9,
   "metadata": {},
   "outputs": [],
   "source": [
    "clst.biased_monte_carlo_sampling(N_steps=500, tries_per_step=100)"
   ]
  },
  {
   "cell_type": "code",
   "execution_count": 10,
   "metadata": {},
   "outputs": [
    {
     "name": "stdout",
     "output_type": "stream",
     "text": [
      "[ 0  1 33  3  4  5  6  7  8 15]\n"
     ]
    },
    {
     "data": {
      "text/plain": [
       "-83412038.52364226"
      ]
     },
     "execution_count": 10,
     "metadata": {},
     "output_type": "execute_result"
    }
   ],
   "source": [
    "print(clst.clusters[:10])\n",
    "clst.total_likelihood"
   ]
  },
  {
   "cell_type": "markdown",
   "metadata": {},
   "source": [
    "For the full optimization run, the sampling is repeatedly called. At the end, there are also deterministic optimization steps (merging clusters, moving cells into their optimal cluster). This might take a couple of minutes to run. "
   ]
  },
  {
   "cell_type": "code",
   "execution_count": 11,
   "metadata": {},
   "outputs": [
    {
     "name": "stderr",
     "output_type": "stream",
     "text": [
      "2021-09-17 17:38:56,267 - INFO:initially check output every 500 steps\n",
      "2021-09-17 17:38:56,268 - INFO:n_clusters=1938, total likelihood=-83412038.52364226\n",
      "2021-09-17 17:39:05,847 - INFO:n_clusters=1692, total likelihood=-83318483.61374699\n",
      "2021-09-17 17:39:16,047 - INFO:n_clusters=1442, total likelihood=-83188467.43220574\n",
      "2021-09-17 17:39:29,344 - INFO:n_clusters=1180, total likelihood=-83028671.37830295\n",
      "2021-09-17 17:39:42,424 - INFO:n_clusters=925, total likelihood=-82860456.8142258\n",
      "2021-09-17 17:39:56,630 - INFO:n_clusters=697, total likelihood=-82691998.59724334\n",
      "2021-09-17 17:40:09,231 - INFO:n_clusters=513, total likelihood=-82547930.50152539\n",
      "2021-09-17 17:40:21,002 - INFO:n_clusters=348, total likelihood=-82387993.71254687\n",
      "2021-09-17 17:40:30,720 - INFO:n_clusters=220, total likelihood=-82242715.9727039\n",
      "2021-09-17 17:40:38,346 - INFO:n_clusters=155, total likelihood=-82131773.3551481\n",
      "2021-09-17 17:40:45,540 - INFO:n_clusters=102, total likelihood=-82010692.70394996\n",
      "2021-09-17 17:40:51,655 - INFO:n_clusters=84, total likelihood=-81895396.5353325\n",
      "2021-09-17 17:40:58,357 - INFO:n_clusters=68, total likelihood=-81772293.58769119\n",
      "2021-09-17 17:41:09,999 - INFO:n_clusters=39, total likelihood=-81640332.59142962\n",
      "2021-09-17 17:42:02,373 - INFO:Only 479 moves found within loop limit.Consider raising tries_per_step\n",
      "2021-09-17 17:42:02,375 - INFO:changed tries_per_step to 10000 and N_steps to 50\n",
      "2021-09-17 17:42:02,376 - INFO:n_clusters=11, total likelihood=-81459791.11332455\n",
      "2021-09-17 17:42:52,979 - INFO:Only 2 moves found within loop limit.Consider raising tries_per_step\n",
      "2021-09-17 17:42:52,981 - INFO:MCMC converges, little further improvement expected\n",
      "2021-09-17 17:42:52,982 - INFO:n_clusters=10, total likelihood=-81458341.6265226\n",
      "2021-09-17 17:42:52,983 - INFO:optimize clusters.\n",
      "2021-09-17 17:42:55,151 - INFO:end of clustering\n"
     ]
    }
   ],
   "source": [
    "cs.run_mcmc(clst, N_steps=500)"
   ]
  },
  {
   "cell_type": "code",
   "execution_count": 12,
   "metadata": {},
   "outputs": [
    {
     "name": "stdout",
     "output_type": "stream",
     "text": [
      "-81457510.71362096\n",
      "9\n"
     ]
    }
   ],
   "source": [
    "print(clst.total_likelihood)\n",
    "print(clst.n_clusters)"
   ]
  },
  {
   "cell_type": "markdown",
   "metadata": {},
   "source": [
    "comparison to true cluster labels shows a slight disagreement"
   ]
  },
  {
   "cell_type": "code",
   "execution_count": 13,
   "metadata": {},
   "outputs": [
    {
     "data": {
      "text/plain": [
       "0.9811421746094137"
      ]
     },
     "execution_count": 13,
     "metadata": {},
     "output_type": "execute_result"
    }
   ],
   "source": [
    "from sklearn.metrics import adjusted_rand_score\n",
    "cellstate_clusters = clst.clusters\n",
    "sim_clusters = np.loadtxt('../test/data/simulated_clusters.txt', dtype=int)\n",
    "adjusted_rand_score(sim_clusters, cellstate_clusters)"
   ]
  },
  {
   "cell_type": "markdown",
   "metadata": {},
   "source": [
    "However, when we calculate the likelihood of the true clusters, we see that it is actually smaller. This can one of means that under the current prior, the data is insufficient to resolve two of the simulated cellstates. However, with a different prior we might get a higher likelihood and sufficient resolution. \n"
   ]
  },
  {
   "cell_type": "code",
   "execution_count": 14,
   "metadata": {},
   "outputs": [
    {
     "name": "stdout",
     "output_type": "stream",
     "text": [
      "830.9129016399384\n"
     ]
    }
   ],
   "source": [
    "best_likelihood = clst.total_likelihood\n",
    "clst.set_clusters(sim_clusters)  # change partition to simulated one\n",
    "print(best_likelihood - clst.total_likelihood)  # compute difference in log-likelihood to optimal solution"
   ]
  },
  {
   "cell_type": "markdown",
   "metadata": {},
   "source": [
    "## Analysing the model outputs"
   ]
  },
  {
   "cell_type": "markdown",
   "metadata": {},
   "source": [
    "From the root directory, you can run\n",
    "\n",
    "`python scripts/run_cellstates.py test/data/simulated_data.tsv.gz -o test/results/`\n",
    "\n",
    "or simply use the example outputs already provided. "
   ]
  },
  {
   "cell_type": "code",
   "execution_count": 15,
   "metadata": {},
   "outputs": [],
   "source": [
    "# build cs.Cluster object from model outputs\n",
    "# These may be different from the earlier results since the prior also got optimized\n",
    "prior = np.loadtxt('../test/results/dirichlet_pseudocounts.txt')\n",
    "clusters = np.loadtxt('../test/results/optimized_clusters.txt', dtype=np.int)\n",
    "\n",
    "# cellstates filters out non-expressed genes, so we need to take that into account\n",
    "# If you want to check, you can look at the columns of hierarchy_gene_scores.tsv\n",
    "genes = df.index[df.any(1)].values\n",
    "data = df.loc[genes].values \n",
    "\n",
    "clst = cs.Cluster(data, prior, clusters)"
   ]
  },
  {
   "cell_type": "markdown",
   "metadata": {},
   "source": [
    "Basic statistics like cluster sizes can easily be checked"
   ]
  },
  {
   "cell_type": "code",
   "execution_count": 16,
   "metadata": {},
   "outputs": [
    {
     "name": "stdout",
     "output_type": "stream",
     "text": [
      "10\n"
     ]
    },
    {
     "data": {
      "text/plain": [
       "array([ 41,  28, 118, 200, 836, 109, 255, 138, 457, 116])"
      ]
     },
     "execution_count": 16,
     "metadata": {},
     "output_type": "execute_result"
    }
   ],
   "source": [
    "print(clst.n_clusters)  # number of cellstates\n",
    "clst.cluster_sizes[:10]"
   ]
  },
  {
   "cell_type": "code",
   "execution_count": 17,
   "metadata": {},
   "outputs": [
    {
     "data": {
      "text/plain": [
       "array([0.06938859, 0.02399711, 0.0206031 , 0.0154975 , 0.00768115,\n",
       "       0.00556578, 0.00473145, 0.0037067 , 0.00195545, 0.00111253,\n",
       "       0.00110936, 0.00109254, 0.00107697, 0.00107225, 0.00106489,\n",
       "       0.00105527])"
      ]
     },
     "execution_count": 17,
     "metadata": {},
     "output_type": "execute_result"
    }
   ],
   "source": [
    "# perform PCA for visualization\n",
    "from sklearn.decomposition import PCA\n",
    "\n",
    "# calculate transcripts per median UMI count per cell\n",
    "scale_factor = np.median(data.sum(0))\n",
    "\n",
    "tpm_data = scale_factor*data/data.sum(0)\n",
    "X = np.log2(tpm_data + 1).T\n",
    "pca = PCA(n_components=16)\n",
    "pca.fit(X)\n",
    "X_pca = pca.transform(X)\n",
    "\n",
    "pca.explained_variance_ratio_"
   ]
  },
  {
   "cell_type": "code",
   "execution_count": 18,
   "metadata": {},
   "outputs": [
    {
     "data": {
      "image/png": "[encoded data removed]",
      "text/plain": [
       "<Figure size 720x360 with 2 Axes>"
      ]
     },
     "metadata": {
      "needs_background": "light"
     },
     "output_type": "display_data"
    }
   ],
   "source": [
    "def plot_pca(clusters, pc=None):\n",
    "    \"\"\"\n",
    "    pc: list of 4 principle components to plot\n",
    "    \"\"\"\n",
    "    cluster_names = np.unique(clusters)\n",
    "    n_c = len(cluster_names)\n",
    "    colors = dict(zip(cluster_names, plt.cm.hsv(np.linspace(0, 1, n_c+1))))\n",
    "    \n",
    "    fig, axs = plt.subplots(1, 2, figsize=(10,5))\n",
    "    \n",
    "    if pc is None:\n",
    "        pc = [1,2,3,4]\n",
    "    for i, ax in enumerate(axs.flatten()):\n",
    "        c1 = pc[2*i]\n",
    "        c2 = pc[2*i+1]\n",
    "        \n",
    "        x = X_pca[:, c1-1]\n",
    "        y = X_pca[:, c2-1]\n",
    "        for c in cluster_names:\n",
    "            cond = clusters==c\n",
    "            ax.plot(x[cond], y[cond], '.', ms=3, label=c, color=colors[c])\n",
    "\n",
    "\n",
    "        ax.set_xlabel(f'PC {c1}')\n",
    "\n",
    "        ax.set_ylabel(f'PC {c2}')\n",
    "    l = plt.legend(ncol=1)\n",
    "    l.set_bbox_to_anchor([1.3, 1])\n",
    "    \n",
    "    return fig, axs\n",
    "\n",
    "fig,axs = plot_pca(clst.clusters)"
   ]
  },
  {
   "cell_type": "markdown",
   "metadata": {},
   "source": [
    "### Hierarchical merging of clusters\n",
    "* in every step we are looking for the two clusters that when merged result in the smallest change in LL"
   ]
  },
  {
   "cell_type": "code",
   "execution_count": 19,
   "metadata": {},
   "outputs": [
    {
     "name": "stdout",
     "output_type": "stream",
     "text": [
      "[(2, 7), (1, 2), (0, 5), (3, 9), (3, 8), (0, 6), (0, 1), (3, 4), (0, 3)]\n",
      "[-2799.456104805693, -25175.80503667146, -33563.930881099775, -79185.75470018387, -130431.41800406575, -130947.26361367106, -265458.8526605107, -429146.7600688189, -1083290.4226034284]\n"
     ]
    },
    {
     "data": {
      "text/html": [
       "<div>\n",
       "<style scoped>\n",
       "    .dataframe tbody tr th:only-of-type {\n",
       "        vertical-align: middle;\n",
       "    }\n",
       "\n",
       "    .dataframe tbody tr th {\n",
       "        vertical-align: top;\n",
       "    }\n",
       "\n",
       "    .dataframe thead th {\n",
       "        text-align: right;\n",
       "    }\n",
       "</style>\n",
       "<table border=\"1\" class=\"dataframe\">\n",
       "  <thead>\n",
       "    <tr style=\"text-align: right;\">\n",
       "      <th></th>\n",
       "      <th>cluster_new</th>\n",
       "      <th>cluster_old</th>\n",
       "      <th>delta_LL</th>\n",
       "    </tr>\n",
       "  </thead>\n",
       "  <tbody>\n",
       "    <tr>\n",
       "      <th>0</th>\n",
       "      <td>2</td>\n",
       "      <td>7</td>\n",
       "      <td>-2.799456e+03</td>\n",
       "    </tr>\n",
       "    <tr>\n",
       "      <th>1</th>\n",
       "      <td>1</td>\n",
       "      <td>2</td>\n",
       "      <td>-2.517581e+04</td>\n",
       "    </tr>\n",
       "    <tr>\n",
       "      <th>2</th>\n",
       "      <td>0</td>\n",
       "      <td>5</td>\n",
       "      <td>-3.356393e+04</td>\n",
       "    </tr>\n",
       "    <tr>\n",
       "      <th>3</th>\n",
       "      <td>3</td>\n",
       "      <td>9</td>\n",
       "      <td>-7.918575e+04</td>\n",
       "    </tr>\n",
       "    <tr>\n",
       "      <th>4</th>\n",
       "      <td>3</td>\n",
       "      <td>8</td>\n",
       "      <td>-1.304314e+05</td>\n",
       "    </tr>\n",
       "    <tr>\n",
       "      <th>5</th>\n",
       "      <td>0</td>\n",
       "      <td>6</td>\n",
       "      <td>-1.309473e+05</td>\n",
       "    </tr>\n",
       "    <tr>\n",
       "      <th>6</th>\n",
       "      <td>0</td>\n",
       "      <td>1</td>\n",
       "      <td>-2.654589e+05</td>\n",
       "    </tr>\n",
       "    <tr>\n",
       "      <th>7</th>\n",
       "      <td>3</td>\n",
       "      <td>4</td>\n",
       "      <td>-4.291468e+05</td>\n",
       "    </tr>\n",
       "    <tr>\n",
       "      <th>8</th>\n",
       "      <td>0</td>\n",
       "      <td>3</td>\n",
       "      <td>-1.083290e+06</td>\n",
       "    </tr>\n",
       "  </tbody>\n",
       "</table>\n",
       "</div>"
      ],
      "text/plain": [
       "  cluster_new cluster_old      delta_LL\n",
       "0           2           7 -2.799456e+03\n",
       "1           1           2 -2.517581e+04\n",
       "2           0           5 -3.356393e+04\n",
       "3           3           9 -7.918575e+04\n",
       "4           3           8 -1.304314e+05\n",
       "5           0           6 -1.309473e+05\n",
       "6           0           1 -2.654589e+05\n",
       "7           3           4 -4.291468e+05\n",
       "8           0           3 -1.083290e+06"
      ]
     },
     "execution_count": 19,
     "metadata": {},
     "output_type": "execute_result"
    }
   ],
   "source": [
    "# The code below shows how to get the cluster hierarchy from a Cluster object\n",
    "# this is not necessary if you ran the command line tool\n",
    "cluster_hierarchy, delta_LL_history = clst.get_cluster_hierarchy()\n",
    "\n",
    "print(cluster_hierarchy)\n",
    "print(delta_LL_history)\n",
    "hierarchy_df = cs.get_hierarchy_df(cluster_hierarchy, delta_LL_history)\n",
    "hierarchy_df"
   ]
  },
  {
   "cell_type": "code",
   "execution_count": 20,
   "metadata": {},
   "outputs": [
    {
     "data": {
      "text/html": [
       "<div>\n",
       "<style scoped>\n",
       "    .dataframe tbody tr th:only-of-type {\n",
       "        vertical-align: middle;\n",
       "    }\n",
       "\n",
       "    .dataframe tbody tr th {\n",
       "        vertical-align: top;\n",
       "    }\n",
       "\n",
       "    .dataframe thead th {\n",
       "        text-align: right;\n",
       "    }\n",
       "</style>\n",
       "<table border=\"1\" class=\"dataframe\">\n",
       "  <thead>\n",
       "    <tr style=\"text-align: right;\">\n",
       "      <th></th>\n",
       "      <th>cluster_new</th>\n",
       "      <th>cluster_old</th>\n",
       "      <th>delta_LL</th>\n",
       "    </tr>\n",
       "  </thead>\n",
       "  <tbody>\n",
       "    <tr>\n",
       "      <th>0</th>\n",
       "      <td>2</td>\n",
       "      <td>7</td>\n",
       "      <td>-2.799456e+03</td>\n",
       "    </tr>\n",
       "    <tr>\n",
       "      <th>1</th>\n",
       "      <td>1</td>\n",
       "      <td>2</td>\n",
       "      <td>-2.517581e+04</td>\n",
       "    </tr>\n",
       "    <tr>\n",
       "      <th>2</th>\n",
       "      <td>0</td>\n",
       "      <td>5</td>\n",
       "      <td>-3.356393e+04</td>\n",
       "    </tr>\n",
       "    <tr>\n",
       "      <th>3</th>\n",
       "      <td>3</td>\n",
       "      <td>9</td>\n",
       "      <td>-7.918575e+04</td>\n",
       "    </tr>\n",
       "    <tr>\n",
       "      <th>4</th>\n",
       "      <td>3</td>\n",
       "      <td>8</td>\n",
       "      <td>-1.304314e+05</td>\n",
       "    </tr>\n",
       "    <tr>\n",
       "      <th>5</th>\n",
       "      <td>0</td>\n",
       "      <td>6</td>\n",
       "      <td>-1.309473e+05</td>\n",
       "    </tr>\n",
       "    <tr>\n",
       "      <th>6</th>\n",
       "      <td>0</td>\n",
       "      <td>1</td>\n",
       "      <td>-2.654589e+05</td>\n",
       "    </tr>\n",
       "    <tr>\n",
       "      <th>7</th>\n",
       "      <td>3</td>\n",
       "      <td>4</td>\n",
       "      <td>-4.291468e+05</td>\n",
       "    </tr>\n",
       "    <tr>\n",
       "      <th>8</th>\n",
       "      <td>0</td>\n",
       "      <td>3</td>\n",
       "      <td>-1.083290e+06</td>\n",
       "    </tr>\n",
       "  </tbody>\n",
       "</table>\n",
       "</div>"
      ],
      "text/plain": [
       "   cluster_new  cluster_old      delta_LL\n",
       "0            2            7 -2.799456e+03\n",
       "1            1            2 -2.517581e+04\n",
       "2            0            5 -3.356393e+04\n",
       "3            3            9 -7.918575e+04\n",
       "4            3            8 -1.304314e+05\n",
       "5            0            6 -1.309473e+05\n",
       "6            0            1 -2.654589e+05\n",
       "7            3            4 -4.291468e+05\n",
       "8            0            3 -1.083290e+06"
      ]
     },
     "execution_count": 20,
     "metadata": {},
     "output_type": "execute_result"
    }
   ],
   "source": [
    "# to load the same results from the command line tool output run\n",
    "hierarchy_df = pd.read_csv('../test/results/cluster_hierarchy.tsv', sep='\\t')\n",
    "hierarchy_df"
   ]
  },
  {
   "cell_type": "markdown",
   "metadata": {},
   "source": [
    "The module contains functions that can transform these trees into **other formats**:\n",
    "* scipy linkage matrix: \n",
    "    * integrated into python\n",
    "    * only allows one leaf per cluster\n",
    "    * only positive distances allowed\n",
    "    \n",
    "* Newick format\n",
    "    * widely used for phylogenetic trees with plotting libraries available\n",
    "    * allows for one leaf per cell\n",
    "    * only positive distances allowed in plotting tool I use"
   ]
  },
  {
   "cell_type": "code",
   "execution_count": 21,
   "metadata": {},
   "outputs": [
    {
     "data": {
      "text/plain": [
       "array([[2.00000000e+00, 7.00000000e+00, 2.79945610e+03, 9.00000000e+00],\n",
       "       [1.00000000e+00, 1.00000000e+01, 2.51758050e+04, 1.00000000e+01],\n",
       "       [0.00000000e+00, 5.00000000e+00, 3.35639309e+04, 5.00000000e+00],\n",
       "       [3.00000000e+00, 9.00000000e+00, 7.91857547e+04, 1.20000000e+01],\n",
       "       [8.00000000e+00, 1.30000000e+01, 1.30431418e+05, 2.00000000e+01],\n",
       "       [6.00000000e+00, 1.20000000e+01, 1.30947264e+05, 1.10000000e+01],\n",
       "       [1.10000000e+01, 1.50000000e+01, 2.65458853e+05, 2.10000000e+01],\n",
       "       [4.00000000e+00, 1.40000000e+01, 4.29146760e+05, 2.40000000e+01],\n",
       "       [1.60000000e+01, 1.70000000e+01, 1.08329042e+06, 4.50000000e+01]])"
      ]
     },
     "execution_count": 21,
     "metadata": {},
     "output_type": "execute_result"
    }
   ],
   "source": [
    "# scipy linkage matrix\n",
    "Z = cs.get_scipy_hierarchy(hierarchy_df)\n",
    "Z"
   ]
  },
  {
   "cell_type": "code",
   "execution_count": 22,
   "metadata": {
    "scrolled": true
   },
   "outputs": [
    {
     "data": {
      "image/png": "[encoded data removed]",
      "text/plain": [
       "<Figure size 432x288 with 1 Axes>"
      ]
     },
     "metadata": {
      "needs_background": "light"
     },
     "output_type": "display_data"
    }
   ],
   "source": [
    "# simple plotting built into cellstate library\n",
    "R = cs.plot_hierarchy_scipy(hierarchy_df, n_groups=3)"
   ]
  },
  {
   "cell_type": "markdown",
   "metadata": {},
   "source": [
    "Create a newick string from the hierarchy and use it to generate a Tree in ete3. Check their documentation "
   ]
  },
  {
   "cell_type": "code",
   "execution_count": 35,
   "metadata": {},
   "outputs": [
    {
     "name": "stdout",
     "output_type": "stream",
     "text": [
      "\n",
      "         /-C0\n",
      "      /-|\n",
      "   /-|   \\-C5\n",
      "  |  |\n",
      "--|   \\-C6\n",
      "  |\n",
      "  |   /-C1\n",
      "   \\-|\n",
      "     |   /-C2\n",
      "      \\-|\n",
      "         \\-C7\n"
     ]
    }
   ],
   "source": [
    "from ete3 import Tree\n",
    "newick_string = cs.hierarchy_to_newick(hierarchy_df, clst.clusters, cell_leaves=False)\n",
    "t = Tree(newick_string, format=1)\n",
    "\n",
    "node = t.search_nodes(name=\"I2\")[0]\n",
    "print(node)"
   ]
  },
  {
   "cell_type": "markdown",
   "metadata": {},
   "source": [
    "In the newick format, internal nodes are labelled I0 (root), I1, etc. from the root towards the leaves, following the hierarchy. Cellstate nodes are called C0, C1, ... corresponding to cellstates 0, 1, ... - cells can be included as leaves branching off each cellstate node"
   ]
  },
  {
   "cell_type": "code",
   "execution_count": 25,
   "metadata": {},
   "outputs": [
    {
     "data": {
      "image/png": "[encoded data removed]",
      "text/plain": [
       "<IPython.core.display.Image object>"
      ]
     },
     "execution_count": 25,
     "metadata": {},
     "output_type": "execute_result"
    }
   ],
   "source": [
    "# this built-in function automatically generates a tree visualization with ete3\n",
    "t, ts = cs.plot_hierarchy_ete3(hierarchy_df, clst.clusters, n_groups=3)\n",
    "t.render('%%inline', tree_style=ts)"
   ]
  },
  {
   "cell_type": "markdown",
   "metadata": {},
   "source": [
    "### Finding marker genes"
   ]
  },
  {
   "cell_type": "code",
   "execution_count": 26,
   "metadata": {},
   "outputs": [
    {
     "data": {
      "text/html": [
       "<div>\n",
       "<style scoped>\n",
       "    .dataframe tbody tr th:only-of-type {\n",
       "        vertical-align: middle;\n",
       "    }\n",
       "\n",
       "    .dataframe tbody tr th {\n",
       "        vertical-align: top;\n",
       "    }\n",
       "\n",
       "    .dataframe thead th {\n",
       "        text-align: right;\n",
       "    }\n",
       "</style>\n",
       "<table border=\"1\" class=\"dataframe\">\n",
       "  <thead>\n",
       "    <tr style=\"text-align: right;\">\n",
       "      <th></th>\n",
       "      <th>cluster_new</th>\n",
       "      <th>cluster_old</th>\n",
       "      <th>delta_LL</th>\n",
       "      <th>A1BG_AS1__chr19</th>\n",
       "      <th>A1BG__chr19</th>\n",
       "      <th>A1CF__chr10</th>\n",
       "      <th>A2M_AS1__chr12</th>\n",
       "      <th>A2ML1__chr12</th>\n",
       "      <th>A2M__chr12</th>\n",
       "      <th>A4GALT__chr22</th>\n",
       "      <th>...</th>\n",
       "      <th>ZWILCH__chr15</th>\n",
       "      <th>ZWINT__chr10</th>\n",
       "      <th>ZXDA__chrX</th>\n",
       "      <th>ZXDB__chrX</th>\n",
       "      <th>ZXDC__chr3</th>\n",
       "      <th>ZYG11A__chr1</th>\n",
       "      <th>ZYG11B__chr1</th>\n",
       "      <th>ZYX__chr7</th>\n",
       "      <th>ZZEF1__chr17</th>\n",
       "      <th>ZZZ3__chr1</th>\n",
       "    </tr>\n",
       "  </thead>\n",
       "  <tbody>\n",
       "    <tr>\n",
       "      <th>0</th>\n",
       "      <td>2</td>\n",
       "      <td>7</td>\n",
       "      <td>-2.799456e+03</td>\n",
       "      <td>0.020978</td>\n",
       "      <td>-0.833928</td>\n",
       "      <td>-4.097787</td>\n",
       "      <td>0.090904</td>\n",
       "      <td>-0.553319</td>\n",
       "      <td>0.692268</td>\n",
       "      <td>-2.290200</td>\n",
       "      <td>...</td>\n",
       "      <td>-3.736366</td>\n",
       "      <td>-1.898122</td>\n",
       "      <td>0.625673</td>\n",
       "      <td>-1.325193</td>\n",
       "      <td>0.987170</td>\n",
       "      <td>-0.647077</td>\n",
       "      <td>0.931867</td>\n",
       "      <td>-2.988756</td>\n",
       "      <td>-0.025758</td>\n",
       "      <td>1.092095</td>\n",
       "    </tr>\n",
       "    <tr>\n",
       "      <th>1</th>\n",
       "      <td>1</td>\n",
       "      <td>2</td>\n",
       "      <td>-2.517581e+04</td>\n",
       "      <td>0.015103</td>\n",
       "      <td>0.029758</td>\n",
       "      <td>0.944315</td>\n",
       "      <td>0.065448</td>\n",
       "      <td>-0.083293</td>\n",
       "      <td>0.498413</td>\n",
       "      <td>1.775488</td>\n",
       "      <td>...</td>\n",
       "      <td>1.063568</td>\n",
       "      <td>-1.362457</td>\n",
       "      <td>0.183085</td>\n",
       "      <td>-0.400897</td>\n",
       "      <td>-0.951313</td>\n",
       "      <td>-0.068190</td>\n",
       "      <td>0.652736</td>\n",
       "      <td>-4.106410</td>\n",
       "      <td>0.760226</td>\n",
       "      <td>0.602497</td>\n",
       "    </tr>\n",
       "    <tr>\n",
       "      <th>2</th>\n",
       "      <td>0</td>\n",
       "      <td>5</td>\n",
       "      <td>-3.356393e+04</td>\n",
       "      <td>-0.577670</td>\n",
       "      <td>-0.316157</td>\n",
       "      <td>0.754456</td>\n",
       "      <td>1.283495</td>\n",
       "      <td>-1.157468</td>\n",
       "      <td>-0.354913</td>\n",
       "      <td>2.342907</td>\n",
       "      <td>...</td>\n",
       "      <td>0.310090</td>\n",
       "      <td>1.520328</td>\n",
       "      <td>-0.224845</td>\n",
       "      <td>-1.771573</td>\n",
       "      <td>0.811921</td>\n",
       "      <td>-1.142381</td>\n",
       "      <td>0.003548</td>\n",
       "      <td>2.375422</td>\n",
       "      <td>0.940258</td>\n",
       "      <td>0.294136</td>\n",
       "    </tr>\n",
       "    <tr>\n",
       "      <th>3</th>\n",
       "      <td>3</td>\n",
       "      <td>9</td>\n",
       "      <td>-7.918575e+04</td>\n",
       "      <td>-0.429912</td>\n",
       "      <td>0.552952</td>\n",
       "      <td>1.090215</td>\n",
       "      <td>2.097459</td>\n",
       "      <td>-1.842929</td>\n",
       "      <td>-0.199278</td>\n",
       "      <td>0.159641</td>\n",
       "      <td>...</td>\n",
       "      <td>0.405705</td>\n",
       "      <td>1.072406</td>\n",
       "      <td>-2.297589</td>\n",
       "      <td>1.321008</td>\n",
       "      <td>-5.575027</td>\n",
       "      <td>-0.868250</td>\n",
       "      <td>-3.318299</td>\n",
       "      <td>-0.044810</td>\n",
       "      <td>1.293571</td>\n",
       "      <td>-0.271182</td>\n",
       "    </tr>\n",
       "    <tr>\n",
       "      <th>4</th>\n",
       "      <td>3</td>\n",
       "      <td>8</td>\n",
       "      <td>-1.304314e+05</td>\n",
       "      <td>-0.845864</td>\n",
       "      <td>1.950113</td>\n",
       "      <td>-4.793532</td>\n",
       "      <td>2.632477</td>\n",
       "      <td>2.194281</td>\n",
       "      <td>0.150400</td>\n",
       "      <td>-0.304482</td>\n",
       "      <td>...</td>\n",
       "      <td>-2.619545</td>\n",
       "      <td>1.246846</td>\n",
       "      <td>1.670861</td>\n",
       "      <td>1.808500</td>\n",
       "      <td>-17.422929</td>\n",
       "      <td>2.143558</td>\n",
       "      <td>1.327588</td>\n",
       "      <td>1.519087</td>\n",
       "      <td>1.667097</td>\n",
       "      <td>1.330079</td>\n",
       "    </tr>\n",
       "    <tr>\n",
       "      <th>5</th>\n",
       "      <td>0</td>\n",
       "      <td>6</td>\n",
       "      <td>-1.309473e+05</td>\n",
       "      <td>-1.840757</td>\n",
       "      <td>-1.411845</td>\n",
       "      <td>5.107918</td>\n",
       "      <td>1.146656</td>\n",
       "      <td>-0.866764</td>\n",
       "      <td>-84.390837</td>\n",
       "      <td>2.102743</td>\n",
       "      <td>...</td>\n",
       "      <td>1.586677</td>\n",
       "      <td>-0.444337</td>\n",
       "      <td>0.781690</td>\n",
       "      <td>-2.347762</td>\n",
       "      <td>-0.669711</td>\n",
       "      <td>2.289888</td>\n",
       "      <td>1.447928</td>\n",
       "      <td>1.278904</td>\n",
       "      <td>-0.284174</td>\n",
       "      <td>1.268041</td>\n",
       "    </tr>\n",
       "    <tr>\n",
       "      <th>6</th>\n",
       "      <td>0</td>\n",
       "      <td>1</td>\n",
       "      <td>-2.654589e+05</td>\n",
       "      <td>-1.019280</td>\n",
       "      <td>1.281189</td>\n",
       "      <td>-31.262817</td>\n",
       "      <td>-1.969078</td>\n",
       "      <td>2.391240</td>\n",
       "      <td>-50.422215</td>\n",
       "      <td>1.560356</td>\n",
       "      <td>...</td>\n",
       "      <td>1.427620</td>\n",
       "      <td>2.112162</td>\n",
       "      <td>-0.134988</td>\n",
       "      <td>0.854948</td>\n",
       "      <td>1.059080</td>\n",
       "      <td>2.138729</td>\n",
       "      <td>-6.050198</td>\n",
       "      <td>-8.489755</td>\n",
       "      <td>-1.761583</td>\n",
       "      <td>1.153228</td>\n",
       "    </tr>\n",
       "    <tr>\n",
       "      <th>7</th>\n",
       "      <td>3</td>\n",
       "      <td>4</td>\n",
       "      <td>-4.291468e+05</td>\n",
       "      <td>-0.681373</td>\n",
       "      <td>2.215166</td>\n",
       "      <td>-77.011544</td>\n",
       "      <td>-0.968587</td>\n",
       "      <td>3.032097</td>\n",
       "      <td>0.538588</td>\n",
       "      <td>-0.452631</td>\n",
       "      <td>...</td>\n",
       "      <td>1.390780</td>\n",
       "      <td>2.032147</td>\n",
       "      <td>1.819506</td>\n",
       "      <td>0.095413</td>\n",
       "      <td>1.809440</td>\n",
       "      <td>2.713217</td>\n",
       "      <td>-4.142683</td>\n",
       "      <td>-0.456283</td>\n",
       "      <td>-5.982035</td>\n",
       "      <td>-4.250121</td>\n",
       "    </tr>\n",
       "    <tr>\n",
       "      <th>8</th>\n",
       "      <td>0</td>\n",
       "      <td>3</td>\n",
       "      <td>-1.083290e+06</td>\n",
       "      <td>2.622894</td>\n",
       "      <td>-6.338706</td>\n",
       "      <td>-176.026848</td>\n",
       "      <td>2.913281</td>\n",
       "      <td>2.993136</td>\n",
       "      <td>-112.351032</td>\n",
       "      <td>-18.653126</td>\n",
       "      <td>...</td>\n",
       "      <td>-7.054857</td>\n",
       "      <td>-2.983890</td>\n",
       "      <td>-5.550374</td>\n",
       "      <td>1.853181</td>\n",
       "      <td>-13.315322</td>\n",
       "      <td>2.903584</td>\n",
       "      <td>2.128409</td>\n",
       "      <td>-156.590250</td>\n",
       "      <td>1.692591</td>\n",
       "      <td>-10.021624</td>\n",
       "    </tr>\n",
       "  </tbody>\n",
       "</table>\n",
       "<p>9 rows × 18874 columns</p>\n",
       "</div>"
      ],
      "text/plain": [
       "   cluster_new  cluster_old      delta_LL  A1BG_AS1__chr19  A1BG__chr19  \\\n",
       "0            2            7 -2.799456e+03         0.020978    -0.833928   \n",
       "1            1            2 -2.517581e+04         0.015103     0.029758   \n",
       "2            0            5 -3.356393e+04        -0.577670    -0.316157   \n",
       "3            3            9 -7.918575e+04        -0.429912     0.552952   \n",
       "4            3            8 -1.304314e+05        -0.845864     1.950113   \n",
       "5            0            6 -1.309473e+05        -1.840757    -1.411845   \n",
       "6            0            1 -2.654589e+05        -1.019280     1.281189   \n",
       "7            3            4 -4.291468e+05        -0.681373     2.215166   \n",
       "8            0            3 -1.083290e+06         2.622894    -6.338706   \n",
       "\n",
       "   A1CF__chr10  A2M_AS1__chr12  A2ML1__chr12  A2M__chr12  A4GALT__chr22  ...  \\\n",
       "0    -4.097787        0.090904     -0.553319    0.692268      -2.290200  ...   \n",
       "1     0.944315        0.065448     -0.083293    0.498413       1.775488  ...   \n",
       "2     0.754456        1.283495     -1.157468   -0.354913       2.342907  ...   \n",
       "3     1.090215        2.097459     -1.842929   -0.199278       0.159641  ...   \n",
       "4    -4.793532        2.632477      2.194281    0.150400      -0.304482  ...   \n",
       "5     5.107918        1.146656     -0.866764  -84.390837       2.102743  ...   \n",
       "6   -31.262817       -1.969078      2.391240  -50.422215       1.560356  ...   \n",
       "7   -77.011544       -0.968587      3.032097    0.538588      -0.452631  ...   \n",
       "8  -176.026848        2.913281      2.993136 -112.351032     -18.653126  ...   \n",
       "\n",
       "   ZWILCH__chr15  ZWINT__chr10  ZXDA__chrX  ZXDB__chrX  ZXDC__chr3  \\\n",
       "0      -3.736366     -1.898122    0.625673   -1.325193    0.987170   \n",
       "1       1.063568     -1.362457    0.183085   -0.400897   -0.951313   \n",
       "2       0.310090      1.520328   -0.224845   -1.771573    0.811921   \n",
       "3       0.405705      1.072406   -2.297589    1.321008   -5.575027   \n",
       "4      -2.619545      1.246846    1.670861    1.808500  -17.422929   \n",
       "5       1.586677     -0.444337    0.781690   -2.347762   -0.669711   \n",
       "6       1.427620      2.112162   -0.134988    0.854948    1.059080   \n",
       "7       1.390780      2.032147    1.819506    0.095413    1.809440   \n",
       "8      -7.054857     -2.983890   -5.550374    1.853181  -13.315322   \n",
       "\n",
       "   ZYG11A__chr1  ZYG11B__chr1   ZYX__chr7  ZZEF1__chr17  ZZZ3__chr1  \n",
       "0     -0.647077      0.931867   -2.988756     -0.025758    1.092095  \n",
       "1     -0.068190      0.652736   -4.106410      0.760226    0.602497  \n",
       "2     -1.142381      0.003548    2.375422      0.940258    0.294136  \n",
       "3     -0.868250     -3.318299   -0.044810      1.293571   -0.271182  \n",
       "4      2.143558      1.327588    1.519087      1.667097    1.330079  \n",
       "5      2.289888      1.447928    1.278904     -0.284174    1.268041  \n",
       "6      2.138729     -6.050198   -8.489755     -1.761583    1.153228  \n",
       "7      2.713217     -4.142683   -0.456283     -5.982035   -4.250121  \n",
       "8      2.903584      2.128409 -156.590250      1.692591  -10.021624  \n",
       "\n",
       "[9 rows x 18874 columns]"
      ]
     },
     "execution_count": 26,
     "metadata": {},
     "output_type": "execute_result"
    }
   ],
   "source": [
    "# Scores can be calculated in python from a new Cluster object\n",
    "score_table = cs.marker_score_table(clst, hierarchy_df)\n",
    "\n",
    "score_df = pd.concat([hierarchy_df, pd.DataFrame(score_table, columns=genes)], axis=1)\n",
    "score_df\n"
   ]
  },
  {
   "cell_type": "code",
   "execution_count": 27,
   "metadata": {},
   "outputs": [],
   "source": [
    "# Alternatively, load results from a previous run\n",
    "score_df = pd.read_csv('../test/results/hierarchy_gene_scores.tsv', sep='\\t')\n",
    "gene_scores = score_df.iloc[:, 3:]"
   ]
  },
  {
   "cell_type": "markdown",
   "metadata": {},
   "source": [
    "The scores allow you to check which genes were important in each step of the hierarchy. \n",
    "The following analysis shows the important genes for the second to last merge (clusters 3 and 4 get merged). "
   ]
  },
  {
   "cell_type": "code",
   "execution_count": 28,
   "metadata": {},
   "outputs": [
    {
     "data": {
      "text/plain": [
       "array(['GCG__chr2', 'TTR__chr18', 'SST__chr3', 'PPY__chr17', 'INS__chr11',\n",
       "       'IAPP__chr12', 'RBP4__chr10', 'CHGB__chr20', 'ALDH1A1__chr9',\n",
       "       'TM4SF4__chr3', 'GC__chr4', 'PCSK2__chr20', 'MALAT1__chr11',\n",
       "       'PCSK1__chr5', 'FTH1__chr11', 'VGF__chr7', 'LOXL4__chr10',\n",
       "       'HADH__chr4', 'FTL__chr19', 'SCG2__chr2'], dtype=object)"
      ]
     },
     "execution_count": 28,
     "metadata": {},
     "output_type": "execute_result"
    }
   ],
   "source": [
    "n_groups = 3  # number of clusters left at the point we consider in the hierarchy, before the merge\n",
    "n_merges = hierarchy_df.shape[0]\n",
    "n_steps = n_merges - n_groups + 1\n",
    "\n",
    "n_top = 20  # number of top genes considered\n",
    "gene_importance_order = np.argsort(gene_scores.loc[n_steps])\n",
    "top_genes = genes[gene_importance_order[:n_top]]\n",
    "top_genes"
   ]
  },
  {
   "cell_type": "markdown",
   "metadata": {},
   "source": [
    "We can also find the clusters at this point in the hierarchy:"
   ]
  },
  {
   "cell_type": "code",
   "execution_count": 29,
   "metadata": {},
   "outputs": [
    {
     "data": {
      "image/png": "[encoded data removed]",
      "text/plain": [
       "<Figure size 720x360 with 2 Axes>"
      ]
     },
     "metadata": {
      "needs_background": "light"
     },
     "output_type": "display_data"
    }
   ],
   "source": [
    "merged_clusters = cs.clusters_from_hierarchy(hierarchy_df, clst.clusters.copy(), n_steps)\n",
    "fig, axs = plot_pca(merged_clusters)"
   ]
  },
  {
   "cell_type": "markdown",
   "metadata": {},
   "source": [
    "Next, we find the inferred gene expression states of the higher-order clusters before the merge. We can choose either to get modal values (`get_expressionstate`) or mean and variance (`get_expressionstate_mv`)"
   ]
  },
  {
   "cell_type": "code",
   "execution_count": 30,
   "metadata": {},
   "outputs": [
    {
     "data": {
      "text/html": [
       "<div>\n",
       "<style scoped>\n",
       "    .dataframe tbody tr th:only-of-type {\n",
       "        vertical-align: middle;\n",
       "    }\n",
       "\n",
       "    .dataframe tbody tr th {\n",
       "        vertical-align: top;\n",
       "    }\n",
       "\n",
       "    .dataframe thead th {\n",
       "        text-align: right;\n",
       "    }\n",
       "</style>\n",
       "<table border=\"1\" class=\"dataframe\">\n",
       "  <thead>\n",
       "    <tr style=\"text-align: right;\">\n",
       "      <th></th>\n",
       "      <th>GCG__chr2</th>\n",
       "      <th>TTR__chr18</th>\n",
       "      <th>SST__chr3</th>\n",
       "      <th>PPY__chr17</th>\n",
       "      <th>INS__chr11</th>\n",
       "      <th>IAPP__chr12</th>\n",
       "      <th>RBP4__chr10</th>\n",
       "      <th>CHGB__chr20</th>\n",
       "      <th>ALDH1A1__chr9</th>\n",
       "      <th>TM4SF4__chr3</th>\n",
       "      <th>GC__chr4</th>\n",
       "      <th>PCSK2__chr20</th>\n",
       "      <th>MALAT1__chr11</th>\n",
       "      <th>PCSK1__chr5</th>\n",
       "      <th>FTH1__chr11</th>\n",
       "      <th>VGF__chr7</th>\n",
       "      <th>LOXL4__chr10</th>\n",
       "      <th>HADH__chr4</th>\n",
       "      <th>FTL__chr19</th>\n",
       "      <th>SCG2__chr2</th>\n",
       "    </tr>\n",
       "  </thead>\n",
       "  <tbody>\n",
       "    <tr>\n",
       "      <th>0</th>\n",
       "      <td>0.003337</td>\n",
       "      <td>0.001642</td>\n",
       "      <td>0.003163</td>\n",
       "      <td>0.000198</td>\n",
       "      <td>0.000052</td>\n",
       "      <td>0.000082</td>\n",
       "      <td>0.000055</td>\n",
       "      <td>0.000168</td>\n",
       "      <td>0.000412</td>\n",
       "      <td>0.000165</td>\n",
       "      <td>0.000111</td>\n",
       "      <td>0.000127</td>\n",
       "      <td>0.014970</td>\n",
       "      <td>0.000029</td>\n",
       "      <td>0.007151</td>\n",
       "      <td>0.000085</td>\n",
       "      <td>0.000026</td>\n",
       "      <td>0.000070</td>\n",
       "      <td>0.002806</td>\n",
       "      <td>0.000147</td>\n",
       "    </tr>\n",
       "    <tr>\n",
       "      <th>3</th>\n",
       "      <td>0.004520</td>\n",
       "      <td>0.006647</td>\n",
       "      <td>0.028654</td>\n",
       "      <td>0.010302</td>\n",
       "      <td>0.004459</td>\n",
       "      <td>0.004446</td>\n",
       "      <td>0.003964</td>\n",
       "      <td>0.002082</td>\n",
       "      <td>0.000897</td>\n",
       "      <td>0.000352</td>\n",
       "      <td>0.000168</td>\n",
       "      <td>0.001097</td>\n",
       "      <td>0.026087</td>\n",
       "      <td>0.001450</td>\n",
       "      <td>0.004535</td>\n",
       "      <td>0.001010</td>\n",
       "      <td>0.000026</td>\n",
       "      <td>0.000754</td>\n",
       "      <td>0.003239</td>\n",
       "      <td>0.001995</td>\n",
       "    </tr>\n",
       "    <tr>\n",
       "      <th>4</th>\n",
       "      <td>0.075265</td>\n",
       "      <td>0.046376</td>\n",
       "      <td>0.005088</td>\n",
       "      <td>0.000315</td>\n",
       "      <td>0.000174</td>\n",
       "      <td>0.000209</td>\n",
       "      <td>0.000141</td>\n",
       "      <td>0.007151</td>\n",
       "      <td>0.003932</td>\n",
       "      <td>0.002660</td>\n",
       "      <td>0.001913</td>\n",
       "      <td>0.003806</td>\n",
       "      <td>0.035677</td>\n",
       "      <td>0.000116</td>\n",
       "      <td>0.001871</td>\n",
       "      <td>0.002925</td>\n",
       "      <td>0.000766</td>\n",
       "      <td>0.000037</td>\n",
       "      <td>0.001401</td>\n",
       "      <td>0.004041</td>\n",
       "    </tr>\n",
       "  </tbody>\n",
       "</table>\n",
       "</div>"
      ],
      "text/plain": [
       "   GCG__chr2  TTR__chr18  SST__chr3  PPY__chr17  INS__chr11  IAPP__chr12  \\\n",
       "0   0.003337    0.001642   0.003163    0.000198    0.000052     0.000082   \n",
       "3   0.004520    0.006647   0.028654    0.010302    0.004459     0.004446   \n",
       "4   0.075265    0.046376   0.005088    0.000315    0.000174     0.000209   \n",
       "\n",
       "   RBP4__chr10  CHGB__chr20  ALDH1A1__chr9  TM4SF4__chr3  GC__chr4  \\\n",
       "0     0.000055     0.000168       0.000412      0.000165  0.000111   \n",
       "3     0.003964     0.002082       0.000897      0.000352  0.000168   \n",
       "4     0.000141     0.007151       0.003932      0.002660  0.001913   \n",
       "\n",
       "   PCSK2__chr20  MALAT1__chr11  PCSK1__chr5  FTH1__chr11  VGF__chr7  \\\n",
       "0      0.000127       0.014970     0.000029     0.007151   0.000085   \n",
       "3      0.001097       0.026087     0.001450     0.004535   0.001010   \n",
       "4      0.003806       0.035677     0.000116     0.001871   0.002925   \n",
       "\n",
       "   LOXL4__chr10  HADH__chr4  FTL__chr19  SCG2__chr2  \n",
       "0      0.000026    0.000070    0.002806    0.000147  \n",
       "3      0.000026    0.000754    0.003239    0.001995  \n",
       "4      0.000766    0.000037    0.001401    0.004041  "
      ]
     },
     "execution_count": 30,
     "metadata": {},
     "output_type": "execute_result"
    }
   ],
   "source": [
    "merged_clusters = cs.clusters_from_hierarchy(hierarchy_df, clst.clusters.copy(), n_steps)\n",
    "clst.set_clusters(merged_clusters)\n",
    "cluster_labels = np.flatnonzero(clst.cluster_sizes)\n",
    "expressionstates = pd.DataFrame(np.vstack([clst.get_expressionstate(c) for c in cluster_labels]),\n",
    "                                columns=genes, index=cluster_labels)\n",
    "expressionstates[top_genes]"
   ]
  },
  {
   "cell_type": "markdown",
   "metadata": {},
   "source": [
    "If we plot these in a heatmap, it is easy to see that these genes separate clusters 3 and 4"
   ]
  },
  {
   "cell_type": "code",
   "execution_count": 31,
   "metadata": {},
   "outputs": [
    {
     "data": {
      "image/png": "[encoded data removed]",
      "text/plain": [
       "<Figure size 432x288 with 2 Axes>"
      ]
     },
     "metadata": {
      "needs_background": "light"
     },
     "output_type": "display_data"
    }
   ],
   "source": [
    "def heatmap_expression(expression_table, gene_selection, **kwargs):\n",
    "    fig, ax = plt.subplots()\n",
    "    im = ax.imshow(np.log(expression_table[gene_selection]), **kwargs)\n",
    "\n",
    "    ax.set_xticks(np.arange(len(gene_selection)))\n",
    "    ax.set_yticks(np.arange(len(expression_table.index)))\n",
    "    ax.set_xticklabels(top_genes)\n",
    "    ax.set_yticklabels(expression_table.index)\n",
    "\n",
    "    plt.setp(ax.get_xticklabels(), rotation=45, ha=\"right\",\n",
    "             rotation_mode=\"anchor\")\n",
    "\n",
    "    cbar = ax.figure.colorbar(im, ax=ax, label='log2(TPM)', shrink=.3, aspect=5)\n",
    "    return fig, ax\n",
    "fig, ax = heatmap_expression(expressionstates, top_genes)"
   ]
  },
  {
   "cell_type": "markdown",
   "metadata": {},
   "source": [
    "Conversely, genes that have large positive scores will be very similar between these clusters"
   ]
  },
  {
   "cell_type": "code",
   "execution_count": 32,
   "metadata": {},
   "outputs": [
    {
     "data": {
      "image/png": "[encoded data removed]",
      "text/plain": [
       "<Figure size 432x288 with 2 Axes>"
      ]
     },
     "metadata": {
      "needs_background": "light"
     },
     "output_type": "display_data"
    }
   ],
   "source": [
    "bottom_genes = genes[gene_importance_order[-n_top:]]\n",
    "\n",
    "fig, ax = heatmap_expression(expressionstates, bottom_genes)"
   ]
  }
 ],
 "metadata": {
  "kernelspec": {
   "display_name": "Python 3",
   "language": "python",
   "name": "python3"
  },
  "language_info": {
   "codemirror_mode": {
    "name": "ipython",
    "version": 3
   },
   "file_extension": ".py",
   "mimetype": "text/x-python",
   "name": "python",
   "nbconvert_exporter": "python",
   "pygments_lexer": "ipython3",
   "version": "3.6.10"
  }
 },
 "nbformat": 4,
 "nbformat_minor": 2
}
