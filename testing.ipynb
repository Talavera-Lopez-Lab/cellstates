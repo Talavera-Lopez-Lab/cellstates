{
 "cells": [
  {
   "cell_type": "code",
   "execution_count": 30,
   "metadata": {},
   "outputs": [],
   "source": [
    "import cellstates as cs\n",
    "import numpy as np\n",
    "import pandas as pd\n",
    "import matplotlib.pyplot as plt"
   ]
  },
  {
   "cell_type": "markdown",
   "metadata": {},
   "source": [
    "**Model inputs:**\n",
    "* UMI data\n",
    "* a prior (pseudo-counts for every gene)\n",
    "* a partition of cells into clusters\n",
    "\n",
    "**Model output:**\n",
    "* a log-likelihood for each cluster\n",
    "\n"
   ]
  },
  {
   "cell_type": "code",
   "execution_count": 2,
   "metadata": {},
   "outputs": [
    {
     "data": {
      "text/plain": [
       "(19052, 2298)"
      ]
     },
     "execution_count": 2,
     "metadata": {},
     "output_type": "execute_result"
    }
   ],
   "source": [
    "datafile = './test_data/simulated_data.npy'\n",
    "data = np.load(datafile)\n",
    "G, N = data.shape\n",
    "G, N"
   ]
  },
  {
   "cell_type": "code",
   "execution_count": 3,
   "metadata": {},
   "outputs": [
    {
     "data": {
      "text/plain": [
       "4531.766318537859"
      ]
     },
     "execution_count": 3,
     "metadata": {},
     "output_type": "execute_result"
    }
   ],
   "source": [
    "data.sum(axis=0).mean()"
   ]
  },
  {
   "cell_type": "code",
   "execution_count": 4,
   "metadata": {},
   "outputs": [],
   "source": [
    "# define pseudo-counts with prior parameter alpha\n",
    "alpha = 4096.0\n",
    "lmbd = alpha*data.sum(axis=1)/data.sum()\n",
    "\n",
    "#filter out non-expressed genes\n",
    "mask=lmbd>0\n",
    "data = data[mask, :]\n",
    "lmbd = lmbd[mask]\n",
    "\n",
    "clusters = np.arange(N)"
   ]
  },
  {
   "cell_type": "markdown",
   "metadata": {},
   "source": [
    "**The Cluster class:**\n",
    "\n",
    "* programmed in cython:\n",
    "    * syntax very similar to python, but code is translated into C and compiled for fast executions\n",
    "    * multiple threads possible\n",
    "    * classes and functions can be imported into Python after compilation\n",
    "\n",
    "* Inputs of Cluster class object:\n",
    "    * Data table of ints\n",
    "    * prior parameter array\n",
    "    * Clusters\n",
    "    * Number of threads (optional)\n",
    "    * Max number of clusters (default=n_cells)\n",
    "    * Number of cached lngamma values per gene (default=100)\n",
    "* Properties of Cluster class object:\n",
    "    * N_clusters\n",
    "    * Cluster likelihoods and Total_likelihood\n",
    "    * Cluster sizes\n",
    "* Methods for class include \n",
    "    * running MCMC\n",
    "    * Optimize clusters (merging of clusters, non-random optimal moves)\n",
    "    * Move cells or merge clusters explicitly\n",
    "    * Get posterior gene expression states (mean&variance or mode)\n",
    "    * Get cluster hierarchy\n"
   ]
  },
  {
   "cell_type": "code",
   "execution_count": 10,
   "metadata": {},
   "outputs": [],
   "source": [
    "clst = cs.Cluster(data, lmbd, clusters, \n",
    "                  num_threads=8, n_cache=1000)"
   ]
  },
  {
   "cell_type": "code",
   "execution_count": 11,
   "metadata": {},
   "outputs": [
    {
     "data": {
      "text/plain": [
       "-83483186.21598366"
      ]
     },
     "execution_count": 11,
     "metadata": {},
     "output_type": "execute_result"
    }
   ],
   "source": [
    "clst.total_likelihood"
   ]
  },
  {
   "cell_type": "code",
   "execution_count": 12,
   "metadata": {},
   "outputs": [
    {
     "data": {
      "text/plain": [
       "array([1, 1, 1, ..., 1, 1, 1])"
      ]
     },
     "execution_count": 12,
     "metadata": {},
     "output_type": "execute_result"
    }
   ],
   "source": [
    "clst.cluster_sizes"
   ]
  },
  {
   "cell_type": "markdown",
   "metadata": {},
   "source": [
    "An Markov-chain Monte Carlo algorithm is used to optimize likelihood as a function of the partition"
   ]
  },
  {
   "cell_type": "code",
   "execution_count": 13,
   "metadata": {},
   "outputs": [
    {
     "ename": "RuntimeError",
     "evalue": "Only 898 moves found within loop limit.Consider raising tries_per_step",
     "output_type": "error",
     "traceback": [
      "\u001b[0;31m---------------------------------------------------------------------------\u001b[0m",
      "\u001b[0;31mRuntimeError\u001b[0m                              Traceback (most recent call last)",
      "\u001b[0;32m<ipython-input-13-8a528fa3ce12>\u001b[0m in \u001b[0;36m<module>\u001b[0;34m\u001b[0m\n\u001b[0;32m----> 1\u001b[0;31m \u001b[0mclst\u001b[0m\u001b[0;34m.\u001b[0m\u001b[0mbiased_monte_carlo_sampling\u001b[0m\u001b[0;34m(\u001b[0m\u001b[0mN_steps\u001b[0m\u001b[0;34m=\u001b[0m\u001b[0;36m1000\u001b[0m\u001b[0;34m,\u001b[0m \u001b[0mtries_per_step\u001b[0m\u001b[0;34m=\u001b[0m\u001b[0;36m100\u001b[0m\u001b[0;34m)\u001b[0m\u001b[0;34m\u001b[0m\u001b[0;34m\u001b[0m\u001b[0m\n\u001b[0m",
      "\u001b[0;32m~/cellstates_pkg/cellstates/cluster.pyx\u001b[0m in \u001b[0;36mcellstates.cluster.Cluster.biased_monte_carlo_sampling\u001b[0;34m()\u001b[0m\n\u001b[1;32m    687\u001b[0m         \u001b[0;32mif\u001b[0m \u001b[0mN_batch\u001b[0m \u001b[0;34m>\u001b[0m \u001b[0;36m0\u001b[0m\u001b[0;34m:\u001b[0m\u001b[0;34m\u001b[0m\u001b[0;34m\u001b[0m\u001b[0m\n\u001b[1;32m    688\u001b[0m             \u001b[0mtries_per_step\u001b[0m \u001b[0;34m=\u001b[0m \u001b[0;36m100\u001b[0m\u001b[0;34m*\u001b[0m\u001b[0mN_batch\u001b[0m\u001b[0;34m*\u001b[0m\u001b[0mN_steps\u001b[0m\u001b[0;34m\u001b[0m\u001b[0;34m\u001b[0m\u001b[0m\n\u001b[0;32m--> 689\u001b[0;31m         \u001b[0mdo_biased_mc_moves\u001b[0m\u001b[0;34m(\u001b[0m\u001b[0mself\u001b[0m\u001b[0;34m,\u001b[0m \u001b[0mN_steps\u001b[0m\u001b[0;34m,\u001b[0m \u001b[0mtries_per_step\u001b[0m\u001b[0;34m)\u001b[0m\u001b[0;34m\u001b[0m\u001b[0;34m\u001b[0m\u001b[0m\n\u001b[0m\u001b[1;32m    690\u001b[0m \u001b[0;34m\u001b[0m\u001b[0m\n\u001b[1;32m    691\u001b[0m     \u001b[0;32mdef\u001b[0m \u001b[0mset_N_boxes\u001b[0m\u001b[0;34m(\u001b[0m\u001b[0mself\u001b[0m\u001b[0;34m,\u001b[0m \u001b[0mint\u001b[0m \u001b[0mNb_new\u001b[0m\u001b[0;34m)\u001b[0m\u001b[0;34m:\u001b[0m\u001b[0;34m\u001b[0m\u001b[0;34m\u001b[0m\u001b[0m\n",
      "\u001b[0;32m~/cellstates_pkg/cellstates/cluster.pyx\u001b[0m in \u001b[0;36mcellstates.cluster.do_biased_mc_moves\u001b[0;34m()\u001b[0m\n\u001b[1;32m    343\u001b[0m \u001b[0;34m\u001b[0m\u001b[0m\n\u001b[1;32m    344\u001b[0m     \u001b[0;32mif\u001b[0m \u001b[0mn_move_successes\u001b[0m \u001b[0;34m<\u001b[0m \u001b[0mN_steps\u001b[0m\u001b[0;34m:\u001b[0m\u001b[0;34m\u001b[0m\u001b[0;34m\u001b[0m\u001b[0m\n\u001b[0;32m--> 345\u001b[0;31m         raise RuntimeError((f'Only {n_move_successes} moves found within loop limit.'\n\u001b[0m\u001b[1;32m    346\u001b[0m                             'Consider raising tries_per_step'))\n\u001b[1;32m    347\u001b[0m \u001b[0;34m\u001b[0m\u001b[0m\n",
      "\u001b[0;31mRuntimeError\u001b[0m: Only 898 moves found within loop limit.Consider raising tries_per_step"
     ]
    }
   ],
   "source": [
    "clst.biased_monte_carlo_sampling(N_steps=1000, tries_per_step=100)"
   ]
  },
  {
   "cell_type": "code",
   "execution_count": 14,
   "metadata": {},
   "outputs": [
    {
     "data": {
      "text/plain": [
       "-83349647.4870477"
      ]
     },
     "execution_count": 14,
     "metadata": {},
     "output_type": "execute_result"
    }
   ],
   "source": [
    "clst.total_likelihood"
   ]
  },
  {
   "cell_type": "markdown",
   "metadata": {},
   "source": [
    "For the full optimization run, the sampling is repeatedly called. At the end, there are also deterministic optimization steps (merging clusters, moving cells into their optimal cluster)"
   ]
  },
  {
   "cell_type": "code",
   "execution_count": 16,
   "metadata": {},
   "outputs": [
    {
     "name": "stderr",
     "output_type": "stream",
     "text": [
      "2020-04-01 02:11:24,474 - INFO:initially check output every 100 steps\n",
      "2020-04-01 02:11:24,476 - INFO:n_clusters=1771, total likelihood=-83349647.4870477\n",
      "2020-04-01 02:11:27,400 - INFO:n_clusters=1717, total likelihood=-83327293.04996899\n",
      "2020-04-01 02:11:30,100 - INFO:n_clusters=1664, total likelihood=-83305042.190242\n",
      "2020-04-01 02:11:32,956 - INFO:n_clusters=1609, total likelihood=-83279082.23000214\n",
      "2020-04-01 02:11:35,906 - INFO:n_clusters=1564, total likelihood=-83258230.35886353\n",
      "2020-04-01 02:11:38,878 - INFO:n_clusters=1509, total likelihood=-83233308.17009947\n",
      "2020-04-01 02:11:41,920 - INFO:n_clusters=1454, total likelihood=-83204300.04154615\n",
      "2020-04-01 02:11:44,897 - INFO:n_clusters=1398, total likelihood=-83171203.65460894\n",
      "2020-04-01 02:11:47,924 - INFO:n_clusters=1349, total likelihood=-83142524.24495818\n",
      "2020-04-01 02:11:51,252 - INFO:n_clusters=1294, total likelihood=-83107837.12918337\n",
      "2020-04-01 02:11:55,096 - INFO:n_clusters=1241, total likelihood=-83074509.04653393\n",
      "2020-04-01 02:11:58,395 - INFO:n_clusters=1189, total likelihood=-83042723.89259498\n",
      "2020-04-01 02:12:01,344 - INFO:n_clusters=1138, total likelihood=-83011766.42566355\n",
      "2020-04-01 02:12:04,515 - INFO:n_clusters=1086, total likelihood=-82973009.1511026\n",
      "2020-04-01 02:12:07,834 - INFO:n_clusters=1035, total likelihood=-82939233.76466233\n",
      "2020-04-01 02:12:10,940 - INFO:n_clusters=989, total likelihood=-82910594.0750971\n",
      "2020-04-01 02:12:14,254 - INFO:n_clusters=951, total likelihood=-82882427.58310193\n",
      "2020-04-01 02:12:17,657 - INFO:n_clusters=902, total likelihood=-82848575.48073702\n",
      "2020-04-01 02:12:20,352 - INFO:n_clusters=852, total likelihood=-82808901.07205327\n",
      "2020-04-01 02:12:23,305 - INFO:n_clusters=810, total likelihood=-82772042.35599864\n",
      "2020-04-01 02:12:26,338 - INFO:n_clusters=766, total likelihood=-82737594.30834699\n",
      "2020-04-01 02:12:29,618 - INFO:n_clusters=723, total likelihood=-82700953.5755108\n",
      "2020-04-01 02:12:32,597 - INFO:n_clusters=675, total likelihood=-82662337.94116923\n",
      "2020-04-01 02:12:35,737 - INFO:n_clusters=633, total likelihood=-82629864.22020014\n",
      "2020-04-01 02:12:38,918 - INFO:n_clusters=593, total likelihood=-82601012.65203758\n",
      "2020-04-01 02:12:42,263 - INFO:n_clusters=550, total likelihood=-82570839.4077162\n",
      "2020-04-01 02:12:45,506 - INFO:n_clusters=515, total likelihood=-82544317.84785607\n",
      "2020-04-01 02:12:48,334 - INFO:n_clusters=481, total likelihood=-82515204.88901055\n",
      "2020-04-01 02:12:50,834 - INFO:n_clusters=445, total likelihood=-82483303.90451011\n",
      "2020-04-01 02:12:53,551 - INFO:n_clusters=410, total likelihood=-82449135.3771655\n",
      "2020-04-01 02:12:56,106 - INFO:n_clusters=382, total likelihood=-82422574.94876859\n",
      "2020-04-01 02:12:58,865 - INFO:n_clusters=348, total likelihood=-82394191.88418064\n",
      "2020-04-01 02:13:01,337 - INFO:n_clusters=318, total likelihood=-82366044.17698558\n",
      "2020-04-01 02:13:03,935 - INFO:n_clusters=293, total likelihood=-82336470.8045719\n",
      "2020-04-01 02:13:06,681 - INFO:n_clusters=274, total likelihood=-82311644.83736533\n",
      "2020-04-01 02:13:09,225 - INFO:n_clusters=253, total likelihood=-82282697.18667255\n",
      "2020-04-01 02:13:11,632 - INFO:n_clusters=230, total likelihood=-82248854.16389981\n",
      "2020-04-01 02:13:13,837 - INFO:n_clusters=217, total likelihood=-82221776.57589243\n",
      "2020-04-01 02:13:16,250 - INFO:n_clusters=199, total likelihood=-82197065.8915177\n",
      "2020-04-01 02:13:18,480 - INFO:n_clusters=187, total likelihood=-82170372.08339964\n",
      "2020-04-01 02:13:20,917 - INFO:n_clusters=176, total likelihood=-82147979.78449644\n",
      "2020-04-01 02:13:23,121 - INFO:n_clusters=163, total likelihood=-82125484.32177837\n",
      "2020-04-01 02:13:25,141 - INFO:n_clusters=156, total likelihood=-82103233.92380574\n",
      "2020-04-01 02:13:27,279 - INFO:n_clusters=148, total likelihood=-82081090.16523756\n",
      "2020-04-01 02:13:29,239 - INFO:n_clusters=139, total likelihood=-82057988.79576601\n",
      "2020-04-01 02:13:31,222 - INFO:n_clusters=130, total likelihood=-82034438.95758171\n",
      "2020-04-01 02:13:33,267 - INFO:n_clusters=116, total likelihood=-82008793.42732996\n",
      "2020-04-01 02:13:35,253 - INFO:n_clusters=108, total likelihood=-81987743.03937602\n",
      "2020-04-01 02:13:37,159 - INFO:n_clusters=103, total likelihood=-81964390.48604465\n",
      "2020-04-01 02:13:39,373 - INFO:n_clusters=97, total likelihood=-81941551.15995137\n",
      "2020-04-01 02:13:41,315 - INFO:n_clusters=93, total likelihood=-81921223.31369255\n",
      "2020-04-01 02:13:43,481 - INFO:n_clusters=91, total likelihood=-81903375.54089728\n",
      "2020-04-01 02:13:45,813 - INFO:n_clusters=84, total likelihood=-81883684.37335254\n",
      "2020-04-01 02:13:47,767 - INFO:n_clusters=76, total likelihood=-81862550.44404255\n",
      "2020-04-01 02:13:49,913 - INFO:n_clusters=72, total likelihood=-81840828.03289267\n",
      "2020-04-01 02:13:51,949 - INFO:n_clusters=67, total likelihood=-81815723.516415\n",
      "2020-04-01 02:13:54,438 - INFO:n_clusters=63, total likelihood=-81793494.54165056\n",
      "2020-04-01 02:13:57,020 - INFO:n_clusters=55, total likelihood=-81769149.0679088\n",
      "2020-04-01 02:13:59,858 - INFO:n_clusters=52, total likelihood=-81741289.39013894\n",
      "2020-04-01 02:14:02,474 - INFO:n_clusters=46, total likelihood=-81711041.26034197\n",
      "2020-04-01 02:14:04,931 - INFO:n_clusters=45, total likelihood=-81689537.71712357\n",
      "2020-04-01 02:14:08,652 - INFO:n_clusters=38, total likelihood=-81661814.33518781\n",
      "2020-04-01 02:14:11,617 - INFO:n_clusters=35, total likelihood=-81633678.12445702\n",
      "2020-04-01 02:14:15,290 - INFO:n_clusters=35, total likelihood=-81596214.91112797\n",
      "2020-04-01 02:14:19,590 - INFO:n_clusters=34, total likelihood=-81553870.96645668\n",
      "2020-04-01 02:14:29,048 - INFO:n_clusters=26, total likelihood=-81513618.516832\n",
      "2020-04-01 02:14:43,708 - WARNING:Only 78 moves found within loop limit.Consider raising tries_per_step\n",
      "2020-04-01 02:14:43,709 - INFO:changed tries_per_step to 10000 and N_steps to 10\n",
      "2020-04-01 02:14:43,710 - INFO:n_clusters=20, total likelihood=-81468011.53575347\n",
      "2020-04-01 02:14:55,730 - INFO:n_clusters=12, total likelihood=-81461907.87629934\n",
      "2020-04-01 02:15:10,305 - WARNING:Only 2 moves found within loop limit.Consider raising tries_per_step\n",
      "2020-04-01 02:15:10,307 - INFO:MCMC converges, little further improvement expected\n",
      "2020-04-01 02:15:10,308 - INFO:n_clusters=10, total likelihood=-81458341.62652262\n",
      "2020-04-01 02:15:10,309 - INFO:optimize clusters.\n",
      "2020-04-01 02:15:13,270 - INFO:end of clustering\n"
     ]
    }
   ],
   "source": [
    "cs.run_mcmc(clst, N_steps=100)"
   ]
  },
  {
   "cell_type": "code",
   "execution_count": 17,
   "metadata": {},
   "outputs": [
    {
     "data": {
      "text/plain": [
       "-81457510.71362096"
      ]
     },
     "execution_count": 17,
     "metadata": {},
     "output_type": "execute_result"
    }
   ],
   "source": [
    "clst.total_likelihood"
   ]
  },
  {
   "cell_type": "code",
   "execution_count": 18,
   "metadata": {},
   "outputs": [
    {
     "data": {
      "text/plain": [
       "9"
      ]
     },
     "execution_count": 18,
     "metadata": {},
     "output_type": "execute_result"
    }
   ],
   "source": [
    "clst.n_clusters"
   ]
  },
  {
   "cell_type": "code",
   "execution_count": 21,
   "metadata": {},
   "outputs": [
    {
     "data": {
      "text/plain": [
       "0.9811421746094137"
      ]
     },
     "execution_count": 21,
     "metadata": {},
     "output_type": "execute_result"
    }
   ],
   "source": [
    "from sklearn.metrics import adjusted_rand_score\n",
    "sim_clusters = np.loadtxt('./test_data/simulated_clusters.txt', dtype=int)\n",
    "adjusted_rand_score(sim_clusters, clst.clusters)"
   ]
  },
  {
   "cell_type": "code",
   "execution_count": 23,
   "metadata": {},
   "outputs": [
    {
     "data": {
      "text/plain": [
       "-81458341.62652262"
      ]
     },
     "execution_count": 23,
     "metadata": {},
     "output_type": "execute_result"
    }
   ],
   "source": [
    "sim_clst = cs.Cluster(data, lmbd, sim_clusters)\n",
    "sim_clst.total_likelihood"
   ]
  },
  {
   "cell_type": "code",
   "execution_count": 24,
   "metadata": {},
   "outputs": [
    {
     "data": {
      "text/plain": [
       "10"
      ]
     },
     "execution_count": 24,
     "metadata": {},
     "output_type": "execute_result"
    }
   ],
   "source": [
    "sim_clst.n_clusters"
   ]
  },
  {
   "cell_type": "markdown",
   "metadata": {},
   "source": [
    "**Full optimization pipeline:**\n",
    "* Choose an initial alpha ~ no. of UMIs per cell\n",
    "* optimize partition\n",
    "* check what the optimal alpha for this partition would be\n",
    "* optimize again if necessary etc."
   ]
  },
  {
   "cell_type": "markdown",
   "metadata": {},
   "source": [
    "## Other outputs of the model"
   ]
  },
  {
   "cell_type": "markdown",
   "metadata": {},
   "source": [
    "**Hierarchical merging of clusters**\n",
    "* in every step we are looking for the two clusters that when merged result in the smallest change in LL"
   ]
  },
  {
   "cell_type": "code",
   "execution_count": 25,
   "metadata": {},
   "outputs": [],
   "source": [
    "cluster_hierarchy, delta_LL_history = clst.get_cluster_hierarchy()"
   ]
  },
  {
   "cell_type": "code",
   "execution_count": 26,
   "metadata": {},
   "outputs": [
    {
     "data": {
      "text/plain": [
       "[(1, 6), (0, 4), (2, 8), (2, 7), (0, 5), (0, 1), (2, 3), (0, 2)]"
      ]
     },
     "execution_count": 26,
     "metadata": {},
     "output_type": "execute_result"
    }
   ],
   "source": [
    "cluster_hierarchy"
   ]
  },
  {
   "cell_type": "code",
   "execution_count": 27,
   "metadata": {},
   "outputs": [
    {
     "data": {
      "text/plain": [
       "[-29439.888014692813,\n",
       " -31737.11723736301,\n",
       " -68090.3993109297,\n",
       " -115108.55503090471,\n",
       " -125368.8534150999,\n",
       " -257236.1339237988,\n",
       " -412260.0136397928,\n",
       " -1068365.9011107385]"
      ]
     },
     "execution_count": 27,
     "metadata": {},
     "output_type": "execute_result"
    }
   ],
   "source": [
    "delta_LL_history"
   ]
  },
  {
   "cell_type": "code",
   "execution_count": 28,
   "metadata": {},
   "outputs": [
    {
     "data": {
      "text/html": [
       "<div>\n",
       "<style scoped>\n",
       "    .dataframe tbody tr th:only-of-type {\n",
       "        vertical-align: middle;\n",
       "    }\n",
       "\n",
       "    .dataframe tbody tr th {\n",
       "        vertical-align: top;\n",
       "    }\n",
       "\n",
       "    .dataframe thead th {\n",
       "        text-align: right;\n",
       "    }\n",
       "</style>\n",
       "<table border=\"1\" class=\"dataframe\">\n",
       "  <thead>\n",
       "    <tr style=\"text-align: right;\">\n",
       "      <th></th>\n",
       "      <th>cluster_new</th>\n",
       "      <th>cluster_old</th>\n",
       "      <th>delta_LL</th>\n",
       "    </tr>\n",
       "  </thead>\n",
       "  <tbody>\n",
       "    <tr>\n",
       "      <th>0</th>\n",
       "      <td>1</td>\n",
       "      <td>6</td>\n",
       "      <td>-2.943989e+04</td>\n",
       "    </tr>\n",
       "    <tr>\n",
       "      <th>1</th>\n",
       "      <td>0</td>\n",
       "      <td>4</td>\n",
       "      <td>-3.173712e+04</td>\n",
       "    </tr>\n",
       "    <tr>\n",
       "      <th>2</th>\n",
       "      <td>2</td>\n",
       "      <td>8</td>\n",
       "      <td>-6.809040e+04</td>\n",
       "    </tr>\n",
       "    <tr>\n",
       "      <th>3</th>\n",
       "      <td>2</td>\n",
       "      <td>7</td>\n",
       "      <td>-1.151086e+05</td>\n",
       "    </tr>\n",
       "    <tr>\n",
       "      <th>4</th>\n",
       "      <td>0</td>\n",
       "      <td>5</td>\n",
       "      <td>-1.253689e+05</td>\n",
       "    </tr>\n",
       "    <tr>\n",
       "      <th>5</th>\n",
       "      <td>0</td>\n",
       "      <td>1</td>\n",
       "      <td>-2.572361e+05</td>\n",
       "    </tr>\n",
       "    <tr>\n",
       "      <th>6</th>\n",
       "      <td>2</td>\n",
       "      <td>3</td>\n",
       "      <td>-4.122600e+05</td>\n",
       "    </tr>\n",
       "    <tr>\n",
       "      <th>7</th>\n",
       "      <td>0</td>\n",
       "      <td>2</td>\n",
       "      <td>-1.068366e+06</td>\n",
       "    </tr>\n",
       "  </tbody>\n",
       "</table>\n",
       "</div>"
      ],
      "text/plain": [
       "  cluster_new cluster_old      delta_LL\n",
       "0           1           6 -2.943989e+04\n",
       "1           0           4 -3.173712e+04\n",
       "2           2           8 -6.809040e+04\n",
       "3           2           7 -1.151086e+05\n",
       "4           0           5 -1.253689e+05\n",
       "5           0           1 -2.572361e+05\n",
       "6           2           3 -4.122600e+05\n",
       "7           0           2 -1.068366e+06"
      ]
     },
     "execution_count": 28,
     "metadata": {},
     "output_type": "execute_result"
    }
   ],
   "source": [
    "hierarchy_df = cs.get_hierarchy_df(cluster_hierarchy, delta_LL_history)\n",
    "hierarchy_df"
   ]
  },
  {
   "cell_type": "markdown",
   "metadata": {},
   "source": [
    "I have built functions that can transform these trees into **other formats**:\n",
    "* scipy linkage matrix: \n",
    "    * integrated into python\n",
    "    * only allows one leaf per cluster\n",
    "    * only positive distances allowed\n",
    "    \n",
    "* Newick format\n",
    "    * widely used for phylogenetic trees\n",
    "    * allows for one leaf per cell\n",
    "    * only positive distances allowed in plotting tool I use"
   ]
  },
  {
   "cell_type": "code",
   "execution_count": 41,
   "metadata": {
    "scrolled": true
   },
   "outputs": [
    {
     "data": {
      "text/plain": [
       "(<Figure size 648x432 with 1 Axes>,\n",
       " <matplotlib.axes._subplots.AxesSubplot at 0x7f90c5a29cc0>,\n",
       " {'icoord': [[5.0, 5.0, 15.0, 15.0],\n",
       "   [35.0, 35.0, 45.0, 45.0],\n",
       "   [25.0, 25.0, 40.0, 40.0],\n",
       "   [10.0, 10.0, 32.5, 32.5],\n",
       "   [75.0, 75.0, 85.0, 85.0],\n",
       "   [65.0, 65.0, 80.0, 80.0],\n",
       "   [55.0, 55.0, 72.5, 72.5],\n",
       "   [21.25, 21.25, 63.75, 63.75]],\n",
       "  'dcoord': [[0.0, 29439.888014692813, 29439.888014692813, 0.0],\n",
       "   [0.0, 31737.11723736301, 31737.11723736301, 0.0],\n",
       "   [0.0, 125368.8534150999, 125368.8534150999, 31737.11723736301],\n",
       "   [29439.888014692813,\n",
       "    257236.1339237988,\n",
       "    257236.1339237988,\n",
       "    125368.8534150999],\n",
       "   [0.0, 68090.3993109297, 68090.3993109297, 0.0],\n",
       "   [0.0, 115108.55503090471, 115108.55503090471, 68090.3993109297],\n",
       "   [0.0, 412260.0136397928, 412260.0136397928, 115108.55503090471],\n",
       "   [257236.1339237988,\n",
       "    1068365.9011107385,\n",
       "    1068365.9011107385,\n",
       "    412260.0136397928]],\n",
       "  'ivl': ['1', '6', '5', '0', '4', '3', '7', '2', '8'],\n",
       "  'leaves': [1, 6, 5, 0, 4, 3, 7, 2, 8],\n",
       "  'color_list': ['#ff0000',\n",
       "   '#ff0000',\n",
       "   '#ff0000',\n",
       "   '#ff0000',\n",
       "   '#08ff00',\n",
       "   '#08ff00',\n",
       "   '#808080',\n",
       "   '#808080']})"
      ]
     },
     "execution_count": 41,
     "metadata": {},
     "output_type": "execute_result"
    },
    {
     "data": {
      "image/png": "[encoded data removed]",
      "text/plain": [
       "<Figure size 648x432 with 1 Axes>"
      ]
     },
     "metadata": {
      "needs_background": "light"
     },
     "output_type": "display_data"
    }
   ],
   "source": [
    "cs.plot_hierarchy_scipy(hierarchy_df, n_groups=3)"
   ]
  },
  {
   "cell_type": "code",
   "execution_count": 43,
   "metadata": {},
   "outputs": [
    {
     "name": "stdout",
     "output_type": "stream",
     "text": [
      "localhost:10.0\r\n"
     ]
    }
   ],
   "source": [
    "import os\n",
    "os.environ['DISPLAY'] = 'localhost:10.0'\n",
    "\n",
    "!echo $DISPLAY"
   ]
  },
  {
   "cell_type": "code",
   "execution_count": 48,
   "metadata": {},
   "outputs": [
    {
     "data": {
      "image/png": "[encoded data removed]",
      "text/plain": [
       "<IPython.core.display.Image object>"
      ]
     },
     "execution_count": 48,
     "metadata": {},
     "output_type": "execute_result"
    }
   ],
   "source": [
    "t, ts = cs.plot_hierarchy_ete3(hierarchy_df, clst.clusters, n_groups=3)\n",
    "t.render('%%inline', tree_style=ts)"
   ]
  },
  {
   "cell_type": "code",
   "execution_count": 53,
   "metadata": {},
   "outputs": [],
   "source": [
    "score_table = cs.marker_score_table(clst, hierarchy_df)"
   ]
  },
  {
   "cell_type": "code",
   "execution_count": 57,
   "metadata": {},
   "outputs": [],
   "source": [
    "genes = np.load('./test_data/genes.npy', allow_pickle=True)\n",
    "genes = genes[mask]"
   ]
  },
  {
   "cell_type": "code",
   "execution_count": 59,
   "metadata": {},
   "outputs": [
    {
     "data": {
      "text/html": [
       "<div>\n",
       "<style scoped>\n",
       "    .dataframe tbody tr th:only-of-type {\n",
       "        vertical-align: middle;\n",
       "    }\n",
       "\n",
       "    .dataframe tbody tr th {\n",
       "        vertical-align: top;\n",
       "    }\n",
       "\n",
       "    .dataframe thead th {\n",
       "        text-align: right;\n",
       "    }\n",
       "</style>\n",
       "<table border=\"1\" class=\"dataframe\">\n",
       "  <thead>\n",
       "    <tr style=\"text-align: right;\">\n",
       "      <th></th>\n",
       "      <th>cluster_new</th>\n",
       "      <th>cluster_old</th>\n",
       "      <th>delta_LL</th>\n",
       "      <th>distance</th>\n",
       "      <th>A1BG_AS1__chr19</th>\n",
       "      <th>A1BG__chr19</th>\n",
       "      <th>A1CF__chr10</th>\n",
       "      <th>A2M_AS1__chr12</th>\n",
       "      <th>A2ML1__chr12</th>\n",
       "      <th>A2M__chr12</th>\n",
       "      <th>...</th>\n",
       "      <th>ZWILCH__chr15</th>\n",
       "      <th>ZWINT__chr10</th>\n",
       "      <th>ZXDA__chrX</th>\n",
       "      <th>ZXDB__chrX</th>\n",
       "      <th>ZXDC__chr3</th>\n",
       "      <th>ZYG11A__chr1</th>\n",
       "      <th>ZYG11B__chr1</th>\n",
       "      <th>ZYX__chr7</th>\n",
       "      <th>ZZEF1__chr17</th>\n",
       "      <th>ZZZ3__chr1</th>\n",
       "    </tr>\n",
       "  </thead>\n",
       "  <tbody>\n",
       "    <tr>\n",
       "      <th>0</th>\n",
       "      <td>1</td>\n",
       "      <td>6</td>\n",
       "      <td>-2.943989e+04</td>\n",
       "      <td>2.944089e+04</td>\n",
       "      <td>0.004138</td>\n",
       "      <td>-0.177228</td>\n",
       "      <td>1.645643</td>\n",
       "      <td>0.017931</td>\n",
       "      <td>-0.115510</td>\n",
       "      <td>0.136550</td>\n",
       "      <td>...</td>\n",
       "      <td>2.506479</td>\n",
       "      <td>-1.670941</td>\n",
       "      <td>-0.227911</td>\n",
       "      <td>0.339247</td>\n",
       "      <td>-1.079766</td>\n",
       "      <td>-0.111372</td>\n",
       "      <td>1.486774</td>\n",
       "      <td>-3.507449</td>\n",
       "      <td>1.849295</td>\n",
       "      <td>1.420626</td>\n",
       "    </tr>\n",
       "    <tr>\n",
       "      <th>1</th>\n",
       "      <td>0</td>\n",
       "      <td>4</td>\n",
       "      <td>-3.173712e+04</td>\n",
       "      <td>6.117901e+04</td>\n",
       "      <td>-0.617346</td>\n",
       "      <td>-0.545304</td>\n",
       "      <td>-1.559023</td>\n",
       "      <td>3.082420</td>\n",
       "      <td>-1.287159</td>\n",
       "      <td>-2.869525</td>\n",
       "      <td>...</td>\n",
       "      <td>1.736127</td>\n",
       "      <td>3.106885</td>\n",
       "      <td>1.100123</td>\n",
       "      <td>-3.008204</td>\n",
       "      <td>1.687120</td>\n",
       "      <td>-1.283003</td>\n",
       "      <td>0.918177</td>\n",
       "      <td>2.760153</td>\n",
       "      <td>2.061100</td>\n",
       "      <td>1.434696</td>\n",
       "    </tr>\n",
       "    <tr>\n",
       "      <th>2</th>\n",
       "      <td>2</td>\n",
       "      <td>8</td>\n",
       "      <td>-6.809040e+04</td>\n",
       "      <td>1.292704e+05</td>\n",
       "      <td>-0.458745</td>\n",
       "      <td>2.253023</td>\n",
       "      <td>2.224411</td>\n",
       "      <td>4.023539</td>\n",
       "      <td>-1.952977</td>\n",
       "      <td>-0.810837</td>\n",
       "      <td>...</td>\n",
       "      <td>1.897544</td>\n",
       "      <td>2.716450</td>\n",
       "      <td>-0.841652</td>\n",
       "      <td>2.705240</td>\n",
       "      <td>-5.167947</td>\n",
       "      <td>-0.964282</td>\n",
       "      <td>-2.347988</td>\n",
       "      <td>1.047234</td>\n",
       "      <td>2.501816</td>\n",
       "      <td>0.914324</td>\n",
       "    </tr>\n",
       "    <tr>\n",
       "      <th>3</th>\n",
       "      <td>2</td>\n",
       "      <td>7</td>\n",
       "      <td>-1.151086e+05</td>\n",
       "      <td>2.443800e+05</td>\n",
       "      <td>-1.180666</td>\n",
       "      <td>2.710218</td>\n",
       "      <td>-3.158431</td>\n",
       "      <td>4.382738</td>\n",
       "      <td>-0.346347</td>\n",
       "      <td>0.196815</td>\n",
       "      <td>...</td>\n",
       "      <td>1.440516</td>\n",
       "      <td>2.453892</td>\n",
       "      <td>1.735502</td>\n",
       "      <td>3.078483</td>\n",
       "      <td>-2.477810</td>\n",
       "      <td>-1.064886</td>\n",
       "      <td>-0.366958</td>\n",
       "      <td>2.291195</td>\n",
       "      <td>2.921868</td>\n",
       "      <td>2.979985</td>\n",
       "    </tr>\n",
       "    <tr>\n",
       "      <th>4</th>\n",
       "      <td>0</td>\n",
       "      <td>5</td>\n",
       "      <td>-1.253689e+05</td>\n",
       "      <td>3.697498e+05</td>\n",
       "      <td>0.004342</td>\n",
       "      <td>0.079602</td>\n",
       "      <td>-1.353131</td>\n",
       "      <td>1.979886</td>\n",
       "      <td>-1.917011</td>\n",
       "      <td>-77.841452</td>\n",
       "      <td>...</td>\n",
       "      <td>2.363912</td>\n",
       "      <td>2.496352</td>\n",
       "      <td>2.528471</td>\n",
       "      <td>-6.014227</td>\n",
       "      <td>1.400441</td>\n",
       "      <td>3.918854</td>\n",
       "      <td>1.339301</td>\n",
       "      <td>2.825060</td>\n",
       "      <td>0.868277</td>\n",
       "      <td>1.669073</td>\n",
       "    </tr>\n",
       "    <tr>\n",
       "      <th>5</th>\n",
       "      <td>0</td>\n",
       "      <td>1</td>\n",
       "      <td>-2.572361e+05</td>\n",
       "      <td>6.269869e+05</td>\n",
       "      <td>0.003595</td>\n",
       "      <td>0.065916</td>\n",
       "      <td>0.057227</td>\n",
       "      <td>-1.156957</td>\n",
       "      <td>-0.576679</td>\n",
       "      <td>-25.679329</td>\n",
       "      <td>...</td>\n",
       "      <td>2.128315</td>\n",
       "      <td>-1.671320</td>\n",
       "      <td>-1.040704</td>\n",
       "      <td>-0.431304</td>\n",
       "      <td>-0.022093</td>\n",
       "      <td>-0.573084</td>\n",
       "      <td>-1.985347</td>\n",
       "      <td>-6.496781</td>\n",
       "      <td>0.105660</td>\n",
       "      <td>0.531750</td>\n",
       "    </tr>\n",
       "    <tr>\n",
       "      <th>6</th>\n",
       "      <td>2</td>\n",
       "      <td>3</td>\n",
       "      <td>-4.122600e+05</td>\n",
       "      <td>1.039248e+06</td>\n",
       "      <td>-1.624208</td>\n",
       "      <td>2.244144</td>\n",
       "      <td>-13.658914</td>\n",
       "      <td>1.294912</td>\n",
       "      <td>-0.634349</td>\n",
       "      <td>0.202475</td>\n",
       "      <td>...</td>\n",
       "      <td>3.160868</td>\n",
       "      <td>3.003813</td>\n",
       "      <td>0.746718</td>\n",
       "      <td>2.206416</td>\n",
       "      <td>1.910812</td>\n",
       "      <td>-0.628214</td>\n",
       "      <td>2.717900</td>\n",
       "      <td>2.251899</td>\n",
       "      <td>-0.427115</td>\n",
       "      <td>-0.578954</td>\n",
       "    </tr>\n",
       "    <tr>\n",
       "      <th>7</th>\n",
       "      <td>0</td>\n",
       "      <td>2</td>\n",
       "      <td>-1.068366e+06</td>\n",
       "      <td>2.107615e+06</td>\n",
       "      <td>-0.178672</td>\n",
       "      <td>-0.469975</td>\n",
       "      <td>-6.549753</td>\n",
       "      <td>3.695255</td>\n",
       "      <td>-1.755118</td>\n",
       "      <td>-77.592551</td>\n",
       "      <td>...</td>\n",
       "      <td>2.393602</td>\n",
       "      <td>1.187528</td>\n",
       "      <td>2.019804</td>\n",
       "      <td>-5.247470</td>\n",
       "      <td>-0.670157</td>\n",
       "      <td>-1.750811</td>\n",
       "      <td>-1.177683</td>\n",
       "      <td>-16.398709</td>\n",
       "      <td>2.011458</td>\n",
       "      <td>1.651344</td>\n",
       "    </tr>\n",
       "  </tbody>\n",
       "</table>\n",
       "<p>8 rows × 18875 columns</p>\n",
       "</div>"
      ],
      "text/plain": [
       "  cluster_new cluster_old      delta_LL      distance  A1BG_AS1__chr19  \\\n",
       "0           1           6 -2.943989e+04  2.944089e+04         0.004138   \n",
       "1           0           4 -3.173712e+04  6.117901e+04        -0.617346   \n",
       "2           2           8 -6.809040e+04  1.292704e+05        -0.458745   \n",
       "3           2           7 -1.151086e+05  2.443800e+05        -1.180666   \n",
       "4           0           5 -1.253689e+05  3.697498e+05         0.004342   \n",
       "5           0           1 -2.572361e+05  6.269869e+05         0.003595   \n",
       "6           2           3 -4.122600e+05  1.039248e+06        -1.624208   \n",
       "7           0           2 -1.068366e+06  2.107615e+06        -0.178672   \n",
       "\n",
       "   A1BG__chr19  A1CF__chr10  A2M_AS1__chr12  A2ML1__chr12  A2M__chr12  ...  \\\n",
       "0    -0.177228     1.645643        0.017931     -0.115510    0.136550  ...   \n",
       "1    -0.545304    -1.559023        3.082420     -1.287159   -2.869525  ...   \n",
       "2     2.253023     2.224411        4.023539     -1.952977   -0.810837  ...   \n",
       "3     2.710218    -3.158431        4.382738     -0.346347    0.196815  ...   \n",
       "4     0.079602    -1.353131        1.979886     -1.917011  -77.841452  ...   \n",
       "5     0.065916     0.057227       -1.156957     -0.576679  -25.679329  ...   \n",
       "6     2.244144   -13.658914        1.294912     -0.634349    0.202475  ...   \n",
       "7    -0.469975    -6.549753        3.695255     -1.755118  -77.592551  ...   \n",
       "\n",
       "   ZWILCH__chr15  ZWINT__chr10  ZXDA__chrX  ZXDB__chrX  ZXDC__chr3  \\\n",
       "0       2.506479     -1.670941   -0.227911    0.339247   -1.079766   \n",
       "1       1.736127      3.106885    1.100123   -3.008204    1.687120   \n",
       "2       1.897544      2.716450   -0.841652    2.705240   -5.167947   \n",
       "3       1.440516      2.453892    1.735502    3.078483   -2.477810   \n",
       "4       2.363912      2.496352    2.528471   -6.014227    1.400441   \n",
       "5       2.128315     -1.671320   -1.040704   -0.431304   -0.022093   \n",
       "6       3.160868      3.003813    0.746718    2.206416    1.910812   \n",
       "7       2.393602      1.187528    2.019804   -5.247470   -0.670157   \n",
       "\n",
       "   ZYG11A__chr1  ZYG11B__chr1  ZYX__chr7  ZZEF1__chr17  ZZZ3__chr1  \n",
       "0     -0.111372      1.486774  -3.507449      1.849295    1.420626  \n",
       "1     -1.283003      0.918177   2.760153      2.061100    1.434696  \n",
       "2     -0.964282     -2.347988   1.047234      2.501816    0.914324  \n",
       "3     -1.064886     -0.366958   2.291195      2.921868    2.979985  \n",
       "4      3.918854      1.339301   2.825060      0.868277    1.669073  \n",
       "5     -0.573084     -1.985347  -6.496781      0.105660    0.531750  \n",
       "6     -0.628214      2.717900   2.251899     -0.427115   -0.578954  \n",
       "7     -1.750811     -1.177683 -16.398709      2.011458    1.651344  \n",
       "\n",
       "[8 rows x 18875 columns]"
      ]
     },
     "execution_count": 59,
     "metadata": {},
     "output_type": "execute_result"
    }
   ],
   "source": [
    "score_df = pd.concat([hierarchy_df, pd.DataFrame(score_table, columns=genes)], axis=1)\n",
    "score_df\n"
   ]
  },
  {
   "cell_type": "code",
   "execution_count": 60,
   "metadata": {},
   "outputs": [
    {
     "data": {
      "text/plain": [
       "['__name__',\n",
       " '__doc__',\n",
       " '__package__',\n",
       " '__loader__',\n",
       " '__spec__',\n",
       " '__path__',\n",
       " '__file__',\n",
       " '__cached__',\n",
       " '__builtins__',\n",
       " 'cluster',\n",
       " 'Cluster',\n",
       " 'run',\n",
       " 'run_mcmc',\n",
       " 'helpers',\n",
       " 'clusters_from_hierarchy',\n",
       " 'get_hierarchy_df',\n",
       " 'get_scipy_hierarchy',\n",
       " 'hierarchy_to_newick',\n",
       " 'marker_score_table',\n",
       " 'plotting',\n",
       " 'plot_hierarchy_scipy',\n",
       " 'plot_hierarchy_ete3']"
      ]
     },
     "execution_count": 60,
     "metadata": {},
     "output_type": "execute_result"
    }
   ],
   "source": [
    "cs.__dir__()"
   ]
  },
  {
   "cell_type": "markdown",
   "metadata": {},
   "source": [
    "## Command line tool"
   ]
  },
  {
   "cell_type": "code",
   "execution_count": 61,
   "metadata": {},
   "outputs": [
    {
     "name": "stdout",
     "output_type": "stream",
     "text": [
      "usage: run_cellstate.py [-h] [-o OUTDIR] [--data DATA] [-d DIRICHLET]\r\n",
      "                        [-i INIT] [-t THREADS]\r\n",
      "\r\n",
      "optional arguments:\r\n",
      "  -h, --help            show this help message and exit\r\n",
      "  -o OUTDIR, --outdir OUTDIR\r\n",
      "                        directory for output\r\n",
      "  --data DATA           UMI data (path to file)\r\n",
      "  -d DIRICHLET, --dirichlet DIRICHLET\r\n",
      "                        dirichlet prior parameter\r\n",
      "  -i INIT, --init INIT  init clusters (path to file)\r\n",
      "  -t THREADS, --threads THREADS\r\n",
      "                        number of threads\r\n"
     ]
    }
   ],
   "source": [
    "! python run_cellstate.py --help"
   ]
  },
  {
   "cell_type": "markdown",
   "metadata": {},
   "source": [
    "**outputs currently:**\n",
    "* optimized_clusters.txt\n",
    "    * list of cluster labels\n",
    "* cluster_hierarchy.tsv\n",
    "    * tsv file of hierarchy_df"
   ]
  },
  {
   "cell_type": "code",
   "execution_count": null,
   "metadata": {},
   "outputs": [],
   "source": []
  }
 ],
 "metadata": {
  "kernelspec": {
   "display_name": "Python 3",
   "language": "python",
   "name": "python3"
  },
  "language_info": {
   "codemirror_mode": {
    "name": "ipython",
    "version": 3
   },
   "file_extension": ".py",
   "mimetype": "text/x-python",
   "name": "python",
   "nbconvert_exporter": "python",
   "pygments_lexer": "ipython3",
   "version": "3.6.8"
  }
 },
 "nbformat": 4,
 "nbformat_minor": 2
}
