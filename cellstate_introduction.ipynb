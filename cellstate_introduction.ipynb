{
 "cells": [
  {
   "cell_type": "markdown",
   "metadata": {},
   "source": [
    "# Introduction to cellstate\n",
    "\n",
    "`cellstate` is a python package for analysis of UMI-based single-cell RNA-seq data. The underlying mathematical model infers clusters of cells that are in the same gene expression state, meaning that all remaining heterogeneity within each cluster can be explained by expected measurement noise. Thus, we find the most fine-grained clustering that is  supported by the data. Furthermore, we describe the higher-order relationship of these cell-states in a hierarchical tree and provide scores for marker-genes within this tree."
   ]
  },
  {
   "cell_type": "markdown",
   "metadata": {},
   "source": [
    "# Installation\n",
    "\n",
    "Installation of the cellstate python package can simply be done by going in the package folder and running \n",
    "\n",
    "`python setup.py install`"
   ]
  },
  {
   "cell_type": "markdown",
   "metadata": {},
   "source": [
    "# Commandline tool\n",
    "\n"
   ]
  },
  {
   "cell_type": "markdown",
   "metadata": {},
   "source": [
    "The most **basic version**, can be run through the command line as follows:\n",
    "\n",
    "`python run_cellstate.py --data data.tsv`\n",
    "\n",
    "The **input** is a table of integer UMI counts. The commandline tool currently supports the following formats:\n",
    "* A tab-separated values file with .tsv or .txt ending. Columns are cells, rows are genes. \n",
    "* A numpy array of integers saved as .npy file\n",
    "\n",
    "\n",
    "It returns the following **results**:\n",
    "* `optimized_clusters.txt`: indicates for each cell in which cell-state they are (cellstates are assigned an arbitrary number)\n",
    "* `cluster_hierarchy.tsv`: The relationship between cell-states can be described through a hierarchical tree. Leaves in this tree are cell-states which are iteratively merged into higher-order clusters. This tree structure is saved as a tab separated value file with three columns:\n",
    "    * cluster_new: Cluster/cell-state to be merged and label of new merged cluster\n",
    "    * cluster_old: Other cluster/cell-state to be merged with cluster_new\n",
    "    * Delta_LL: Change in log-likelihood (usually negative; the more negative, the more different are the merged clusters)\n",
    "* `hierarchy_gene_scores.tsv`: For each merging-step in the hierarchical tree, we can give a score for how much a gene contributes to the separation of the two branches (large negative score). In this tab-separated value file, the first three columns are the same as in `cluster_hierarchy.tsv`, indicating the merging step, and the following columns are the scores for each gene. \n",
    "* `dirichlet_pseudocounts.tsv`: The prior parameters for which the optimum was found. "
   ]
  },
  {
   "cell_type": "markdown",
   "metadata": {},
   "source": [
    "Further possible inputs can be seen by calling the help for `run_cellstate.py` "
   ]
  },
  {
   "cell_type": "code",
   "execution_count": 61,
   "metadata": {},
   "outputs": [
    {
     "name": "stdout",
     "output_type": "stream",
     "text": [
      "usage: run_cellstate.py [-h] [-o OUTDIR] [--data DATA] [-d DIRICHLET]\r\n",
      "                        [-i INIT] [-t THREADS]\r\n",
      "\r\n",
      "optional arguments:\r\n",
      "  -h, --help            show this help message and exit\r\n",
      "  -o OUTDIR, --outdir OUTDIR\r\n",
      "                        directory for output\r\n",
      "  --data DATA           UMI data (path to file)\r\n",
      "  -d DIRICHLET, --dirichlet DIRICHLET\r\n",
      "                        dirichlet prior parameter\r\n",
      "  -i INIT, --init INIT  init clusters (path to file)\r\n",
      "  -t THREADS, --threads THREADS\r\n",
      "                        number of threads\r\n"
     ]
    }
   ],
   "source": [
    "! python run_cellstate.py --help"
   ]
  },
  {
   "cell_type": "markdown",
   "metadata": {},
   "source": [
    "Additional comments for selected parameters:\n",
    "* `DIRICHLET`: If given, the model is run only with the given parameter, otherwise the parameter will be optimized\n",
    "* `INIT`: Cluster labels should be given in a simple text file separated by line breaks or as a binary .npy file. \n",
    "* `THREADS`: Default is to use all available cores minus one"
   ]
  },
  {
   "cell_type": "markdown",
   "metadata": {},
   "source": [
    "# Python module"
   ]
  },
  {
   "cell_type": "markdown",
   "metadata": {},
   "source": [
    "Some more advanced functionalities of cellstates can currently only be accessed by running cellstates through python or by loading the output files of the commandline tool into python. "
   ]
  },
  {
   "cell_type": "code",
   "execution_count": 1,
   "metadata": {},
   "outputs": [],
   "source": [
    "import cellstates as cs\n",
    "import numpy as np\n",
    "import pandas as pd\n",
    "import matplotlib.pyplot as plt"
   ]
  },
  {
   "cell_type": "code",
   "execution_count": 161,
   "metadata": {},
   "outputs": [
    {
     "data": {
      "text/plain": [
       "(19052, 2298)"
      ]
     },
     "execution_count": 161,
     "metadata": {},
     "output_type": "execute_result"
    }
   ],
   "source": [
    "# load data\n",
    "\n",
    "datafile = './test_data/simulated_data.tsv.zip'\n",
    "df = pd.read_csv(datafile, sep='\\t', index_col=0)\n",
    "\n",
    "data = df.values.astype(np.int)\n",
    "all_genes = df.index.values\n",
    "cells = df.columns.values\n",
    "\n",
    "G, N = data.shape\n",
    "G, N"
   ]
  },
  {
   "cell_type": "markdown",
   "metadata": {},
   "source": [
    "The information about a dataset is stored in a `cs.Cluster` object. "
   ]
  },
  {
   "cell_type": "code",
   "execution_count": 3,
   "metadata": {},
   "outputs": [
    {
     "name": "stdout",
     "output_type": "stream",
     "text": [
      "Help on class Cluster in module cellstates.cluster:\n",
      "\n",
      "class Cluster(builtins.object)\n",
      " |  Object that contains SC expression data, lambda and stores a partition\n",
      " |  \n",
      " |  Parameters\n",
      " |  ----------\n",
      " |  d : 2D array of ints\n",
      " |      UMI count array of shape (N_genes, N_cells)\n",
      " |  l : 1D array or float, default=None\n",
      " |      If array, the pseudo-counts lambda for each gene. Has to be of shape (N_genes, ).\n",
      " |      All entries must be > 0. If float, defines the magnitude of the pseudo-counts,\n",
      " |      but their relative sizes is set by data average. If None, magnitude is chosen\n",
      " |      automatically.\n",
      " |  c : 1D array of ints, default=None\n",
      " |      Cluster labels for each cell. Has to be of shape (N_cells, ).\n",
      " |      Labels must be positive and < N_boxes. If None, every cell is in its own cluster.\n",
      " |  genes : 1D array, optional\n",
      " |      Names of genes; does not have to be set.\n",
      " |  max_clusters : int, default 0\n",
      " |      Maximum number of clusters allowed (acces through item N_boxes).\n",
      " |      if max_clusters=0, N_boxes=N_cells\n",
      " |  num_threads : int, default 4\n",
      " |      Number of threads used in parallel computations.\n",
      " |      Implementation might be unstable.\n",
      " |  n_cache : int, default=100\n",
      " |      Number of lngamma values to store per gene.\n",
      " |      Large values speed up calculations, but use more memory\n",
      " |  \n",
      " |  Returns\n",
      " |  -------\n",
      " |  clst : object of type Cluster\n",
      " |  \n",
      " |  Methods defined here:\n",
      " |  \n",
      " |  __init__(self, /, *args, **kwargs)\n",
      " |      Initialize self.  See help(type(self)) for accurate signature.\n",
      " |  \n",
      " |  __new__(*args, **kwargs) from builtins.type\n",
      " |      Create and return a new object.  See help(type) for accurate signature.\n",
      " |  \n",
      " |  __reduce__ = __reduce_cython__(...)\n",
      " |  \n",
      " |  __setstate__ = __setstate_cython__(...)\n",
      " |  \n",
      " |  biased_monte_carlo_sampling(...)\n",
      " |      Do N_steps steps of Monte-Carlo sampling of partition space where the\n",
      " |      move-set is biased as towards higher likelihood partitions.\n",
      " |      \n",
      " |      Parameters\n",
      " |      ----------\n",
      " |      N_steps : int, default=1\n",
      " |          Number of MCMC steps to run.\n",
      " |      tries_per_step : int, default=1000\n",
      " |          Number of moves proposed per step before RuntimeError is raised.\n",
      " |      N_batch : int, default=0\n",
      " |          Deprecated; Included for backward compatibility; use tries_per_step\n",
      " |          A maximum of 100*N_batch*N_steps moves can be proposed in total\n",
      " |          before a RuntimeError is raised.\n",
      " |      new : bool, default=True\n",
      " |          which method to use to sample partitions uniformly.\n",
      " |      \n",
      " |      Returns\n",
      " |      -------\n",
      " |      None\n",
      " |          The Cluster object is updated to contain a new partition\n",
      " |      \n",
      " |      Raises\n",
      " |      ------\n",
      " |      RuntimeError:\n",
      " |          If too many moves are rejected, a RuntimeError is raised.\n",
      " |  \n",
      " |  combine_two_clusters(...)\n",
      " |      combines two clusters labelled c1 and c2 into one cluster labelled c1.\n",
      " |      \n",
      " |      Parameters\n",
      " |      ----------\n",
      " |      c1, c2 : int\n",
      " |          labels of clusters to combine into one.\n",
      " |          The combined cluster has label c1.\n",
      " |      \n",
      " |      Returns\n",
      " |      -------\n",
      " |      None\n",
      " |          Updates Cluster object\n",
      " |  \n",
      " |  get_best_move(...)\n",
      " |      Find best move for cell m. Returns the best cluster to move m to and\n",
      " |      the associated change in log-likelihood, but does not perform move.\n",
      " |      In case m is already in the optimal cluster, the second best option\n",
      " |      is given (with negative best_delta_LL).\n",
      " |      If an iterable move_to is given, only moves to those clusters will\n",
      " |      be considered.\n",
      " |      \n",
      " |      Parameters\n",
      " |      ----------\n",
      " |      m : int\n",
      " |          cell index\n",
      " |      move_to : iterable of ints, optional\n",
      " |          iterable of all clusters to consider moving cell m to.\n",
      " |          Default is to consider all available clusters.\n",
      " |      \n",
      " |      Returns\n",
      " |      -------\n",
      " |      c_best : int\n",
      " |          cluster to which cell was moved\n",
      " |      best_delta_LL : flaot\n",
      " |          change in total log-likelihood associated with move\n",
      " |  \n",
      " |  get_cluster_hierarchy(...)\n",
      " |      Function to get complete hierarchical tree of cluster similarities.\n",
      " |      Unlike merge_clusters, it does not change the state of the Cluster\n",
      " |      object.\n",
      " |      \n",
      " |      Returns\n",
      " |      -------\n",
      " |      hierarchy : list of tuples\n",
      " |          List of order in which clusters were merged\n",
      " |      delta_LL_history : list of floats\n",
      " |          List of change in log-likelihood associated with each merging step.\n",
      " |  \n",
      " |  get_expressionstate(...)\n",
      " |      Get modal expression state vector of cluster c.\n",
      " |      \n",
      " |      Parameters\n",
      " |      ----------\n",
      " |      c : int\n",
      " |          cluster index\n",
      " |      \n",
      " |      Returns\n",
      " |      -------\n",
      " |      f : array of floats\n",
      " |          modal gene expression state vector\n",
      " |      \n",
      " |      Raises\n",
      " |      ------\n",
      " |      ValueError\n",
      " |          When c is an empty cluster\n",
      " |  \n",
      " |  get_expressionstate_mv(...)\n",
      " |      Get mean and variance of expression state vector\n",
      " |      They are calculated independently for each gene and hence does not\n",
      " |      add up to 1.\n",
      " |      \n",
      " |      Parameters\n",
      " |      ----------\n",
      " |      c : int\n",
      " |          cluster index\n",
      " |      \n",
      " |      Returns\n",
      " |      -------\n",
      " |      f : array of floats\n",
      " |          mean gene expression state vector\n",
      " |      var_f : array of floats\n",
      " |          predicted variance of each gene\n",
      " |      \n",
      " |      Raises\n",
      " |      ------\n",
      " |          ValueError\n",
      " |              When c is an empty cluster\n",
      " |  \n",
      " |  merge_clusters(...)\n",
      " |      Method to do hierarchical merging of clusters. Default settings stop\n",
      " |      when optimum log-likelihood is reached.\n",
      " |      \n",
      " |      Parameters\n",
      " |      ----------\n",
      " |      LL_threshold : float, default=0.\n",
      " |          Threshold by how much log-likelihood must change to merge clusters.\n",
      " |          If LL_threshold < 0, we also consider moves that reduce total LL.\n",
      " |          If LL_threshold = -np.if, clusters will be merged until\n",
      " |          n_clusters_threshold is reached.\n",
      " |      n_clusters_threshold : int, default=1\n",
      " |          Minimum number of clusters allowed after merging. Must be > 0\n",
      " |      \n",
      " |      Returns\n",
      " |      -------\n",
      " |      hierarchy : list of tuples\n",
      " |          List of order in which clusters were merged\n",
      " |      delta_LL_history : list of floats\n",
      " |          List of change in log-likelihood associated with each merging step.\n",
      " |      \n",
      " |      Raises\n",
      " |      ------\n",
      " |      ValueError\n",
      " |          When n_cluster_threshold < 1\n",
      " |  \n",
      " |  move_cell(...)\n",
      " |      move cell m into cluster c_new\n",
      " |      \n",
      " |      Parameters\n",
      " |      ----------\n",
      " |      m : int\n",
      " |          index of cell to move\n",
      " |      c_new : int\n",
      " |          index of cluster to move cell into\n",
      " |  \n",
      " |  optimal_move(...)\n",
      " |      Move cell m to its best cluster. Returns the new cluster of m.\n",
      " |      If an iterable move_to is given, only moves to those clusters will\n",
      " |      be considered.\n",
      " |      \n",
      " |      Parameters\n",
      " |      ----------\n",
      " |      m : int\n",
      " |          cell index\n",
      " |      move_to : iterable, optional\n",
      " |          iterable of all clusters to consider moving cell m to.\n",
      " |          Default is to consider all available clusters.\n",
      " |      \n",
      " |      Returns\n",
      " |      -------\n",
      " |      c_best : int\n",
      " |          cluster to which cell was moved\n",
      " |  \n",
      " |  optimize_clusters(...)\n",
      " |      Method to optimize current partition without further MCMC steps.\n",
      " |      Clusters are first optimally merged then individual cells are moved\n",
      " |      to their optimal cluster.\n",
      " |      Cluster labels and N_boxes may change in the process.\n",
      " |      \n",
      " |      Parameters\n",
      " |      ----------\n",
      " |      merge_clusters : bool, default=True\n",
      " |          whether to include the cluster-merging step\n",
      " |      optimize_cells : bool, default=True\n",
      " |          whether to include the cell-moving step\n",
      " |      optimize_simple : bool, default=True\n",
      " |          If True, every cell's position is optimized once.\n",
      " |          If False, several rounds of optimization are performed.\n",
      " |      set_N_boxes : bool, default = True\n",
      " |          whether to allow N_boxes to be changed\n",
      " |  \n",
      " |  set_N_boxes(...)\n",
      " |      change possible number of clusters.\n",
      " |      clusters in Cluster object are automatically relabelled from 0 to\n",
      " |      (n_clusters-1) and mapping is returned\n",
      " |      \n",
      " |      Parameters\n",
      " |      ----------\n",
      " |      Nb_new : int\n",
      " |          New maximum number of clusters allowed.\n",
      " |      \n",
      " |      Returns\n",
      " |      -------\n",
      " |      mapping : dict\n",
      " |          Dictionary mapping old cluster labels to new ones.\n",
      " |          mapping[i_new] = i_old where i_new is the new label for cluster\n",
      " |          i_old\n",
      " |  \n",
      " |  ----------------------------------------------------------------------\n",
      " |  Data descriptors defined here:\n",
      " |  \n",
      " |  G\n",
      " |  \n",
      " |  N_boxes\n",
      " |  \n",
      " |  N_samples\n",
      " |  \n",
      " |  cluster_sizes\n",
      " |      array of cluster sizes\n",
      " |  \n",
      " |  cluster_umi_counts\n",
      " |      array of total UMI counts per gene in each cluster\n",
      " |  \n",
      " |  cluster_umi_sum\n",
      " |      array of total UMI counts in each cluster\n",
      " |  \n",
      " |  clusters\n",
      " |      array specifying clusters.\n",
      " |      clusters[i] = j means cell i is in cluster j\n",
      " |  \n",
      " |  dirichlet_pseudocounts\n",
      " |      array of dirichlet prior pseudocounts\n",
      " |  \n",
      " |  genes\n",
      " |      numpy array of gene names\n",
      " |  \n",
      " |  likelihood\n",
      " |      array of log-likelihoods for every cluster\n",
      " |  \n",
      " |  n_clusters\n",
      " |      number of clusters\n",
      " |  \n",
      " |  total_likelihood\n",
      " |      total log-likelihood of partition\n",
      " |  \n",
      " |  umi_data\n",
      " |      numpy array of UMI counts\n",
      " |  \n",
      " |  ----------------------------------------------------------------------\n",
      " |  Data and other attributes defined here:\n",
      " |  \n",
      " |  __pyx_vtable__ = <capsule object NULL>\n",
      "\n"
     ]
    }
   ],
   "source": [
    "help(cs.Cluster)"
   ]
  },
  {
   "cell_type": "code",
   "execution_count": 4,
   "metadata": {},
   "outputs": [],
   "source": [
    "# creating a new object with default settings\n",
    "clst = cs.Cluster(data)"
   ]
  },
  {
   "cell_type": "markdown",
   "metadata": {},
   "source": [
    "The object stores a partition of the cells into cellstates (accessed through `clst.clusters`). By default, each cell is in its own cellstate."
   ]
  },
  {
   "cell_type": "code",
   "execution_count": 5,
   "metadata": {},
   "outputs": [
    {
     "data": {
      "text/plain": [
       "array([   0,    1,    2, ..., 2295, 2296, 2297])"
      ]
     },
     "execution_count": 5,
     "metadata": {},
     "output_type": "execute_result"
    }
   ],
   "source": [
    "clst.clusters"
   ]
  },
  {
   "cell_type": "markdown",
   "metadata": {},
   "source": [
    "## Optimization of partition\n",
    "**NOTE:** The full optimization of both the partition and the prior is currently only implemented in the commandline tool. Only optimize the partition through python if you understand the mathematical model. "
   ]
  },
  {
   "cell_type": "markdown",
   "metadata": {},
   "source": [
    "The aim is to find the partition that maximises the log-likelihood of our model. \n",
    "The mathematical model has three inputs: The data, the partition and a set of prior parameters (automatically chosen by default and accessed through `clst.dirichlet_pseudocounts`) and returns a likelihood.\n",
    "Thus, changing the partition changes the likelihood."
   ]
  },
  {
   "cell_type": "code",
   "execution_count": 6,
   "metadata": {},
   "outputs": [
    {
     "name": "stdout",
     "output_type": "stream",
     "text": [
      "-83483186.21598381\n"
     ]
    }
   ],
   "source": [
    "clst = cs.Cluster(data)\n",
    "print(clst.total_likelihood)"
   ]
  },
  {
   "cell_type": "code",
   "execution_count": 9,
   "metadata": {},
   "outputs": [
    {
     "name": "stdout",
     "output_type": "stream",
     "text": [
      "[   1    1    2 ... 2295 2296 2297]\n",
      "-83483068.42137295\n"
     ]
    }
   ],
   "source": [
    "clst.move_cell(0, 1) # move cell 0 into cluster 1\n",
    "print(clst.clusters)\n",
    "print(clst.total_likelihood) # likelihood changed"
   ]
  },
  {
   "cell_type": "markdown",
   "metadata": {},
   "source": [
    "To efficiently optimize the likelihood, we need to initialize the `cs.Cluster` object with multiple threads and a large cache.  "
   ]
  },
  {
   "cell_type": "code",
   "execution_count": 12,
   "metadata": {},
   "outputs": [],
   "source": [
    "clst = cs.Cluster(data, num_threads=8, n_cache=1000)"
   ]
  },
  {
   "cell_type": "markdown",
   "metadata": {},
   "source": [
    "An Markov-chain Monte Carlo algorithm is used to optimize likelihood as a function of the partition. This will change the partition and the likelihood."
   ]
  },
  {
   "cell_type": "code",
   "execution_count": 13,
   "metadata": {},
   "outputs": [],
   "source": [
    "clst.biased_monte_carlo_sampling(N_steps=500, tries_per_step=100)"
   ]
  },
  {
   "cell_type": "code",
   "execution_count": 15,
   "metadata": {},
   "outputs": [
    {
     "name": "stdout",
     "output_type": "stream",
     "text": [
      "[11  1  2 38  4  5  7  7  8  9]\n"
     ]
    },
    {
     "data": {
      "text/plain": [
       "-83414230.75218931"
      ]
     },
     "execution_count": 15,
     "metadata": {},
     "output_type": "execute_result"
    }
   ],
   "source": [
    "print(clst.clusters[:10])\n",
    "clst.total_likelihood"
   ]
  },
  {
   "cell_type": "markdown",
   "metadata": {},
   "source": [
    "For the full optimization run, the sampling is repeatedly called. At the end, there are also deterministic optimization steps (merging clusters, moving cells into their optimal cluster)"
   ]
  },
  {
   "cell_type": "code",
   "execution_count": 16,
   "metadata": {},
   "outputs": [
    {
     "name": "stderr",
     "output_type": "stream",
     "text": [
      "2020-04-08 01:34:10,277 - INFO:initially check output every 100 steps\n",
      "2020-04-08 01:34:10,279 - INFO:n_clusters=1952, total likelihood=-83414230.75218931\n",
      "2020-04-08 01:34:13,840 - INFO:n_clusters=1912, total likelihood=-83397932.39926681\n",
      "2020-04-08 01:34:16,953 - INFO:n_clusters=1860, total likelihood=-83377156.09167968\n",
      "2020-04-08 01:34:20,559 - INFO:n_clusters=1816, total likelihood=-83358029.69227916\n",
      "2020-04-08 01:34:24,014 - INFO:n_clusters=1766, total likelihood=-83337410.67785498\n",
      "2020-04-08 01:34:28,969 - INFO:n_clusters=1720, total likelihood=-83319426.64833075\n",
      "2020-04-08 01:34:33,436 - INFO:n_clusters=1658, total likelihood=-83294878.93906307\n",
      "2020-04-08 01:34:37,211 - INFO:n_clusters=1606, total likelihood=-83269463.97425419\n",
      "2020-04-08 01:34:41,517 - INFO:n_clusters=1553, total likelihood=-83240605.10355274\n",
      "2020-04-08 01:34:46,009 - INFO:n_clusters=1500, total likelihood=-83214807.97799055\n",
      "2020-04-08 01:34:50,294 - INFO:n_clusters=1448, total likelihood=-83184136.50102948\n",
      "2020-04-08 01:34:54,804 - INFO:n_clusters=1392, total likelihood=-83154193.80321914\n",
      "2020-04-08 01:34:59,567 - INFO:n_clusters=1345, total likelihood=-83118972.75403039\n",
      "2020-04-08 01:35:03,942 - INFO:n_clusters=1281, total likelihood=-83077564.07670535\n",
      "2020-04-08 01:35:07,395 - INFO:n_clusters=1221, total likelihood=-83040831.94380033\n",
      "2020-04-08 01:35:11,407 - INFO:n_clusters=1157, total likelihood=-83007174.79898904\n",
      "2020-04-08 01:35:15,848 - INFO:n_clusters=1105, total likelihood=-82977901.45015581\n",
      "2020-04-08 01:35:19,993 - INFO:n_clusters=1058, total likelihood=-82946735.87580773\n",
      "2020-04-08 01:35:24,258 - INFO:n_clusters=1006, total likelihood=-82914883.32118866\n",
      "2020-04-08 01:35:28,270 - INFO:n_clusters=956, total likelihood=-82884572.46874279\n",
      "2020-04-08 01:35:32,662 - INFO:n_clusters=916, total likelihood=-82855168.97938041\n",
      "2020-04-08 01:35:36,485 - INFO:n_clusters=875, total likelihood=-82824267.04286034\n",
      "2020-04-08 01:35:40,798 - INFO:n_clusters=825, total likelihood=-82789158.60398331\n",
      "2020-04-08 01:35:45,569 - INFO:n_clusters=772, total likelihood=-82752614.6511932\n",
      "2020-04-08 01:35:49,633 - INFO:n_clusters=720, total likelihood=-82711472.3355637\n",
      "2020-04-08 01:35:54,033 - INFO:n_clusters=685, total likelihood=-82680023.29612595\n",
      "2020-04-08 01:35:58,176 - INFO:n_clusters=641, total likelihood=-82646852.92558268\n",
      "2020-04-08 01:36:02,343 - INFO:n_clusters=612, total likelihood=-82625098.96789907\n",
      "2020-04-08 01:36:06,195 - INFO:n_clusters=573, total likelihood=-82587881.41529745\n",
      "2020-04-08 01:36:09,370 - INFO:n_clusters=540, total likelihood=-82557195.88114677\n",
      "2020-04-08 01:36:12,901 - INFO:n_clusters=497, total likelihood=-82523522.67981386\n",
      "2020-04-08 01:36:15,869 - INFO:n_clusters=462, total likelihood=-82493329.3089187\n",
      "2020-04-08 01:36:18,844 - INFO:n_clusters=430, total likelihood=-82457236.59639072\n",
      "2020-04-08 01:36:22,286 - INFO:n_clusters=409, total likelihood=-82428707.94516684\n",
      "2020-04-08 01:36:25,837 - INFO:n_clusters=372, total likelihood=-82395827.48760518\n",
      "2020-04-08 01:36:29,224 - INFO:n_clusters=340, total likelihood=-82355828.9336263\n",
      "2020-04-08 01:36:32,551 - INFO:n_clusters=321, total likelihood=-82330982.71295549\n",
      "2020-04-08 01:36:36,075 - INFO:n_clusters=294, total likelihood=-82301648.68322857\n",
      "2020-04-08 01:36:39,277 - INFO:n_clusters=276, total likelihood=-82275216.94046581\n",
      "2020-04-08 01:36:41,998 - INFO:n_clusters=260, total likelihood=-82254126.94471772\n",
      "2020-04-08 01:36:44,691 - INFO:n_clusters=239, total likelihood=-82229783.99997793\n",
      "2020-04-08 01:36:47,956 - INFO:n_clusters=218, total likelihood=-82202816.3111111\n",
      "2020-04-08 01:36:50,836 - INFO:n_clusters=205, total likelihood=-82172041.74566239\n",
      "2020-04-08 01:36:53,906 - INFO:n_clusters=194, total likelihood=-82152570.51497209\n",
      "2020-04-08 01:36:56,651 - INFO:n_clusters=182, total likelihood=-82130603.59987788\n",
      "2020-04-08 01:36:59,589 - INFO:n_clusters=169, total likelihood=-82109302.37143326\n",
      "2020-04-08 01:37:02,770 - INFO:n_clusters=159, total likelihood=-82087235.43339919\n",
      "2020-04-08 01:37:05,598 - INFO:n_clusters=142, total likelihood=-82058020.87637135\n",
      "2020-04-08 01:37:08,434 - INFO:n_clusters=133, total likelihood=-82032952.77779451\n",
      "2020-04-08 01:37:10,836 - INFO:n_clusters=118, total likelihood=-82001716.63470586\n",
      "2020-04-08 01:37:13,901 - INFO:n_clusters=112, total likelihood=-81978036.70340982\n",
      "2020-04-08 01:37:16,347 - INFO:n_clusters=105, total likelihood=-81953611.52105072\n",
      "2020-04-08 01:37:18,725 - INFO:n_clusters=96, total likelihood=-81927361.75950584\n",
      "2020-04-08 01:37:21,164 - INFO:n_clusters=85, total likelihood=-81903315.95676982\n",
      "2020-04-08 01:37:23,558 - INFO:n_clusters=78, total likelihood=-81879868.19730695\n",
      "2020-04-08 01:37:26,081 - INFO:n_clusters=69, total likelihood=-81856521.25041977\n",
      "2020-04-08 01:37:28,499 - INFO:n_clusters=65, total likelihood=-81835511.61637488\n",
      "2020-04-08 01:37:30,702 - INFO:n_clusters=58, total likelihood=-81813663.17672831\n",
      "2020-04-08 01:37:33,285 - INFO:n_clusters=58, total likelihood=-81796461.16641393\n",
      "2020-04-08 01:37:35,235 - INFO:n_clusters=56, total likelihood=-81771290.7887342\n",
      "2020-04-08 01:37:38,461 - INFO:n_clusters=50, total likelihood=-81750327.05772069\n",
      "2020-04-08 01:37:41,350 - INFO:n_clusters=46, total likelihood=-81731961.07500045\n",
      "2020-04-08 01:37:44,201 - INFO:n_clusters=44, total likelihood=-81712795.54949215\n",
      "2020-04-08 01:37:47,479 - INFO:n_clusters=35, total likelihood=-81682666.62377493\n",
      "2020-04-08 01:37:50,710 - INFO:n_clusters=34, total likelihood=-81654323.86788413\n",
      "2020-04-08 01:37:54,980 - INFO:n_clusters=29, total likelihood=-81626530.85279469\n",
      "2020-04-08 01:37:58,663 - INFO:n_clusters=29, total likelihood=-81603501.92726631\n",
      "2020-04-08 01:38:03,097 - INFO:n_clusters=29, total likelihood=-81573563.16891481\n",
      "2020-04-08 01:38:10,354 - INFO:n_clusters=24, total likelihood=-81536472.07097733\n",
      "2020-04-08 01:38:23,677 - INFO:n_clusters=23, total likelihood=-81479430.70734961\n",
      "2020-04-08 01:38:42,565 - WARNING:Only 38 moves found within loop limit.Consider raising tries_per_step\n",
      "2020-04-08 01:38:42,567 - INFO:changed tries_per_step to 10000 and N_steps to 10\n",
      "2020-04-08 01:38:42,568 - INFO:n_clusters=12, total likelihood=-81462123.48862235\n",
      "2020-04-08 01:39:01,235 - WARNING:Only 3 moves found within loop limit.Consider raising tries_per_step\n",
      "2020-04-08 01:39:01,237 - INFO:MCMC converges, little further improvement expected\n",
      "2020-04-08 01:39:01,238 - INFO:n_clusters=10, total likelihood=-81459020.41958956\n",
      "2020-04-08 01:39:01,239 - INFO:optimize clusters.\n",
      "2020-04-08 01:39:04,599 - INFO:end of clustering\n"
     ]
    }
   ],
   "source": [
    "cs.run_mcmc(clst, N_steps=100)"
   ]
  },
  {
   "cell_type": "code",
   "execution_count": 17,
   "metadata": {},
   "outputs": [
    {
     "name": "stdout",
     "output_type": "stream",
     "text": [
      "-81457510.71362098\n",
      "9\n"
     ]
    }
   ],
   "source": [
    "print(clst.total_likelihood)\n",
    "print(clst.n_clusters)"
   ]
  },
  {
   "cell_type": "markdown",
   "metadata": {},
   "source": [
    "comparison to true cluster labels shows a slight disagreement"
   ]
  },
  {
   "cell_type": "code",
   "execution_count": 18,
   "metadata": {},
   "outputs": [
    {
     "data": {
      "text/plain": [
       "0.9811421746094137"
      ]
     },
     "execution_count": 18,
     "metadata": {},
     "output_type": "execute_result"
    }
   ],
   "source": [
    "from sklearn.metrics import adjusted_rand_score\n",
    "sim_clusters = np.loadtxt('./test_data/simulated_clusters.txt', dtype=int)\n",
    "adjusted_rand_score(sim_clusters, clst.clusters)"
   ]
  },
  {
   "cell_type": "markdown",
   "metadata": {},
   "source": [
    "However, when we calculate the likelihood of the true clusters, we see that it is actually smaller. This can one of means that under the current prior, the data is insufficient to resolve two of the simulated cellstates. However, with a different prior we might get a higher likelihood and sufficient resolution. \n"
   ]
  },
  {
   "cell_type": "code",
   "execution_count": 21,
   "metadata": {},
   "outputs": [
    {
     "data": {
      "text/plain": [
       "-81458341.62652262"
      ]
     },
     "execution_count": 21,
     "metadata": {},
     "output_type": "execute_result"
    }
   ],
   "source": [
    "# Find likelihood of true partition with current \n",
    "sim_clst = cs.Cluster(data, c=sim_clusters)\n",
    "sim_clst.total_likelihood"
   ]
  },
  {
   "cell_type": "markdown",
   "metadata": {},
   "source": [
    "## Analysing the model outputs"
   ]
  },
  {
   "cell_type": "code",
   "execution_count": 40,
   "metadata": {},
   "outputs": [],
   "source": [
    "# build cs.Cluster object from model outputs\n",
    "prior = np.loadtxt('./test_results/dirichlet_pseudocounts.txt')\n",
    "clusters = np.loadtxt('./test_results/optimized_clusters.txt', dtype=np.int)\n",
    "gene_filter = np.any(data, axis=1)  # need to filter out non-expressed genes\n",
    "genes = all_genes[gene_filter]\n",
    "clst = cs.Cluster(data[gene_filter, :], prior, clusters)"
   ]
  },
  {
   "cell_type": "markdown",
   "metadata": {},
   "source": [
    "Basic statistics like cluster sizes can easily be checked"
   ]
  },
  {
   "cell_type": "code",
   "execution_count": 39,
   "metadata": {},
   "outputs": [
    {
     "name": "stdout",
     "output_type": "stream",
     "text": [
      "10\n"
     ]
    },
    {
     "data": {
      "text/plain": [
       "array([ 41, 138, 118,  28, 200, 836, 109, 255, 457, 116])"
      ]
     },
     "execution_count": 39,
     "metadata": {},
     "output_type": "execute_result"
    }
   ],
   "source": [
    "print(clst.n_clusters)  # number of cellstates\n",
    "clst.cluster_sizes[:10]"
   ]
  },
  {
   "cell_type": "code",
   "execution_count": 81,
   "metadata": {},
   "outputs": [
    {
     "data": {
      "text/plain": [
       "array([0.0471236 , 0.03330016, 0.00966126, 0.0087808 , 0.00627348,\n",
       "       0.00327353, 0.00297444, 0.00198459, 0.00142925, 0.00120155,\n",
       "       0.00108139, 0.00087488, 0.00085363, 0.00084833, 0.0008472 ,\n",
       "       0.00084176])"
      ]
     },
     "execution_count": 81,
     "metadata": {},
     "output_type": "execute_result"
    }
   ],
   "source": [
    "# perform PCA for visualization\n",
    "from sklearn.decomposition import PCA\n",
    "\n",
    "tpm_data = 1E6*data/data.sum(axis=0)\n",
    "X = np.log2(tpm_data + 1).T\n",
    "pca = PCA(n_components=16)\n",
    "pca.fit(X)\n",
    "X_pca = pca.transform(X)\n",
    "\n",
    "pca.explained_variance_ratio_"
   ]
  },
  {
   "cell_type": "code",
   "execution_count": 82,
   "metadata": {},
   "outputs": [
    {
     "data": {
      "text/plain": [
       "(<Figure size 720x360 with 2 Axes>,\n",
       " array([<matplotlib.axes._subplots.AxesSubplot object at 0x7fa17c928b70>,\n",
       "        <matplotlib.axes._subplots.AxesSubplot object at 0x7fa17c950ba8>],\n",
       "       dtype=object))"
      ]
     },
     "execution_count": 82,
     "metadata": {},
     "output_type": "execute_result"
    },
    {
     "data": {
      "image/png": "[encoded data removed]",
      "text/plain": [
       "<Figure size 720x360 with 2 Axes>"
      ]
     },
     "metadata": {
      "needs_background": "light"
     },
     "output_type": "display_data"
    }
   ],
   "source": [
    "from cycler import cycler\n",
    "import matplotlib\n",
    "def plot_pca(clusters, pc=None):\n",
    "    cluster_names = np.unique(clusters)\n",
    "    n_c = len(cluster_names)\n",
    "    colors = plt.cm.hsv(np.linspace(0, 1, n_c+1))\n",
    "    matplotlib.rcParams['axes.prop_cycle'] = cycler(color=colors)\n",
    "    \n",
    "    fig, axs = plt.subplots(1, 2, figsize=(10,5))\n",
    "    \n",
    "    for i, ax in enumerate(axs.flatten()):\n",
    "\n",
    "        if pc is None:\n",
    "            j1 = 2*i+0\n",
    "            j2 = 2*i+1\n",
    "        else:\n",
    "            j1 = pc[2*i] - 1\n",
    "            j2 = pc[2*i+1] - 1\n",
    "        \n",
    "        x = X_pca[:, j1]\n",
    "        y = X_pca[:, j2]\n",
    "        for c in cluster_names:\n",
    "            cond = clusters==c\n",
    "            ax.plot(x[cond], y[cond], '.', ms=3, label=c)\n",
    "\n",
    "\n",
    "        ax.set_xlabel('PC {}'.format(j1+1))\n",
    "\n",
    "        ax.set_ylabel('PC {}'.format(j2+1))\n",
    "    l = plt.legend(ncol=1)\n",
    "    l.set_bbox_to_anchor([1.3, 1])\n",
    "    \n",
    "    return fig, axs\n",
    "plot_pca(clst.clusters)"
   ]
  },
  {
   "cell_type": "markdown",
   "metadata": {},
   "source": [
    "### Hierarchical merging of clusters\n",
    "* in every step we are looking for the two clusters that when merged result in the smallest change in LL"
   ]
  },
  {
   "cell_type": "code",
   "execution_count": 26,
   "metadata": {},
   "outputs": [
    {
     "name": "stdout",
     "output_type": "stream",
     "text": [
      "[(1, 2), (1, 3), (0, 6), (4, 9), (4, 8), (0, 7), (0, 1), (4, 5), (0, 4)]\n",
      "[-3115.865835720673, -31243.48483569175, -35013.31615561992, -73835.62327904627, -122084.78261580318, -130306.56701968424, -263133.4075333476, -419831.88582114875, -1076261.123359993]\n"
     ]
    },
    {
     "data": {
      "text/html": [
       "<div>\n",
       "<style scoped>\n",
       "    .dataframe tbody tr th:only-of-type {\n",
       "        vertical-align: middle;\n",
       "    }\n",
       "\n",
       "    .dataframe tbody tr th {\n",
       "        vertical-align: top;\n",
       "    }\n",
       "\n",
       "    .dataframe thead th {\n",
       "        text-align: right;\n",
       "    }\n",
       "</style>\n",
       "<table border=\"1\" class=\"dataframe\">\n",
       "  <thead>\n",
       "    <tr style=\"text-align: right;\">\n",
       "      <th></th>\n",
       "      <th>cluster_new</th>\n",
       "      <th>cluster_old</th>\n",
       "      <th>delta_LL</th>\n",
       "    </tr>\n",
       "  </thead>\n",
       "  <tbody>\n",
       "    <tr>\n",
       "      <th>0</th>\n",
       "      <td>1</td>\n",
       "      <td>2</td>\n",
       "      <td>-3.115866e+03</td>\n",
       "    </tr>\n",
       "    <tr>\n",
       "      <th>1</th>\n",
       "      <td>1</td>\n",
       "      <td>3</td>\n",
       "      <td>-3.124348e+04</td>\n",
       "    </tr>\n",
       "    <tr>\n",
       "      <th>2</th>\n",
       "      <td>0</td>\n",
       "      <td>6</td>\n",
       "      <td>-3.501332e+04</td>\n",
       "    </tr>\n",
       "    <tr>\n",
       "      <th>3</th>\n",
       "      <td>4</td>\n",
       "      <td>9</td>\n",
       "      <td>-7.383562e+04</td>\n",
       "    </tr>\n",
       "    <tr>\n",
       "      <th>4</th>\n",
       "      <td>4</td>\n",
       "      <td>8</td>\n",
       "      <td>-1.220848e+05</td>\n",
       "    </tr>\n",
       "    <tr>\n",
       "      <th>5</th>\n",
       "      <td>0</td>\n",
       "      <td>7</td>\n",
       "      <td>-1.303066e+05</td>\n",
       "    </tr>\n",
       "    <tr>\n",
       "      <th>6</th>\n",
       "      <td>0</td>\n",
       "      <td>1</td>\n",
       "      <td>-2.631334e+05</td>\n",
       "    </tr>\n",
       "    <tr>\n",
       "      <th>7</th>\n",
       "      <td>4</td>\n",
       "      <td>5</td>\n",
       "      <td>-4.198319e+05</td>\n",
       "    </tr>\n",
       "    <tr>\n",
       "      <th>8</th>\n",
       "      <td>0</td>\n",
       "      <td>4</td>\n",
       "      <td>-1.076261e+06</td>\n",
       "    </tr>\n",
       "  </tbody>\n",
       "</table>\n",
       "</div>"
      ],
      "text/plain": [
       "  cluster_new cluster_old      delta_LL\n",
       "0           1           2 -3.115866e+03\n",
       "1           1           3 -3.124348e+04\n",
       "2           0           6 -3.501332e+04\n",
       "3           4           9 -7.383562e+04\n",
       "4           4           8 -1.220848e+05\n",
       "5           0           7 -1.303066e+05\n",
       "6           0           1 -2.631334e+05\n",
       "7           4           5 -4.198319e+05\n",
       "8           0           4 -1.076261e+06"
      ]
     },
     "execution_count": 26,
     "metadata": {},
     "output_type": "execute_result"
    }
   ],
   "source": [
    "# The code below shows how to get the cluster hierarchy from a Cluster object\n",
    "# this is not necessary if you ran the command line tool\n",
    "cluster_hierarchy, delta_LL_history = clst.get_cluster_hierarchy()\n",
    "\n",
    "print(cluster_hierarchy)\n",
    "print(delta_LL_history)\n",
    "hierarchy_df = cs.get_hierarchy_df(cluster_hierarchy, delta_LL_history)\n",
    "hierarchy_df"
   ]
  },
  {
   "cell_type": "code",
   "execution_count": 57,
   "metadata": {},
   "outputs": [
    {
     "data": {
      "text/html": [
       "<div>\n",
       "<style scoped>\n",
       "    .dataframe tbody tr th:only-of-type {\n",
       "        vertical-align: middle;\n",
       "    }\n",
       "\n",
       "    .dataframe tbody tr th {\n",
       "        vertical-align: top;\n",
       "    }\n",
       "\n",
       "    .dataframe thead th {\n",
       "        text-align: right;\n",
       "    }\n",
       "</style>\n",
       "<table border=\"1\" class=\"dataframe\">\n",
       "  <thead>\n",
       "    <tr style=\"text-align: right;\">\n",
       "      <th></th>\n",
       "      <th>cluster_new</th>\n",
       "      <th>cluster_old</th>\n",
       "      <th>delta_LL</th>\n",
       "    </tr>\n",
       "  </thead>\n",
       "  <tbody>\n",
       "    <tr>\n",
       "      <th>0</th>\n",
       "      <td>1</td>\n",
       "      <td>2</td>\n",
       "      <td>-2.799456e+03</td>\n",
       "    </tr>\n",
       "    <tr>\n",
       "      <th>1</th>\n",
       "      <td>1</td>\n",
       "      <td>3</td>\n",
       "      <td>-2.517581e+04</td>\n",
       "    </tr>\n",
       "    <tr>\n",
       "      <th>2</th>\n",
       "      <td>0</td>\n",
       "      <td>6</td>\n",
       "      <td>-3.356393e+04</td>\n",
       "    </tr>\n",
       "    <tr>\n",
       "      <th>3</th>\n",
       "      <td>4</td>\n",
       "      <td>9</td>\n",
       "      <td>-7.918575e+04</td>\n",
       "    </tr>\n",
       "    <tr>\n",
       "      <th>4</th>\n",
       "      <td>4</td>\n",
       "      <td>8</td>\n",
       "      <td>-1.304314e+05</td>\n",
       "    </tr>\n",
       "    <tr>\n",
       "      <th>5</th>\n",
       "      <td>0</td>\n",
       "      <td>7</td>\n",
       "      <td>-1.309473e+05</td>\n",
       "    </tr>\n",
       "    <tr>\n",
       "      <th>6</th>\n",
       "      <td>0</td>\n",
       "      <td>1</td>\n",
       "      <td>-2.654589e+05</td>\n",
       "    </tr>\n",
       "    <tr>\n",
       "      <th>7</th>\n",
       "      <td>4</td>\n",
       "      <td>5</td>\n",
       "      <td>-4.291468e+05</td>\n",
       "    </tr>\n",
       "    <tr>\n",
       "      <th>8</th>\n",
       "      <td>0</td>\n",
       "      <td>4</td>\n",
       "      <td>-1.083290e+06</td>\n",
       "    </tr>\n",
       "  </tbody>\n",
       "</table>\n",
       "</div>"
      ],
      "text/plain": [
       "   cluster_new  cluster_old      delta_LL\n",
       "0            1            2 -2.799456e+03\n",
       "1            1            3 -2.517581e+04\n",
       "2            0            6 -3.356393e+04\n",
       "3            4            9 -7.918575e+04\n",
       "4            4            8 -1.304314e+05\n",
       "5            0            7 -1.309473e+05\n",
       "6            0            1 -2.654589e+05\n",
       "7            4            5 -4.291468e+05\n",
       "8            0            4 -1.083290e+06"
      ]
     },
     "execution_count": 57,
     "metadata": {},
     "output_type": "execute_result"
    }
   ],
   "source": [
    "# to load the same results from the command line tool output run\n",
    "hierarchy_df = pd.read_csv('./test_results/cluster_hierarchy.tsv', sep='\\t')\n",
    "hierarchy_df"
   ]
  },
  {
   "cell_type": "markdown",
   "metadata": {},
   "source": [
    "The module contains functions that can transform these trees into **other formats**:\n",
    "* scipy linkage matrix: \n",
    "    * integrated into python\n",
    "    * only allows one leaf per cluster\n",
    "    * only positive distances allowed\n",
    "    \n",
    "* Newick format\n",
    "    * widely used for phylogenetic trees with plotting libraries available\n",
    "    * allows for one leaf per cell\n",
    "    * only positive distances allowed in plotting tool I use"
   ]
  },
  {
   "cell_type": "code",
   "execution_count": 31,
   "metadata": {},
   "outputs": [
    {
     "data": {
      "text/plain": [
       "array([[1.00000000e+00, 2.00000000e+00, 2.79945610e+03, 2.00000000e+00],\n",
       "       [3.00000000e+00, 1.00000000e+01, 2.51758050e+04, 3.00000000e+00],\n",
       "       [0.00000000e+00, 6.00000000e+00, 3.35639309e+04, 2.00000000e+00],\n",
       "       [4.00000000e+00, 9.00000000e+00, 7.91857547e+04, 2.00000000e+00],\n",
       "       [8.00000000e+00, 1.30000000e+01, 1.30431418e+05, 3.00000000e+00],\n",
       "       [7.00000000e+00, 1.20000000e+01, 1.30947264e+05, 3.00000000e+00],\n",
       "       [1.10000000e+01, 1.50000000e+01, 2.65458853e+05, 6.00000000e+00],\n",
       "       [5.00000000e+00, 1.40000000e+01, 4.29146760e+05, 4.00000000e+00],\n",
       "       [1.60000000e+01, 1.70000000e+01, 1.08329042e+06, 1.00000000e+01]])"
      ]
     },
     "execution_count": 31,
     "metadata": {},
     "output_type": "execute_result"
    }
   ],
   "source": [
    "# scipy linkage matrix\n",
    "Z = cs.get_scipy_hierarchy(hierarchy_df)\n",
    "Z"
   ]
  },
  {
   "cell_type": "code",
   "execution_count": 32,
   "metadata": {
    "scrolled": true
   },
   "outputs": [
    {
     "data": {
      "text/plain": [
       "(<Figure size 648x432 with 1 Axes>,\n",
       " <matplotlib.axes._subplots.AxesSubplot at 0x7fa1896a37b8>,\n",
       " {'icoord': [[15.0, 15.0, 25.0, 25.0],\n",
       "   [5.0, 5.0, 20.0, 20.0],\n",
       "   [45.0, 45.0, 55.0, 55.0],\n",
       "   [35.0, 35.0, 50.0, 50.0],\n",
       "   [12.5, 12.5, 42.5, 42.5],\n",
       "   [85.0, 85.0, 95.0, 95.0],\n",
       "   [75.0, 75.0, 90.0, 90.0],\n",
       "   [65.0, 65.0, 82.5, 82.5],\n",
       "   [27.5, 27.5, 73.75, 73.75]],\n",
       "  'dcoord': [[0.0, 2799.4561047255993, 2799.4561047255993, 0.0],\n",
       "   [0.0, 25175.805036682643, 25175.805036682643, 2799.4561047255993],\n",
       "   [0.0, 33563.93088111002, 33563.93088111002, 0.0],\n",
       "   [0.0, 130947.26361362074, 130947.26361362074, 33563.93088111002],\n",
       "   [25175.805036682643,\n",
       "    265458.8526603468,\n",
       "    265458.8526603468,\n",
       "    130947.26361362074],\n",
       "   [0.0, 79185.75470019133, 79185.75470019133, 0.0],\n",
       "   [0.0, 130431.41800412536, 130431.41800412536, 79185.75470019133],\n",
       "   [0.0, 429146.76006835705, 429146.76006835705, 130431.41800412536],\n",
       "   [265458.8526603468,\n",
       "    1083290.4226038605,\n",
       "    1083290.4226038605,\n",
       "    429146.76006835705]],\n",
       "  'ivl': ['3', '1', '2', '7', '0', '6', '5', '8', '4', '9'],\n",
       "  'leaves': [3, 1, 2, 7, 0, 6, 5, 8, 4, 9],\n",
       "  'color_list': ['#ff0000',\n",
       "   '#ff0000',\n",
       "   '#ff0000',\n",
       "   '#ff0000',\n",
       "   '#ff0000',\n",
       "   '#08ff00',\n",
       "   '#08ff00',\n",
       "   '#808080',\n",
       "   '#808080']})"
      ]
     },
     "execution_count": 32,
     "metadata": {},
     "output_type": "execute_result"
    },
    {
     "data": {
      "image/png": "[encoded data removed]",
      "text/plain": [
       "<Figure size 648x432 with 1 Axes>"
      ]
     },
     "metadata": {
      "needs_background": "light"
     },
     "output_type": "display_data"
    }
   ],
   "source": [
    "# simple plotting built into cellstate library\n",
    "cs.plot_hierarchy_scipy(hierarchy_df, n_groups=3)"
   ]
  },
  {
   "cell_type": "markdown",
   "metadata": {},
   "source": [
    "Create a newick string from the hierarchy and use it to generate a Tree in ete3. Check their documentation "
   ]
  },
  {
   "cell_type": "code",
   "execution_count": 33,
   "metadata": {},
   "outputs": [
    {
     "name": "stdout",
     "output_type": "stream",
     "text": [
      "localhost:10.0\r\n"
     ]
    }
   ],
   "source": [
    "# I need to properly set the DISPLAY environment to run ete3 on a remote server\n",
    "# You should probably not run this\n",
    "import os\n",
    "os.environ['DISPLAY'] = 'localhost:10.0'  # match to \n",
    "!echo $DISPLAY"
   ]
  },
  {
   "cell_type": "code",
   "execution_count": 58,
   "metadata": {},
   "outputs": [
    {
     "name": "stdout",
     "output_type": "stream",
     "text": [
      "\n",
      "         /-C0\n",
      "      /-|\n",
      "   /-|   \\-C6\n",
      "  |  |\n",
      "  |   \\-C7\n",
      "--|\n",
      "  |      /-C1\n",
      "  |   /-|\n",
      "   \\-|   \\-C2\n",
      "     |\n",
      "      \\-C3\n"
     ]
    }
   ],
   "source": [
    "from ete3 import Tree\n",
    "newick_string = cs.hierarchy_to_newick(hierarchy_df, clst.clusters, cell_leaves=False)\n",
    "t = Tree(newick_string, format=1)\n",
    "\n",
    "node = t.search_nodes(name=\"I2\")[0]\n",
    "print(node)"
   ]
  },
  {
   "cell_type": "markdown",
   "metadata": {},
   "source": [
    "In the newick format, internal nodes are labelled I0 (root), I1, etc. from the root towards the leaves, following the hierarchy. Cellstate nodes are called C0, C1, ... corresponding to cellstates 0, 1, ... - cells can be included as leaves branching off each cellstate node"
   ]
  },
  {
   "cell_type": "code",
   "execution_count": 34,
   "metadata": {},
   "outputs": [
    {
     "data": {
      "image/png": "[encoded data removed]",
      "text/plain": [
       "<IPython.core.display.Image object>"
      ]
     },
     "execution_count": 34,
     "metadata": {},
     "output_type": "execute_result"
    }
   ],
   "source": [
    "# this built-in function automatically generates a tree visualization with ete3\n",
    "t, ts = cs.plot_hierarchy_ete3(hierarchy_df, clst.clusters, n_groups=3)\n",
    "t.render('%%inline', tree_style=ts)"
   ]
  },
  {
   "cell_type": "markdown",
   "metadata": {},
   "source": [
    "### Finding marker genes"
   ]
  },
  {
   "cell_type": "code",
   "execution_count": 41,
   "metadata": {},
   "outputs": [],
   "source": [
    "# load gene names\n",
    "genes = np.load('./test_data/genes.npy', allow_pickle=True)\n",
    "genes = genes[gene_filter]"
   ]
  },
  {
   "cell_type": "code",
   "execution_count": 62,
   "metadata": {},
   "outputs": [
    {
     "data": {
      "text/html": [
       "<div>\n",
       "<style scoped>\n",
       "    .dataframe tbody tr th:only-of-type {\n",
       "        vertical-align: middle;\n",
       "    }\n",
       "\n",
       "    .dataframe tbody tr th {\n",
       "        vertical-align: top;\n",
       "    }\n",
       "\n",
       "    .dataframe thead th {\n",
       "        text-align: right;\n",
       "    }\n",
       "</style>\n",
       "<table border=\"1\" class=\"dataframe\">\n",
       "  <thead>\n",
       "    <tr style=\"text-align: right;\">\n",
       "      <th></th>\n",
       "      <th>cluster_new</th>\n",
       "      <th>cluster_old</th>\n",
       "      <th>delta_LL</th>\n",
       "      <th>A1BG_AS1__chr19</th>\n",
       "      <th>A1BG__chr19</th>\n",
       "      <th>A1CF__chr10</th>\n",
       "      <th>A2M_AS1__chr12</th>\n",
       "      <th>A2ML1__chr12</th>\n",
       "      <th>A2M__chr12</th>\n",
       "      <th>A4GALT__chr22</th>\n",
       "      <th>...</th>\n",
       "      <th>ZWILCH__chr15</th>\n",
       "      <th>ZWINT__chr10</th>\n",
       "      <th>ZXDA__chrX</th>\n",
       "      <th>ZXDB__chrX</th>\n",
       "      <th>ZXDC__chr3</th>\n",
       "      <th>ZYG11A__chr1</th>\n",
       "      <th>ZYG11B__chr1</th>\n",
       "      <th>ZYX__chr7</th>\n",
       "      <th>ZZEF1__chr17</th>\n",
       "      <th>ZZZ3__chr1</th>\n",
       "    </tr>\n",
       "  </thead>\n",
       "  <tbody>\n",
       "    <tr>\n",
       "      <th>0</th>\n",
       "      <td>1</td>\n",
       "      <td>2</td>\n",
       "      <td>-2.799456e+03</td>\n",
       "      <td>0.008366</td>\n",
       "      <td>-1.102232</td>\n",
       "      <td>-4.232164</td>\n",
       "      <td>0.036251</td>\n",
       "      <td>-0.605492</td>\n",
       "      <td>0.276067</td>\n",
       "      <td>-2.452648</td>\n",
       "      <td>...</td>\n",
       "      <td>-3.019516</td>\n",
       "      <td>-0.964655</td>\n",
       "      <td>1.366641</td>\n",
       "      <td>-0.626765</td>\n",
       "      <td>1.594102</td>\n",
       "      <td>-0.716861</td>\n",
       "      <td>1.566805</td>\n",
       "      <td>-2.391568</td>\n",
       "      <td>0.610499</td>\n",
       "      <td>1.756219</td>\n",
       "    </tr>\n",
       "    <tr>\n",
       "      <th>1</th>\n",
       "      <td>1</td>\n",
       "      <td>3</td>\n",
       "      <td>-2.517581e+04</td>\n",
       "      <td>0.006470</td>\n",
       "      <td>-0.330565</td>\n",
       "      <td>0.142516</td>\n",
       "      <td>0.028037</td>\n",
       "      <td>-0.207337</td>\n",
       "      <td>0.213511</td>\n",
       "      <td>3.089768</td>\n",
       "      <td>...</td>\n",
       "      <td>2.092508</td>\n",
       "      <td>-2.537675</td>\n",
       "      <td>0.012644</td>\n",
       "      <td>-0.939584</td>\n",
       "      <td>-1.454842</td>\n",
       "      <td>0.023723</td>\n",
       "      <td>0.956615</td>\n",
       "      <td>-5.967538</td>\n",
       "      <td>1.208989</td>\n",
       "      <td>1.002209</td>\n",
       "    </tr>\n",
       "    <tr>\n",
       "      <th>2</th>\n",
       "      <td>0</td>\n",
       "      <td>6</td>\n",
       "      <td>-3.356393e+04</td>\n",
       "      <td>-0.610493</td>\n",
       "      <td>-0.493802</td>\n",
       "      <td>-1.327825</td>\n",
       "      <td>2.436164</td>\n",
       "      <td>-1.264768</td>\n",
       "      <td>-2.823463</td>\n",
       "      <td>3.459633</td>\n",
       "      <td>...</td>\n",
       "      <td>1.183685</td>\n",
       "      <td>2.510630</td>\n",
       "      <td>0.555562</td>\n",
       "      <td>-2.730519</td>\n",
       "      <td>1.316217</td>\n",
       "      <td>-1.258036</td>\n",
       "      <td>0.527953</td>\n",
       "      <td>2.398659</td>\n",
       "      <td>1.610231</td>\n",
       "      <td>0.986841</td>\n",
       "    </tr>\n",
       "    <tr>\n",
       "      <th>3</th>\n",
       "      <td>4</td>\n",
       "      <td>9</td>\n",
       "      <td>-7.918575e+04</td>\n",
       "      <td>-0.453485</td>\n",
       "      <td>1.633728</td>\n",
       "      <td>1.811375</td>\n",
       "      <td>3.357344</td>\n",
       "      <td>-1.934031</td>\n",
       "      <td>-0.686837</td>\n",
       "      <td>0.061934</td>\n",
       "      <td>...</td>\n",
       "      <td>1.334888</td>\n",
       "      <td>2.110837</td>\n",
       "      <td>-1.409430</td>\n",
       "      <td>2.185098</td>\n",
       "      <td>-5.472517</td>\n",
       "      <td>-0.946370</td>\n",
       "      <td>-2.749523</td>\n",
       "      <td>0.573528</td>\n",
       "      <td>2.036285</td>\n",
       "      <td>0.459126</td>\n",
       "    </tr>\n",
       "    <tr>\n",
       "      <th>4</th>\n",
       "      <td>4</td>\n",
       "      <td>8</td>\n",
       "      <td>-1.304314e+05</td>\n",
       "      <td>-1.173249</td>\n",
       "      <td>2.086876</td>\n",
       "      <td>-3.554949</td>\n",
       "      <td>3.715520</td>\n",
       "      <td>-0.334183</td>\n",
       "      <td>0.340036</td>\n",
       "      <td>-0.289532</td>\n",
       "      <td>...</td>\n",
       "      <td>0.882052</td>\n",
       "      <td>1.848019</td>\n",
       "      <td>1.155879</td>\n",
       "      <td>2.557124</td>\n",
       "      <td>-2.877914</td>\n",
       "      <td>-1.047200</td>\n",
       "      <td>-0.792281</td>\n",
       "      <td>1.834111</td>\n",
       "      <td>2.449018</td>\n",
       "      <td>2.526647</td>\n",
       "    </tr>\n",
       "    <tr>\n",
       "      <th>5</th>\n",
       "      <td>0</td>\n",
       "      <td>7</td>\n",
       "      <td>-1.309473e+05</td>\n",
       "      <td>0.007100</td>\n",
       "      <td>0.130162</td>\n",
       "      <td>-1.303005</td>\n",
       "      <td>1.338300</td>\n",
       "      <td>-1.891385</td>\n",
       "      <td>-77.638124</td>\n",
       "      <td>3.275564</td>\n",
       "      <td>...</td>\n",
       "      <td>1.802864</td>\n",
       "      <td>1.897307</td>\n",
       "      <td>1.946103</td>\n",
       "      <td>-5.720293</td>\n",
       "      <td>1.021047</td>\n",
       "      <td>3.257286</td>\n",
       "      <td>0.950882</td>\n",
       "      <td>2.441552</td>\n",
       "      <td>0.421395</td>\n",
       "      <td>1.214529</td>\n",
       "    </tr>\n",
       "    <tr>\n",
       "      <th>6</th>\n",
       "      <td>0</td>\n",
       "      <td>1</td>\n",
       "      <td>-2.654589e+05</td>\n",
       "      <td>0.006825</td>\n",
       "      <td>-0.413413</td>\n",
       "      <td>1.326825</td>\n",
       "      <td>-2.771168</td>\n",
       "      <td>3.423143</td>\n",
       "      <td>-61.394725</td>\n",
       "      <td>3.259957</td>\n",
       "      <td>...</td>\n",
       "      <td>1.396531</td>\n",
       "      <td>2.515930</td>\n",
       "      <td>0.363012</td>\n",
       "      <td>-4.712056</td>\n",
       "      <td>1.312069</td>\n",
       "      <td>-1.375344</td>\n",
       "      <td>-1.962104</td>\n",
       "      <td>2.049942</td>\n",
       "      <td>0.151447</td>\n",
       "      <td>0.932372</td>\n",
       "    </tr>\n",
       "    <tr>\n",
       "      <th>7</th>\n",
       "      <td>4</td>\n",
       "      <td>5</td>\n",
       "      <td>-4.291468e+05</td>\n",
       "      <td>-1.616135</td>\n",
       "      <td>1.621051</td>\n",
       "      <td>-14.045811</td>\n",
       "      <td>0.633909</td>\n",
       "      <td>-0.621690</td>\n",
       "      <td>0.351326</td>\n",
       "      <td>0.074524</td>\n",
       "      <td>...</td>\n",
       "      <td>2.591703</td>\n",
       "      <td>2.397851</td>\n",
       "      <td>0.168671</td>\n",
       "      <td>1.685523</td>\n",
       "      <td>1.503854</td>\n",
       "      <td>-0.611043</td>\n",
       "      <td>2.287914</td>\n",
       "      <td>1.805347</td>\n",
       "      <td>-0.896838</td>\n",
       "      <td>-1.032231</td>\n",
       "    </tr>\n",
       "    <tr>\n",
       "      <th>8</th>\n",
       "      <td>0</td>\n",
       "      <td>4</td>\n",
       "      <td>-1.083290e+06</td>\n",
       "      <td>-0.175209</td>\n",
       "      <td>-0.417827</td>\n",
       "      <td>-6.662264</td>\n",
       "      <td>3.049471</td>\n",
       "      <td>-1.730135</td>\n",
       "      <td>-76.722873</td>\n",
       "      <td>-3.448556</td>\n",
       "      <td>...</td>\n",
       "      <td>1.832141</td>\n",
       "      <td>0.596680</td>\n",
       "      <td>1.440872</td>\n",
       "      <td>-4.955827</td>\n",
       "      <td>-1.041175</td>\n",
       "      <td>-1.723104</td>\n",
       "      <td>-1.557746</td>\n",
       "      <td>-16.711297</td>\n",
       "      <td>1.561580</td>\n",
       "      <td>1.197210</td>\n",
       "    </tr>\n",
       "  </tbody>\n",
       "</table>\n",
       "<p>9 rows × 18874 columns</p>\n",
       "</div>"
      ],
      "text/plain": [
       "   cluster_new  cluster_old      delta_LL  A1BG_AS1__chr19  A1BG__chr19  \\\n",
       "0            1            2 -2.799456e+03         0.008366    -1.102232   \n",
       "1            1            3 -2.517581e+04         0.006470    -0.330565   \n",
       "2            0            6 -3.356393e+04        -0.610493    -0.493802   \n",
       "3            4            9 -7.918575e+04        -0.453485     1.633728   \n",
       "4            4            8 -1.304314e+05        -1.173249     2.086876   \n",
       "5            0            7 -1.309473e+05         0.007100     0.130162   \n",
       "6            0            1 -2.654589e+05         0.006825    -0.413413   \n",
       "7            4            5 -4.291468e+05        -1.616135     1.621051   \n",
       "8            0            4 -1.083290e+06        -0.175209    -0.417827   \n",
       "\n",
       "   A1CF__chr10  A2M_AS1__chr12  A2ML1__chr12  A2M__chr12  A4GALT__chr22  ...  \\\n",
       "0    -4.232164        0.036251     -0.605492    0.276067      -2.452648  ...   \n",
       "1     0.142516        0.028037     -0.207337    0.213511       3.089768  ...   \n",
       "2    -1.327825        2.436164     -1.264768   -2.823463       3.459633  ...   \n",
       "3     1.811375        3.357344     -1.934031   -0.686837       0.061934  ...   \n",
       "4    -3.554949        3.715520     -0.334183    0.340036      -0.289532  ...   \n",
       "5    -1.303005        1.338300     -1.891385  -77.638124       3.275564  ...   \n",
       "6     1.326825       -2.771168      3.423143  -61.394725       3.259957  ...   \n",
       "7   -14.045811        0.633909     -0.621690    0.351326       0.074524  ...   \n",
       "8    -6.662264        3.049471     -1.730135  -76.722873      -3.448556  ...   \n",
       "\n",
       "   ZWILCH__chr15  ZWINT__chr10  ZXDA__chrX  ZXDB__chrX  ZXDC__chr3  \\\n",
       "0      -3.019516     -0.964655    1.366641   -0.626765    1.594102   \n",
       "1       2.092508     -2.537675    0.012644   -0.939584   -1.454842   \n",
       "2       1.183685      2.510630    0.555562   -2.730519    1.316217   \n",
       "3       1.334888      2.110837   -1.409430    2.185098   -5.472517   \n",
       "4       0.882052      1.848019    1.155879    2.557124   -2.877914   \n",
       "5       1.802864      1.897307    1.946103   -5.720293    1.021047   \n",
       "6       1.396531      2.515930    0.363012   -4.712056    1.312069   \n",
       "7       2.591703      2.397851    0.168671    1.685523    1.503854   \n",
       "8       1.832141      0.596680    1.440872   -4.955827   -1.041175   \n",
       "\n",
       "   ZYG11A__chr1  ZYG11B__chr1  ZYX__chr7  ZZEF1__chr17  ZZZ3__chr1  \n",
       "0     -0.716861      1.566805  -2.391568      0.610499    1.756219  \n",
       "1      0.023723      0.956615  -5.967538      1.208989    1.002209  \n",
       "2     -1.258036      0.527953   2.398659      1.610231    0.986841  \n",
       "3     -0.946370     -2.749523   0.573528      2.036285    0.459126  \n",
       "4     -1.047200     -0.792281   1.834111      2.449018    2.526647  \n",
       "5      3.257286      0.950882   2.441552      0.421395    1.214529  \n",
       "6     -1.375344     -1.962104   2.049942      0.151447    0.932372  \n",
       "7     -0.611043      2.287914   1.805347     -0.896838   -1.032231  \n",
       "8     -1.723104     -1.557746 -16.711297      1.561580    1.197210  \n",
       "\n",
       "[9 rows x 18874 columns]"
      ]
     },
     "execution_count": 62,
     "metadata": {},
     "output_type": "execute_result"
    }
   ],
   "source": [
    "# Scores can be calculated in python from a new Cluster object\n",
    "score_table = cs.marker_score_table(clst, hierarchy_df)\n",
    "\n",
    "score_df = pd.concat([hierarchy_df, pd.DataFrame(score_table, columns=genes)], axis=1)\n",
    "score_df\n"
   ]
  },
  {
   "cell_type": "code",
   "execution_count": 70,
   "metadata": {},
   "outputs": [],
   "source": [
    "# Alternatively, load results from a previous run\n",
    "score_df = pd.read_csv('./test_results/hierarchy_gene_scores.tsv', sep='\\t')\n",
    "gene_scores = score_df.iloc[:, 3:]"
   ]
  },
  {
   "cell_type": "markdown",
   "metadata": {},
   "source": [
    "The scores allow you to check which genes were important in each step of the hierarchy. \n",
    "The following analysis shows the important genes for the second to last merge (clusters 4 and 5 get merged). "
   ]
  },
  {
   "cell_type": "code",
   "execution_count": 132,
   "metadata": {},
   "outputs": [
    {
     "data": {
      "text/plain": [
       "array(['SST__chr3', 'GCG__chr2', 'TTR__chr18', 'RBP4__chr10',\n",
       "       'PCSK1__chr5', 'ALDH1A1__chr9', 'MALAT1__chr11', 'TM4SF4__chr3',\n",
       "       'GC__chr4', 'CHGB__chr20', 'SEC11C__chr18', 'PRG4__chr1',\n",
       "       'AQP3__chr9', 'SCG2__chr2', 'VGF__chr7', 'PCSK2__chr20',\n",
       "       'HADH__chr4', 'RGS2__chr1', 'LEPR__chr1', 'LOXL4__chr10'],\n",
       "      dtype=object)"
      ]
     },
     "execution_count": 132,
     "metadata": {},
     "output_type": "execute_result"
    }
   ],
   "source": [
    "n_groups = 3  # number of clusters left at the point we consider in the hierarchy\n",
    "n_merges = hierarchy_df.shape[0]\n",
    "n_steps = n_merges - n_groups + 1\n",
    "\n",
    "n_top = 20  # number of top genes considered\n",
    "gene_importance_order = np.argsort(gene_scores.loc[n_steps])\n",
    "top_genes = genes[gene_importance_order[:n_top]]\n",
    "top_genes"
   ]
  },
  {
   "cell_type": "markdown",
   "metadata": {},
   "source": [
    "We can also find the clusters at this point in the hierarchy:"
   ]
  },
  {
   "cell_type": "code",
   "execution_count": 133,
   "metadata": {},
   "outputs": [
    {
     "data": {
      "text/plain": [
       "(<Figure size 720x360 with 2 Axes>,\n",
       " array([<matplotlib.axes._subplots.AxesSubplot object at 0x7fa116506c88>,\n",
       "        <matplotlib.axes._subplots.AxesSubplot object at 0x7fa116531e48>],\n",
       "       dtype=object))"
      ]
     },
     "execution_count": 133,
     "metadata": {},
     "output_type": "execute_result"
    },
    {
     "data": {
      "image/png": "[encoded data removed]",
      "text/plain": [
       "<Figure size 720x360 with 2 Axes>"
      ]
     },
     "metadata": {
      "needs_background": "light"
     },
     "output_type": "display_data"
    }
   ],
   "source": [
    "merged_clusters = cs.clusters_from_hierarchy(hierarchy_df, clst.clusters.copy(), n_steps)\n",
    "merged_clst = cs.Cluster(data[gene_filter, :], clst.dirichlet_pseudocounts, merged_clusters)\n",
    "plot_pca(merged_clusters)"
   ]
  },
  {
   "cell_type": "markdown",
   "metadata": {},
   "source": [
    "Next, we find the inferred gene expression states of these higher-order clusters. We can choose either to get modal values (`get_expressionstate`) or mean and variance (`get_expressionstate_mv`)"
   ]
  },
  {
   "cell_type": "code",
   "execution_count": 134,
   "metadata": {},
   "outputs": [
    {
     "data": {
      "text/html": [
       "<div>\n",
       "<style scoped>\n",
       "    .dataframe tbody tr th:only-of-type {\n",
       "        vertical-align: middle;\n",
       "    }\n",
       "\n",
       "    .dataframe tbody tr th {\n",
       "        vertical-align: top;\n",
       "    }\n",
       "\n",
       "    .dataframe thead th {\n",
       "        text-align: right;\n",
       "    }\n",
       "</style>\n",
       "<table border=\"1\" class=\"dataframe\">\n",
       "  <thead>\n",
       "    <tr style=\"text-align: right;\">\n",
       "      <th></th>\n",
       "      <th>SST__chr3</th>\n",
       "      <th>GCG__chr2</th>\n",
       "      <th>TTR__chr18</th>\n",
       "      <th>RBP4__chr10</th>\n",
       "      <th>PCSK1__chr5</th>\n",
       "      <th>ALDH1A1__chr9</th>\n",
       "      <th>MALAT1__chr11</th>\n",
       "      <th>TM4SF4__chr3</th>\n",
       "      <th>GC__chr4</th>\n",
       "      <th>CHGB__chr20</th>\n",
       "      <th>SEC11C__chr18</th>\n",
       "      <th>PRG4__chr1</th>\n",
       "      <th>AQP3__chr9</th>\n",
       "      <th>SCG2__chr2</th>\n",
       "      <th>VGF__chr7</th>\n",
       "      <th>PCSK2__chr20</th>\n",
       "      <th>HADH__chr4</th>\n",
       "      <th>RGS2__chr1</th>\n",
       "      <th>LEPR__chr1</th>\n",
       "      <th>LOXL4__chr10</th>\n",
       "    </tr>\n",
       "  </thead>\n",
       "  <tbody>\n",
       "    <tr>\n",
       "      <th>0</th>\n",
       "      <td>0.003088</td>\n",
       "      <td>0.003125</td>\n",
       "      <td>0.001498</td>\n",
       "      <td>0.000044</td>\n",
       "      <td>0.000025</td>\n",
       "      <td>0.000400</td>\n",
       "      <td>0.014880</td>\n",
       "      <td>0.000157</td>\n",
       "      <td>0.000105</td>\n",
       "      <td>0.000143</td>\n",
       "      <td>0.000231</td>\n",
       "      <td>0.000016</td>\n",
       "      <td>0.000070</td>\n",
       "      <td>0.000131</td>\n",
       "      <td>0.000074</td>\n",
       "      <td>0.000114</td>\n",
       "      <td>0.000068</td>\n",
       "      <td>0.000092</td>\n",
       "      <td>0.000014</td>\n",
       "      <td>0.000024</td>\n",
       "    </tr>\n",
       "    <tr>\n",
       "      <th>4</th>\n",
       "      <td>0.028766</td>\n",
       "      <td>0.004346</td>\n",
       "      <td>0.006558</td>\n",
       "      <td>0.003981</td>\n",
       "      <td>0.001456</td>\n",
       "      <td>0.000891</td>\n",
       "      <td>0.026086</td>\n",
       "      <td>0.000346</td>\n",
       "      <td>0.000164</td>\n",
       "      <td>0.002073</td>\n",
       "      <td>0.001527</td>\n",
       "      <td>0.000354</td>\n",
       "      <td>0.000518</td>\n",
       "      <td>0.001994</td>\n",
       "      <td>0.001007</td>\n",
       "      <td>0.001092</td>\n",
       "      <td>0.000757</td>\n",
       "      <td>0.000253</td>\n",
       "      <td>0.000133</td>\n",
       "      <td>0.000024</td>\n",
       "    </tr>\n",
       "    <tr>\n",
       "      <th>5</th>\n",
       "      <td>0.005040</td>\n",
       "      <td>0.075560</td>\n",
       "      <td>0.046550</td>\n",
       "      <td>0.000132</td>\n",
       "      <td>0.000114</td>\n",
       "      <td>0.003945</td>\n",
       "      <td>0.035738</td>\n",
       "      <td>0.002670</td>\n",
       "      <td>0.001921</td>\n",
       "      <td>0.007176</td>\n",
       "      <td>0.000599</td>\n",
       "      <td>0.000022</td>\n",
       "      <td>0.000057</td>\n",
       "      <td>0.004053</td>\n",
       "      <td>0.002934</td>\n",
       "      <td>0.003819</td>\n",
       "      <td>0.000035</td>\n",
       "      <td>0.000031</td>\n",
       "      <td>0.000008</td>\n",
       "      <td>0.000769</td>\n",
       "    </tr>\n",
       "  </tbody>\n",
       "</table>\n",
       "</div>"
      ],
      "text/plain": [
       "   SST__chr3  GCG__chr2  TTR__chr18  RBP4__chr10  PCSK1__chr5  ALDH1A1__chr9  \\\n",
       "0   0.003088   0.003125    0.001498     0.000044     0.000025       0.000400   \n",
       "4   0.028766   0.004346    0.006558     0.003981     0.001456       0.000891   \n",
       "5   0.005040   0.075560    0.046550     0.000132     0.000114       0.003945   \n",
       "\n",
       "   MALAT1__chr11  TM4SF4__chr3  GC__chr4  CHGB__chr20  SEC11C__chr18  \\\n",
       "0       0.014880      0.000157  0.000105     0.000143       0.000231   \n",
       "4       0.026086      0.000346  0.000164     0.002073       0.001527   \n",
       "5       0.035738      0.002670  0.001921     0.007176       0.000599   \n",
       "\n",
       "   PRG4__chr1  AQP3__chr9  SCG2__chr2  VGF__chr7  PCSK2__chr20  HADH__chr4  \\\n",
       "0    0.000016    0.000070    0.000131   0.000074      0.000114    0.000068   \n",
       "4    0.000354    0.000518    0.001994   0.001007      0.001092    0.000757   \n",
       "5    0.000022    0.000057    0.004053   0.002934      0.003819    0.000035   \n",
       "\n",
       "   RGS2__chr1  LEPR__chr1  LOXL4__chr10  \n",
       "0    0.000092    0.000014      0.000024  \n",
       "4    0.000253    0.000133      0.000024  \n",
       "5    0.000031    0.000008      0.000769  "
      ]
     },
     "execution_count": 134,
     "metadata": {},
     "output_type": "execute_result"
    }
   ],
   "source": [
    "cluster_labels, = np.nonzero(merged_clst.cluster_sizes)\n",
    "expressionstates = pd.DataFrame(np.vstack([merged_clst.get_expressionstate(c) for c in cluster_labels]),\n",
    "                                columns=genes, index=cluster_labels)\n",
    "expressionstates[top_genes]"
   ]
  },
  {
   "cell_type": "markdown",
   "metadata": {},
   "source": [
    "If we plot these in a heatmap, it is easy to see that these genes separate clusters 4 and 5"
   ]
  },
  {
   "cell_type": "code",
   "execution_count": 135,
   "metadata": {},
   "outputs": [
    {
     "data": {
      "text/plain": [
       "<matplotlib.axes._subplots.AxesSubplot at 0x7fa12bcc8c18>"
      ]
     },
     "execution_count": 135,
     "metadata": {},
     "output_type": "execute_result"
    },
    {
     "data": {
      "image/png": "[encoded data removed]",
      "text/plain": [
       "<Figure size 432x288 with 2 Axes>"
      ]
     },
     "metadata": {
      "needs_background": "light"
     },
     "output_type": "display_data"
    }
   ],
   "source": [
    "import seaborn as sns\n",
    "sns.heatmap(np.log(expressionstates[top_genes]), cmap='RdBu_r')"
   ]
  },
  {
   "cell_type": "markdown",
   "metadata": {},
   "source": [
    "Conversely, genes that have large positive scores will be very similar between these clusters"
   ]
  },
  {
   "cell_type": "markdown",
   "metadata": {},
   "source": [
    "we can also look at the raw counts for these"
   ]
  },
  {
   "cell_type": "code",
   "execution_count": 140,
   "metadata": {},
   "outputs": [
    {
     "data": {
      "text/html": [
       "<div>\n",
       "<style scoped>\n",
       "    .dataframe tbody tr th:only-of-type {\n",
       "        vertical-align: middle;\n",
       "    }\n",
       "\n",
       "    .dataframe tbody tr th {\n",
       "        vertical-align: top;\n",
       "    }\n",
       "\n",
       "    .dataframe thead th {\n",
       "        text-align: right;\n",
       "    }\n",
       "</style>\n",
       "<table border=\"1\" class=\"dataframe\">\n",
       "  <thead>\n",
       "    <tr style=\"text-align: right;\">\n",
       "      <th></th>\n",
       "      <th>ANXA4__chr2</th>\n",
       "      <th>COL1A1__chr17</th>\n",
       "      <th>ALB__chr4</th>\n",
       "      <th>CEL__chr9</th>\n",
       "      <th>CTRB1__chr16</th>\n",
       "      <th>CPA2__chr7</th>\n",
       "      <th>SPARC__chr5</th>\n",
       "      <th>CELA3A__chr1</th>\n",
       "      <th>PLA2G1B__chr12</th>\n",
       "      <th>CPA1__chr7</th>\n",
       "      <th>INS__chr11</th>\n",
       "      <th>PNLIP__chr10</th>\n",
       "      <th>IAPP__chr12</th>\n",
       "      <th>OLFM4__chr13</th>\n",
       "      <th>CTRB2__chr16</th>\n",
       "      <th>PRSS1__chr7</th>\n",
       "      <th>REG3A__chr2</th>\n",
       "      <th>REG1B__chr2</th>\n",
       "      <th>PPY__chr17</th>\n",
       "      <th>REG1A__chr2</th>\n",
       "    </tr>\n",
       "  </thead>\n",
       "  <tbody>\n",
       "    <tr>\n",
       "      <th>0</th>\n",
       "      <td>2.033968</td>\n",
       "      <td>-10.703619</td>\n",
       "      <td>-592.544374</td>\n",
       "      <td>-166.863872</td>\n",
       "      <td>-164.042808</td>\n",
       "      <td>-213.464548</td>\n",
       "      <td>-7.434070</td>\n",
       "      <td>-189.008917</td>\n",
       "      <td>-279.898470</td>\n",
       "      <td>-217.702222</td>\n",
       "      <td>32.092957</td>\n",
       "      <td>-620.061865</td>\n",
       "      <td>24.976374</td>\n",
       "      <td>26.793446</td>\n",
       "      <td>-382.339594</td>\n",
       "      <td>-587.673727</td>\n",
       "      <td>-1883.291310</td>\n",
       "      <td>-968.770190</td>\n",
       "      <td>65.877161</td>\n",
       "      <td>-163.595072</td>\n",
       "    </tr>\n",
       "    <tr>\n",
       "      <th>1</th>\n",
       "      <td>-74.386322</td>\n",
       "      <td>11.038291</td>\n",
       "      <td>-16.758926</td>\n",
       "      <td>-3374.169274</td>\n",
       "      <td>-1591.957300</td>\n",
       "      <td>-687.891701</td>\n",
       "      <td>4.980301</td>\n",
       "      <td>-2302.034104</td>\n",
       "      <td>-1111.750719</td>\n",
       "      <td>-2619.012341</td>\n",
       "      <td>28.923776</td>\n",
       "      <td>-2553.127864</td>\n",
       "      <td>23.914890</td>\n",
       "      <td>-73.963617</td>\n",
       "      <td>-2016.876262</td>\n",
       "      <td>-2765.584684</td>\n",
       "      <td>-2.460608</td>\n",
       "      <td>-891.230336</td>\n",
       "      <td>47.140522</td>\n",
       "      <td>-232.862918</td>\n",
       "    </tr>\n",
       "    <tr>\n",
       "      <th>2</th>\n",
       "      <td>1.739828</td>\n",
       "      <td>-2528.693299</td>\n",
       "      <td>4.835941</td>\n",
       "      <td>3.846510</td>\n",
       "      <td>5.021033</td>\n",
       "      <td>3.056822</td>\n",
       "      <td>-263.046275</td>\n",
       "      <td>5.728619</td>\n",
       "      <td>2.329755</td>\n",
       "      <td>8.720305</td>\n",
       "      <td>26.498244</td>\n",
       "      <td>10.110102</td>\n",
       "      <td>23.124166</td>\n",
       "      <td>9.586710</td>\n",
       "      <td>15.665241</td>\n",
       "      <td>13.111083</td>\n",
       "      <td>-2.370517</td>\n",
       "      <td>-1.121320</td>\n",
       "      <td>-211.876723</td>\n",
       "      <td>8.677056</td>\n",
       "    </tr>\n",
       "    <tr>\n",
       "      <th>3</th>\n",
       "      <td>2.287774</td>\n",
       "      <td>2.657510</td>\n",
       "      <td>5.430648</td>\n",
       "      <td>-18.418752</td>\n",
       "      <td>-68.389515</td>\n",
       "      <td>-0.513271</td>\n",
       "      <td>6.582555</td>\n",
       "      <td>-3.004534</td>\n",
       "      <td>-33.856519</td>\n",
       "      <td>-66.510415</td>\n",
       "      <td>0.273096</td>\n",
       "      <td>-30.887267</td>\n",
       "      <td>-90.412088</td>\n",
       "      <td>12.883416</td>\n",
       "      <td>-31.276698</td>\n",
       "      <td>-35.937247</td>\n",
       "      <td>22.973937</td>\n",
       "      <td>-84.600639</td>\n",
       "      <td>-34239.681576</td>\n",
       "      <td>-161.819038</td>\n",
       "    </tr>\n",
       "    <tr>\n",
       "      <th>4</th>\n",
       "      <td>-5.855237</td>\n",
       "      <td>5.441686</td>\n",
       "      <td>5.701485</td>\n",
       "      <td>7.611552</td>\n",
       "      <td>6.246902</td>\n",
       "      <td>5.528053</td>\n",
       "      <td>4.588775</td>\n",
       "      <td>7.306006</td>\n",
       "      <td>8.841480</td>\n",
       "      <td>9.626013</td>\n",
       "      <td>-4856.939301</td>\n",
       "      <td>13.646516</td>\n",
       "      <td>-4643.743883</td>\n",
       "      <td>15.126853</td>\n",
       "      <td>20.013802</td>\n",
       "      <td>19.578398</td>\n",
       "      <td>23.510648</td>\n",
       "      <td>38.776124</td>\n",
       "      <td>27.737777</td>\n",
       "      <td>56.016068</td>\n",
       "    </tr>\n",
       "    <tr>\n",
       "      <th>5</th>\n",
       "      <td>-433.918336</td>\n",
       "      <td>8.821468</td>\n",
       "      <td>4.606710</td>\n",
       "      <td>4.865783</td>\n",
       "      <td>5.423044</td>\n",
       "      <td>3.131676</td>\n",
       "      <td>-743.962841</td>\n",
       "      <td>5.821316</td>\n",
       "      <td>4.485339</td>\n",
       "      <td>9.108449</td>\n",
       "      <td>26.936781</td>\n",
       "      <td>10.581550</td>\n",
       "      <td>23.186167</td>\n",
       "      <td>-164.987940</td>\n",
       "      <td>17.212350</td>\n",
       "      <td>13.470860</td>\n",
       "      <td>3.228799</td>\n",
       "      <td>0.932688</td>\n",
       "      <td>-278.983615</td>\n",
       "      <td>27.605642</td>\n",
       "    </tr>\n",
       "    <tr>\n",
       "      <th>6</th>\n",
       "      <td>-113.559555</td>\n",
       "      <td>11.088987</td>\n",
       "      <td>-135.449653</td>\n",
       "      <td>-75.748764</td>\n",
       "      <td>-119.062088</td>\n",
       "      <td>-142.836065</td>\n",
       "      <td>-614.077938</td>\n",
       "      <td>-97.141756</td>\n",
       "      <td>-228.605355</td>\n",
       "      <td>-305.310313</td>\n",
       "      <td>26.926846</td>\n",
       "      <td>-322.060283</td>\n",
       "      <td>23.161142</td>\n",
       "      <td>-976.024666</td>\n",
       "      <td>-893.282170</td>\n",
       "      <td>-490.804207</td>\n",
       "      <td>-1420.969694</td>\n",
       "      <td>-1690.509324</td>\n",
       "      <td>-186.496789</td>\n",
       "      <td>-3913.944673</td>\n",
       "    </tr>\n",
       "    <tr>\n",
       "      <th>7</th>\n",
       "      <td>5.374097</td>\n",
       "      <td>5.581568</td>\n",
       "      <td>5.987500</td>\n",
       "      <td>6.252352</td>\n",
       "      <td>6.407347</td>\n",
       "      <td>6.907503</td>\n",
       "      <td>6.959784</td>\n",
       "      <td>6.982354</td>\n",
       "      <td>8.752667</td>\n",
       "      <td>10.849471</td>\n",
       "      <td>11.881194</td>\n",
       "      <td>13.314381</td>\n",
       "      <td>13.421749</td>\n",
       "      <td>15.201683</td>\n",
       "      <td>18.988343</td>\n",
       "      <td>19.657412</td>\n",
       "      <td>23.386956</td>\n",
       "      <td>39.574937</td>\n",
       "      <td>49.824016</td>\n",
       "      <td>54.377829</td>\n",
       "    </tr>\n",
       "    <tr>\n",
       "      <th>8</th>\n",
       "      <td>3.116249</td>\n",
       "      <td>8.639791</td>\n",
       "      <td>5.343708</td>\n",
       "      <td>4.255911</td>\n",
       "      <td>5.336033</td>\n",
       "      <td>1.125820</td>\n",
       "      <td>-740.604656</td>\n",
       "      <td>5.812638</td>\n",
       "      <td>3.059039</td>\n",
       "      <td>9.403414</td>\n",
       "      <td>10.727340</td>\n",
       "      <td>10.451596</td>\n",
       "      <td>11.350849</td>\n",
       "      <td>9.511945</td>\n",
       "      <td>17.245815</td>\n",
       "      <td>12.679907</td>\n",
       "      <td>-3.165570</td>\n",
       "      <td>-20.683259</td>\n",
       "      <td>-125.032266</td>\n",
       "      <td>5.001619</td>\n",
       "    </tr>\n",
       "  </tbody>\n",
       "</table>\n",
       "</div>"
      ],
      "text/plain": [
       "   ANXA4__chr2  COL1A1__chr17   ALB__chr4    CEL__chr9  CTRB1__chr16  \\\n",
       "0     2.033968     -10.703619 -592.544374  -166.863872   -164.042808   \n",
       "1   -74.386322      11.038291  -16.758926 -3374.169274  -1591.957300   \n",
       "2     1.739828   -2528.693299    4.835941     3.846510      5.021033   \n",
       "3     2.287774       2.657510    5.430648   -18.418752    -68.389515   \n",
       "4    -5.855237       5.441686    5.701485     7.611552      6.246902   \n",
       "5  -433.918336       8.821468    4.606710     4.865783      5.423044   \n",
       "6  -113.559555      11.088987 -135.449653   -75.748764   -119.062088   \n",
       "7     5.374097       5.581568    5.987500     6.252352      6.407347   \n",
       "8     3.116249       8.639791    5.343708     4.255911      5.336033   \n",
       "\n",
       "   CPA2__chr7  SPARC__chr5  CELA3A__chr1  PLA2G1B__chr12   CPA1__chr7  \\\n",
       "0 -213.464548    -7.434070   -189.008917     -279.898470  -217.702222   \n",
       "1 -687.891701     4.980301  -2302.034104    -1111.750719 -2619.012341   \n",
       "2    3.056822  -263.046275      5.728619        2.329755     8.720305   \n",
       "3   -0.513271     6.582555     -3.004534      -33.856519   -66.510415   \n",
       "4    5.528053     4.588775      7.306006        8.841480     9.626013   \n",
       "5    3.131676  -743.962841      5.821316        4.485339     9.108449   \n",
       "6 -142.836065  -614.077938    -97.141756     -228.605355  -305.310313   \n",
       "7    6.907503     6.959784      6.982354        8.752667    10.849471   \n",
       "8    1.125820  -740.604656      5.812638        3.059039     9.403414   \n",
       "\n",
       "    INS__chr11  PNLIP__chr10  IAPP__chr12  OLFM4__chr13  CTRB2__chr16  \\\n",
       "0    32.092957   -620.061865    24.976374     26.793446   -382.339594   \n",
       "1    28.923776  -2553.127864    23.914890    -73.963617  -2016.876262   \n",
       "2    26.498244     10.110102    23.124166      9.586710     15.665241   \n",
       "3     0.273096    -30.887267   -90.412088     12.883416    -31.276698   \n",
       "4 -4856.939301     13.646516 -4643.743883     15.126853     20.013802   \n",
       "5    26.936781     10.581550    23.186167   -164.987940     17.212350   \n",
       "6    26.926846   -322.060283    23.161142   -976.024666   -893.282170   \n",
       "7    11.881194     13.314381    13.421749     15.201683     18.988343   \n",
       "8    10.727340     10.451596    11.350849      9.511945     17.245815   \n",
       "\n",
       "   PRSS1__chr7  REG3A__chr2  REG1B__chr2    PPY__chr17  REG1A__chr2  \n",
       "0  -587.673727 -1883.291310  -968.770190     65.877161  -163.595072  \n",
       "1 -2765.584684    -2.460608  -891.230336     47.140522  -232.862918  \n",
       "2    13.111083    -2.370517    -1.121320   -211.876723     8.677056  \n",
       "3   -35.937247    22.973937   -84.600639 -34239.681576  -161.819038  \n",
       "4    19.578398    23.510648    38.776124     27.737777    56.016068  \n",
       "5    13.470860     3.228799     0.932688   -278.983615    27.605642  \n",
       "6  -490.804207 -1420.969694 -1690.509324   -186.496789 -3913.944673  \n",
       "7    19.657412    23.386956    39.574937     49.824016    54.377829  \n",
       "8    12.679907    -3.165570   -20.683259   -125.032266     5.001619  "
      ]
     },
     "execution_count": 140,
     "metadata": {},
     "output_type": "execute_result"
    }
   ],
   "source": [
    "gene_scores[bottom_genes]"
   ]
  },
  {
   "cell_type": "code",
   "execution_count": 136,
   "metadata": {},
   "outputs": [
    {
     "data": {
      "text/plain": [
       "<matplotlib.axes._subplots.AxesSubplot at 0x7fa12bc525f8>"
      ]
     },
     "execution_count": 136,
     "metadata": {},
     "output_type": "execute_result"
    },
    {
     "data": {
      "image/png": "[encoded data removed]",
      "text/plain": [
       "<Figure size 432x288 with 2 Axes>"
      ]
     },
     "metadata": {
      "needs_background": "light"
     },
     "output_type": "display_data"
    }
   ],
   "source": [
    "bottom_genes = genes[gene_importance_order[-n_top:]]\n",
    "\n",
    "sns.heatmap(np.log(expressionstates[bottom_genes]), cmap='RdBu_r')"
   ]
  },
  {
   "cell_type": "code",
   "execution_count": 142,
   "metadata": {},
   "outputs": [
    {
     "data": {
      "text/plain": [
       "array([[ 4851,   198,   319],\n",
       "       [ 8685,   286,   300],\n",
       "       [ 2897,    41,    42],\n",
       "       [ 4341,   125,    52],\n",
       "       [ 3417,   167,    69],\n",
       "       [ 3214,    52,    38],\n",
       "       [ 4216,    67,    96],\n",
       "       [ 3722,    72,    67],\n",
       "       [ 5076,   168,    87],\n",
       "       [ 7035,   259,   198],\n",
       "       [  109, 15894,   612],\n",
       "       [ 8354,   216,   119],\n",
       "       [  201, 15849,   742],\n",
       "       [ 9298,   179,   195],\n",
       "       [14192,   507,   337],\n",
       "       [10703,   241,   151],\n",
       "       [25390,  1513,  1479],\n",
       "       [25743,   765,   602],\n",
       "       [  490, 36722,  1080],\n",
       "       [45056,  2076,  1804]])"
      ]
     },
     "execution_count": 142,
     "metadata": {},
     "output_type": "execute_result"
    }
   ],
   "source": [
    "merged_clst.cluster_umi_counts[gene_importance_order[-n_top:]][:, cluster_labels]"
   ]
  }
 ],
 "metadata": {
  "kernelspec": {
   "display_name": "Python 3",
   "language": "python",
   "name": "python3"
  },
  "language_info": {
   "codemirror_mode": {
    "name": "ipython",
    "version": 3
   },
   "file_extension": ".py",
   "mimetype": "text/x-python",
   "name": "python",
   "nbconvert_exporter": "python",
   "pygments_lexer": "ipython3",
   "version": "3.6.8"
  }
 },
 "nbformat": 4,
 "nbformat_minor": 2
}
